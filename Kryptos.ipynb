{
 "cells": [
  {
   "cell_type": "markdown",
   "metadata": {
    "toc": "true"
   },
   "source": [
    "# Table of Contents\n",
    " <p><div class=\"lev1 toc-item\"><a href=\"#Kryptos-Decoding-From-Scratch\" data-toc-modified-id=\"Kryptos-Decoding-From-Scratch-1\"><span class=\"toc-item-num\">1&nbsp;&nbsp;</span>Kryptos Decoding From Scratch</a></div><div class=\"lev2 toc-item\"><a href=\"#Introduction\" data-toc-modified-id=\"Introduction-11\"><span class=\"toc-item-num\">1.1&nbsp;&nbsp;</span>Introduction</a></div><div class=\"lev2 toc-item\"><a href=\"#References\" data-toc-modified-id=\"References-12\"><span class=\"toc-item-num\">1.2&nbsp;&nbsp;</span>References</a></div><div class=\"lev1 toc-item\"><a href=\"#2-Easier-Pieces:-Caesar-meets-Vigenere\" data-toc-modified-id=\"2-Easier-Pieces:-Caesar-meets-Vigenere-2\"><span class=\"toc-item-num\">2&nbsp;&nbsp;</span>2 Easier Pieces: Caesar meets Vigenere</a></div><div class=\"lev2 toc-item\"><a href=\"#Caesar-Cipher\" data-toc-modified-id=\"Caesar-Cipher-21\"><span class=\"toc-item-num\">2.1&nbsp;&nbsp;</span>Caesar Cipher</a></div><div class=\"lev3 toc-item\"><a href=\"#Caesar-Cipher-Solution-#1:-Brute-force\" data-toc-modified-id=\"Caesar-Cipher-Solution-#1:-Brute-force-211\"><span class=\"toc-item-num\">2.1.1&nbsp;&nbsp;</span>Caesar Cipher Solution #1: Brute-force</a></div><div class=\"lev3 toc-item\"><a href=\"#Caesar-Cipher-Solution-#2:-Frequency-Analysis\" data-toc-modified-id=\"Caesar-Cipher-Solution-#2:-Frequency-Analysis-212\"><span class=\"toc-item-num\">2.1.2&nbsp;&nbsp;</span>Caesar Cipher Solution #2: Frequency Analysis</a></div><div class=\"lev3 toc-item\"><a href=\"#CHALLENGE:-aligning-frequency-distributions-to-determine-the-Caesar-key\" data-toc-modified-id=\"CHALLENGE:-aligning-frequency-distributions-to-determine-the-Caesar-key-213\"><span class=\"toc-item-num\">2.1.3&nbsp;&nbsp;</span>CHALLENGE: aligning frequency distributions to determine the Caesar key</a></div><div class=\"lev3 toc-item\"><a href=\"#Caesar-Cipher-Solution-#3:-Chi-squared-Statistic\" data-toc-modified-id=\"Caesar-Cipher-Solution-#3:-Chi-squared-Statistic-214\"><span class=\"toc-item-num\">2.1.4&nbsp;&nbsp;</span>Caesar Cipher Solution #3: Chi-squared Statistic</a></div><div class=\"lev3 toc-item\"><a href=\"#Caesar-Cipher-Solution-#4:-Maximum-likelihood\" data-toc-modified-id=\"Caesar-Cipher-Solution-#4:-Maximum-likelihood-215\"><span class=\"toc-item-num\">2.1.5&nbsp;&nbsp;</span>Caesar Cipher Solution #4: Maximum likelihood</a></div><div class=\"lev4 toc-item\"><a href=\"#Computing-likelihood-based-on-observed-n-grams\" data-toc-modified-id=\"Computing-likelihood-based-on-observed-n-grams-2151\"><span class=\"toc-item-num\">2.1.5.1&nbsp;&nbsp;</span>Computing likelihood based on observed n-grams</a></div><div class=\"lev4 toc-item\"><a href=\"#Computing-n-gram-statistics-for-a-language\" data-toc-modified-id=\"Computing-n-gram-statistics-for-a-language-2152\"><span class=\"toc-item-num\">2.1.5.2&nbsp;&nbsp;</span>Computing n-gram statistics for a language</a></div><div class=\"lev4 toc-item\"><a href=\"#Cracking-Caesar-Cipher-using-Maximum-Likelihood\" data-toc-modified-id=\"Cracking-Caesar-Cipher-using-Maximum-Likelihood-2153\"><span class=\"toc-item-num\">2.1.5.3&nbsp;&nbsp;</span>Cracking Caesar Cipher using Maximum Likelihood</a></div><div class=\"lev2 toc-item\"><a href=\"#Vigenere\" data-toc-modified-id=\"Vigenere-22\"><span class=\"toc-item-num\">2.2&nbsp;&nbsp;</span>Vigenere</a></div><div class=\"lev3 toc-item\"><a href=\"#Vigenere-Solution-#0:-Manually-Cracking-a-Vigenere-Cipher\" data-toc-modified-id=\"Vigenere-Solution-#0:-Manually-Cracking-a-Vigenere-Cipher-221\"><span class=\"toc-item-num\">2.2.1&nbsp;&nbsp;</span>Vigenere Solution #0: Manually Cracking a Vigenere Cipher</a></div><div class=\"lev3 toc-item\"><a href=\"#CHALLENGE:-Manually-Cracking-a-Vigenere-Cipher\" data-toc-modified-id=\"CHALLENGE:-Manually-Cracking-a-Vigenere-Cipher-222\"><span class=\"toc-item-num\">2.2.2&nbsp;&nbsp;</span>CHALLENGE: Manually Cracking a Vigenere Cipher</a></div><div class=\"lev3 toc-item\"><a href=\"#Index-of-Coincidence-(IC)\" data-toc-modified-id=\"Index-of-Coincidence-(IC)-223\"><span class=\"toc-item-num\">2.2.3&nbsp;&nbsp;</span>Index of Coincidence (IC)</a></div><div class=\"lev3 toc-item\"><a href=\"#Determining-Vigenere-Key-Length-using-IC\" data-toc-modified-id=\"Determining-Vigenere-Key-Length-using-IC-224\"><span class=\"toc-item-num\">2.2.4&nbsp;&nbsp;</span>Determining Vigenere Key Length using IC</a></div><div class=\"lev2 toc-item\"><a href=\"#Vigenere-Solution-#1:-Chi-square-Criterion-for-Automatically-Determining-the-Best-Key\" data-toc-modified-id=\"Vigenere-Solution-#1:-Chi-square-Criterion-for-Automatically-Determining-the-Best-Key-23\"><span class=\"toc-item-num\">2.3&nbsp;&nbsp;</span>Vigenere Solution #1: Chi-square Criterion for Automatically Determining the Best Key</a></div><div class=\"lev3 toc-item\"><a href=\"#CHALLENGE:-Using-Chi-square-criterion-to-decrypt-Vigenere\" data-toc-modified-id=\"CHALLENGE:-Using-Chi-square-criterion-to-decrypt-Vigenere-231\"><span class=\"toc-item-num\">2.3.1&nbsp;&nbsp;</span>CHALLENGE: Using Chi-square criterion to decrypt Vigenere</a></div><div class=\"lev2 toc-item\"><a href=\"#Vigenere-Solution-#2:-Maximum-Likelihood,-Combined-with-a-Search-Procedure\" data-toc-modified-id=\"Vigenere-Solution-#2:-Maximum-Likelihood,-Combined-with-a-Search-Procedure-24\"><span class=\"toc-item-num\">2.4&nbsp;&nbsp;</span>Vigenere Solution #2: Maximum Likelihood, Combined with a Search Procedure</a></div><div class=\"lev2 toc-item\"><a href=\"#Vigenere-Solution-#3:-Maximum-Likelihood,-Combined-with-Brute-Force\" data-toc-modified-id=\"Vigenere-Solution-#3:-Maximum-Likelihood,-Combined-with-Brute-Force-25\"><span class=\"toc-item-num\">2.5&nbsp;&nbsp;</span>Vigenere Solution #3: Maximum Likelihood, Combined with Brute Force</a></div><div class=\"lev1 toc-item\"><a href=\"#Keyed-Caesar-Variants\" data-toc-modified-id=\"Keyed-Caesar-Variants-3\"><span class=\"toc-item-num\">3&nbsp;&nbsp;</span>Keyed Caesar Variants</a></div><div class=\"lev2 toc-item\"><a href=\"#Keyed-Caesar-Variants\" data-toc-modified-id=\"Keyed-Caesar-Variants-31\"><span class=\"toc-item-num\">3.1&nbsp;&nbsp;</span>Keyed Caesar Variants</a></div><div class=\"lev2 toc-item\"><a href=\"#Cryptanalysis---Keyed-Caesar\" data-toc-modified-id=\"Cryptanalysis---Keyed-Caesar-32\"><span class=\"toc-item-num\">3.2&nbsp;&nbsp;</span>Cryptanalysis - Keyed Caesar</a></div><div class=\"lev3 toc-item\"><a href=\"#Effect-of-Keyed-Caesar-on-Frequency-Distributions\" data-toc-modified-id=\"Effect-of-Keyed-Caesar-on-Frequency-Distributions-321\"><span class=\"toc-item-num\">3.2.1&nbsp;&nbsp;</span>Effect of Keyed Caesar on Frequency Distributions</a></div><div class=\"lev3 toc-item\"><a href=\"#Determine-Key-by-Aligning-Frequency-Distributions?\" data-toc-modified-id=\"Determine-Key-by-Aligning-Frequency-Distributions?-322\"><span class=\"toc-item-num\">3.2.2&nbsp;&nbsp;</span>Determine Key by Aligning Frequency Distributions?</a></div><div class=\"lev3 toc-item\"><a href=\"#Keyed-Caesar-Solution-#1:-Maximum-Likelihood,-Combined-with-Search-Procedure\" data-toc-modified-id=\"Keyed-Caesar-Solution-#1:-Maximum-Likelihood,-Combined-with-Search-Procedure-323\"><span class=\"toc-item-num\">3.2.3&nbsp;&nbsp;</span>Keyed Caesar Solution #1: Maximum Likelihood, Combined with Search Procedure</a></div><div class=\"lev2 toc-item\"><a href=\"#Cryptanalysis---Caesar-with-Keyed-Alphabet\" data-toc-modified-id=\"Cryptanalysis---Caesar-with-Keyed-Alphabet-33\"><span class=\"toc-item-num\">3.3&nbsp;&nbsp;</span>Cryptanalysis - Caesar with Keyed Alphabet</a></div><div class=\"lev3 toc-item\"><a href=\"#Effect-of-Caesar-with-Keyed-Alphabet-on-Frequency-Distributions\" data-toc-modified-id=\"Effect-of-Caesar-with-Keyed-Alphabet-on-Frequency-Distributions-331\"><span class=\"toc-item-num\">3.3.1&nbsp;&nbsp;</span>Effect of Caesar with Keyed Alphabet on Frequency Distributions</a></div><div class=\"lev3 toc-item\"><a href=\"#Determine-Key-by-Aligning-Frequency-Distributions?\" data-toc-modified-id=\"Determine-Key-by-Aligning-Frequency-Distributions?-332\"><span class=\"toc-item-num\">3.3.2&nbsp;&nbsp;</span>Determine Key by Aligning Frequency Distributions?</a></div><div class=\"lev3 toc-item\"><a href=\"#Caesar-with-Keyed-Alphabet-Solution-#1:-Maximum-Likelihood,-Combined-with-Search-Procedure\" data-toc-modified-id=\"Caesar-with-Keyed-Alphabet-Solution-#1:-Maximum-Likelihood,-Combined-with-Search-Procedure-333\"><span class=\"toc-item-num\">3.3.3&nbsp;&nbsp;</span>Caesar with Keyed Alphabet Solution #1: Maximum Likelihood, Combined with Search Procedure</a></div><div class=\"lev1 toc-item\"><a href=\"#Keyed-Vigenere\" data-toc-modified-id=\"Keyed-Vigenere-4\"><span class=\"toc-item-num\">4&nbsp;&nbsp;</span>Keyed Vigenere</a></div><div class=\"lev2 toc-item\"><a href=\"#Cryptanalysis---Keyed-Vigenere\" data-toc-modified-id=\"Cryptanalysis---Keyed-Vigenere-41\"><span class=\"toc-item-num\">4.1&nbsp;&nbsp;</span>Cryptanalysis - Keyed Vigenere</a></div><div class=\"lev3 toc-item\"><a href=\"#Determine-if-Plaintext\" data-toc-modified-id=\"Determine-if-Plaintext-411\"><span class=\"toc-item-num\">4.1.1&nbsp;&nbsp;</span>Determine if Plaintext</a></div><div class=\"lev3 toc-item\"><a href=\"#Determine-Key-Length\" data-toc-modified-id=\"Determine-Key-Length-412\"><span class=\"toc-item-num\">4.1.2&nbsp;&nbsp;</span>Determine Key Length</a></div><div class=\"lev3 toc-item\"><a href=\"#Frequency-analysis-of-subsequences\" data-toc-modified-id=\"Frequency-analysis-of-subsequences-413\"><span class=\"toc-item-num\">4.1.3&nbsp;&nbsp;</span>Frequency analysis of subsequences</a></div><div class=\"lev3 toc-item\"><a href=\"#CHALLENGE:-Determine-Vigenere-Key-in-Special-Case-of-Keyed-Alphabet-Starting-with-Letter-E\" data-toc-modified-id=\"CHALLENGE:-Determine-Vigenere-Key-in-Special-Case-of-Keyed-Alphabet-Starting-with-Letter-E-414\"><span class=\"toc-item-num\">4.1.4&nbsp;&nbsp;</span>CHALLENGE: Determine Vigenere Key in Special Case of Keyed Alphabet Starting with Letter E</a></div><div class=\"lev3 toc-item\"><a href=\"#Case-1:-Vigenere-Key-is-Known,-Alphabet-Key-Unknown\" data-toc-modified-id=\"Case-1:-Vigenere-Key-is-Known,-Alphabet-Key-Unknown-415\"><span class=\"toc-item-num\">4.1.5&nbsp;&nbsp;</span>Case 1: Vigenere Key is Known, Alphabet Key Unknown</a></div><div class=\"lev3 toc-item\"><a href=\"#CHALLENGE:-A-Special-Case\" data-toc-modified-id=\"CHALLENGE:-A-Special-Case-416\"><span class=\"toc-item-num\">4.1.6&nbsp;&nbsp;</span>CHALLENGE: A Special Case</a></div><div class=\"lev3 toc-item\"><a href=\"#Case-2:-Vigenere-Key-is-Unknown,-Alphabet-Key-is-Known\" data-toc-modified-id=\"Case-2:-Vigenere-Key-is-Unknown,-Alphabet-Key-is-Known-417\"><span class=\"toc-item-num\">4.1.7&nbsp;&nbsp;</span>Case 2: Vigenere Key is Unknown, Alphabet Key is Known</a></div><div class=\"lev1 toc-item\"><a href=\"#Kryptos\" data-toc-modified-id=\"Kryptos-5\"><span class=\"toc-item-num\">5&nbsp;&nbsp;</span>Kryptos</a></div><div class=\"lev2 toc-item\"><a href=\"#Prerequisites\" data-toc-modified-id=\"Prerequisites-51\"><span class=\"toc-item-num\">5.1&nbsp;&nbsp;</span>Prerequisites</a></div><div class=\"lev2 toc-item\"><a href=\"#Kryptos---K1\" data-toc-modified-id=\"Kryptos---K1-52\"><span class=\"toc-item-num\">5.2&nbsp;&nbsp;</span>Kryptos - K1</a></div><div class=\"lev3 toc-item\"><a href=\"#K1---Determine-if-plaintext\" data-toc-modified-id=\"K1---Determine-if-plaintext-521\"><span class=\"toc-item-num\">5.2.1&nbsp;&nbsp;</span>K1 - Determine if plaintext</a></div><div class=\"lev3 toc-item\"><a href=\"#K1---Determine-Key-Length\" data-toc-modified-id=\"K1---Determine-Key-Length-522\"><span class=\"toc-item-num\">5.2.2&nbsp;&nbsp;</span>K1 - Determine Key Length</a></div><div class=\"lev3 toc-item\"><a href=\"#K1---Frequency-Analysis-of-Subsequences-#1\" data-toc-modified-id=\"K1---Frequency-Analysis-of-Subsequences-#1-523\"><span class=\"toc-item-num\">5.2.3&nbsp;&nbsp;</span>K1 - Frequency Analysis of Subsequences #1</a></div><div class=\"lev3 toc-item\"><a href=\"#K1---Frequency-Analysis-of-Subsequences-#2\" data-toc-modified-id=\"K1---Frequency-Analysis-of-Subsequences-#2-524\"><span class=\"toc-item-num\">5.2.4&nbsp;&nbsp;</span>K1 - Frequency Analysis of Subsequences #2</a></div><div class=\"lev3 toc-item\"><a href=\"#K1---Vigenere-Key-is-Unknown,-Alphabet-Key-is-Known\" data-toc-modified-id=\"K1---Vigenere-Key-is-Unknown,-Alphabet-Key-is-Known-525\"><span class=\"toc-item-num\">5.2.5&nbsp;&nbsp;</span>K1 - Vigenere Key is Unknown, Alphabet Key is Known</a></div><div class=\"lev3 toc-item\"><a href=\"#K1---Determining-Message-Boundaries\" data-toc-modified-id=\"K1---Determining-Message-Boundaries-526\"><span class=\"toc-item-num\">5.2.6&nbsp;&nbsp;</span>K1 - Determining Message Boundaries</a></div><div class=\"lev3 toc-item\"><a href=\"#K1---Determining-Word-Boundaries\" data-toc-modified-id=\"K1---Determining-Word-Boundaries-527\"><span class=\"toc-item-num\">5.2.7&nbsp;&nbsp;</span>K1 - Determining Word Boundaries</a></div><div class=\"lev2 toc-item\"><a href=\"#Kryptos---K2\" data-toc-modified-id=\"Kryptos---K2-53\"><span class=\"toc-item-num\">5.3&nbsp;&nbsp;</span>Kryptos - K2</a></div><div class=\"lev3 toc-item\"><a href=\"#K2---Determine-if-Plaintext\" data-toc-modified-id=\"K2---Determine-if-Plaintext-531\"><span class=\"toc-item-num\">5.3.1&nbsp;&nbsp;</span>K2 - Determine if Plaintext</a></div><div class=\"lev3 toc-item\"><a href=\"#K2---Determine-Key-Length\" data-toc-modified-id=\"K2---Determine-Key-Length-532\"><span class=\"toc-item-num\">5.3.2&nbsp;&nbsp;</span>K2 - Determine Key Length</a></div><div class=\"lev3 toc-item\"><a href=\"#K2---Frequency-Analysis-of-Subsequences-#1\" data-toc-modified-id=\"K2---Frequency-Analysis-of-Subsequences-#1-533\"><span class=\"toc-item-num\">5.3.3&nbsp;&nbsp;</span>K2 - Frequency Analysis of Subsequences #1</a></div><div class=\"lev3 toc-item\"><a href=\"#K2---Frequency-Analysis-of-Subsequences-#2\" data-toc-modified-id=\"K2---Frequency-Analysis-of-Subsequences-#2-534\"><span class=\"toc-item-num\">5.3.4&nbsp;&nbsp;</span>K2 - Frequency Analysis of Subsequences #2</a></div><div class=\"lev3 toc-item\"><a href=\"#K2---Frequency-Analysis-of-Subsequences-#3\" data-toc-modified-id=\"K2---Frequency-Analysis-of-Subsequences-#3-535\"><span class=\"toc-item-num\">5.3.5&nbsp;&nbsp;</span>K2 - Frequency Analysis of Subsequences #3</a></div><div class=\"lev3 toc-item\"><a href=\"#K2---Vigenere-Key-is-Unknown,-Alphabet-Key-is-Known\" data-toc-modified-id=\"K2---Vigenere-Key-is-Unknown,-Alphabet-Key-is-Known-536\"><span class=\"toc-item-num\">5.3.6&nbsp;&nbsp;</span>K2 - Vigenere Key is Unknown, Alphabet Key is Known</a></div><div class=\"lev3 toc-item\"><a href=\"#K2---Determining-Message-Boundaries\" data-toc-modified-id=\"K2---Determining-Message-Boundaries-537\"><span class=\"toc-item-num\">5.3.7&nbsp;&nbsp;</span>K2 - Determining Message Boundaries</a></div><div class=\"lev3 toc-item\"><a href=\"#K2---Determining-Word-Boundaries\" data-toc-modified-id=\"K2---Determining-Word-Boundaries-538\"><span class=\"toc-item-num\">5.3.8&nbsp;&nbsp;</span>K2 - Determining Word Boundaries</a></div><div class=\"lev3 toc-item\"><a href=\"#K2---Correction-to-Ciphertext\" data-toc-modified-id=\"K2---Correction-to-Ciphertext-539\"><span class=\"toc-item-num\">5.3.9&nbsp;&nbsp;</span>K2 - Correction to Ciphertext</a></div>"
   ]
  },
  {
   "cell_type": "markdown",
   "metadata": {},
   "source": [
    "# Kryptos Decoding From Scratch\n",
    "\n",
    "For the latest version of this document see https://github.com/markvanheeswijk/kryptos\n",
    "\n",
    "## Introduction\n",
    "\n",
    "This document describes how to get started with decoding Kryptos from scratch, gradually going all the way from ROT-13 to decoding Kryptos, discussing the relevant cryptanalysis principles and code along the way. Take your time to really understand each approach and its limitations. There will be some challenge ciphers to solve along the way. \n",
    "\n",
    "First, we will look at the **Caesar cipher** and 4 possible ways to attack it:\n",
    "- solution #1: **brute-force** all possible keys\n",
    "- solution #2: **frequency analysis** showing the effect applying a Caesar cipher\n",
    "- solution #3: **chi-square criterion** for automatically determining the best key based on alignment of the frequency plots.\n",
    "- solution #4: **maximum likelihood** for automatically determining the best key based on how likely it is that the decrypted ciphertext is a plaintext in a certain language.\n",
    "\n",
    "Then we will move on to the **Vigenere cipher**, which is very similar to the Caesar cipher, except that the consecutive shifts of the plaintext characters are determined by a keyword. If the key has length N, then each Nth character of the plaintext will be shifted by the same shift, determined by the corresponding character in the key. Therefore, we can re-use many of the same principles which we already saw for solving the Caesar cipher.\n",
    "- pre-requisite #1: using **index of coincidence** for determining the **key length**, say N\n",
    "- (pre-requisite #2: using  **index of coincidence** for determining the **language** of the message and whether it might be a transposition cipher)\n",
    "- solution #0: **manually** cracking the Vigenere cipher\n",
    "- solution #1: **chi-square criterion** for automatically determining the best keys for each of the N Caesar ciphers\n",
    "- solution #2: **maximum likelihood, combined with a search procedure** (in this case a genetic algorithm) for determining the best key\n",
    "- solution #3: **maximum likelihood, combined brute-force** for determining the best keyword in a dictionary/wordlist\n",
    "\n",
    "Finally, we will look at the **Keyed Caesar** and **Keyed Vigenere** variants, which add an extra complication in the form of a keyed alphabet:\n",
    "- Keyed Caesar cipher and variants\n",
    "    - solution #1: **maximum likelihood, combined with a search procedure** to solve the substitution defined by the cipher\n",
    "- Keyed Vigenere cipher\n",
    "    - solution #1: **recognize special case to guess vigenere key**, use **maximum likelihood, combined with brute-force** to find the alphabet key.\n",
    "    - solution #2: **know the alphabet key, like in Kryptos**, use **maximum likelihood, combined with a search procedure** to find the vigenere key.\n",
    "\n",
    "To conclude, we will use the principles discussed to **solve Kryptos K1 and K2, using nothing but the 4 panels of Kryptos**.\n",
    "\n",
    "## References\n",
    "\n",
    "- **http://practicalcryptography.com/ \n",
    "(highly recommended for getting started with python code for cryptanalysis of various ciphers, and the website a lot of the code here is adapted from!)**\n",
    "\n",
    "\n",
    "- https://en.wikipedia.org/wiki/Caesar_cipher\n",
    "- https://en.wikipedia.org/wiki/Substitution_cipher\n",
    "- https://en.wikipedia.org/wiki/Vigen%C3%A8re_cipher\n",
    "\n",
    "\n",
    "- https://en.wikipedia.org/wiki/Index_of_coincidence\n",
    "- http://www.simonsingh.net/The_Black_Chamber/vigenere_cracking_tool.html\n",
    "- http://practicalcryptography.com/cryptanalysis/stochastic-searching/cryptanalysis-vigenere-cipher/\n",
    "\n",
    "\n",
    "- http://rumkin.com/tools/cipher/\n",
    "\n",
    "\n",
    "(for more references, see below)"
   ]
  },
  {
   "cell_type": "markdown",
   "metadata": {},
   "source": [
    "# 2 Easier Pieces: Caesar meets Vigenere\n",
    "\n",
    "## Caesar Cipher\n",
    "\n",
    "The Caesar cipher is an example of a substution cipher, where each symbol in the plaintext is replaced by another symbol through a fixed mapping. In case of the Caesar cipher, the target alphabet is a shifted version of plaintext alphabet. A particular instance of this is ROT-13, where the target alphabet is shifted by 13 positions\n",
    "\n",
    "    ABCDEFGHIJKLMNOPQRSTUVWXYZ\n",
    "\n",
    "becomes\n",
    "\n",
    "    NOPQRSTUVWXYZABCDEFGHIJKLM\n",
    "\n",
    "and A gets replaced by N, B by O, etc.\n",
    "    \n",
    "Now, let's define a simple function for encrypting and decrypting using a Caesar cipher:    "
   ]
  },
  {
   "cell_type": "code",
   "execution_count": 1,
   "metadata": {
    "collapsed": false
   },
   "outputs": [],
   "source": [
    "def rot(s, key, alphabet=\"ABCDEFGHIJKLMNOPQRSTUVWXYZ\", direction=1):\n",
    "    keyval = alphabet.find(key)\n",
    "    t = \"\"\n",
    "    for sc in s:\n",
    "        i = alphabet.find(sc)\n",
    "        t += alphabet[(i + keyval * direction) % len(alphabet)] if i > -1 else sc\n",
    "    return t"
   ]
  },
  {
   "cell_type": "markdown",
   "metadata": {},
   "source": [
    "It takes a letter as key, finds its position in the alphabet, and shifts / rotates the alphabet by that amount. Symbols that are not in the alphabet are unaffected. Now, define some text and encrypt it using the function:"
   ]
  },
  {
   "cell_type": "code",
   "execution_count": 2,
   "metadata": {
    "collapsed": false
   },
   "outputs": [
    {
     "data": {
      "text/plain": [
       "'\"V URNE NAQ V SBETRG. V FRR NAQ V ERZRZORE. V QB NAQ V HAQREFGNAQ.\" --PBASHFVHF'"
      ]
     },
     "execution_count": 2,
     "metadata": {},
     "output_type": "execute_result"
    }
   ],
   "source": [
    "ptext = '\"I HEAR AND I FORGET. I SEE AND I REMEMBER. I DO AND I UNDERSTAND.\" --CONFUSIUS'\n",
    "ctext = rot(ptext, 'N')\n",
    "ctext"
   ]
  },
  {
   "cell_type": "markdown",
   "metadata": {},
   "source": [
    "Since we know the key we can decrypt it:"
   ]
  },
  {
   "cell_type": "code",
   "execution_count": 3,
   "metadata": {
    "collapsed": false
   },
   "outputs": [
    {
     "data": {
      "text/plain": [
       "'\"I HEAR AND I FORGET. I SEE AND I REMEMBER. I DO AND I UNDERSTAND.\" --CONFUSIUS'"
      ]
     },
     "execution_count": 3,
     "metadata": {},
     "output_type": "execute_result"
    }
   ],
   "source": [
    "decrypted_ctext = rot(ctext, 'N', direction = -1)\n",
    "decrypted_ctext"
   ]
  },
  {
   "cell_type": "markdown",
   "metadata": {},
   "source": [
    "### Caesar Cipher Solution #1: Brute-force\n",
    "\n",
    "However, what if we do not know the key? One option would be to brute-fortry all possible keys, and just read off the solution. There are only 26 possibilities after all."
   ]
  },
  {
   "cell_type": "code",
   "execution_count": 4,
   "metadata": {
    "collapsed": false
   },
   "outputs": [
    {
     "name": "stdout",
     "output_type": "stream",
     "text": [
      "A:\t\"V URNE NAQ V SBETRG. V FRR NAQ V ERZRZORE. V QB NAQ V HAQREFGNAQ.\" --PBASHFVHF\n",
      "B:\t\"U TQMD MZP U RADSQF. U EQQ MZP U DQYQYNQD. U PA MZP U GZPQDEFMZP.\" --OAZRGEUGE\n",
      "C:\t\"T SPLC LYO T QZCRPE. T DPP LYO T CPXPXMPC. T OZ LYO T FYOPCDELYO.\" --NZYQFDTFD\n",
      "D:\t\"S ROKB KXN S PYBQOD. S COO KXN S BOWOWLOB. S NY KXN S EXNOBCDKXN.\" --MYXPECSEC\n",
      "E:\t\"R QNJA JWM R OXAPNC. R BNN JWM R ANVNVKNA. R MX JWM R DWMNABCJWM.\" --LXWODBRDB\n",
      "F:\t\"Q PMIZ IVL Q NWZOMB. Q AMM IVL Q ZMUMUJMZ. Q LW IVL Q CVLMZABIVL.\" --KWVNCAQCA\n",
      "G:\t\"P OLHY HUK P MVYNLA. P ZLL HUK P YLTLTILY. P KV HUK P BUKLYZAHUK.\" --JVUMBZPBZ\n",
      "H:\t\"O NKGX GTJ O LUXMKZ. O YKK GTJ O XKSKSHKX. O JU GTJ O ATJKXYZGTJ.\" --IUTLAYOAY\n",
      "I:\t\"N MJFW FSI N KTWLJY. N XJJ FSI N WJRJRGJW. N IT FSI N ZSIJWXYFSI.\" --HTSKZXNZX\n",
      "J:\t\"M LIEV ERH M JSVKIX. M WII ERH M VIQIQFIV. M HS ERH M YRHIVWXERH.\" --GSRJYWMYW\n",
      "K:\t\"L KHDU DQG L IRUJHW. L VHH DQG L UHPHPEHU. L GR DQG L XQGHUVWDQG.\" --FRQIXVLXV\n",
      "L:\t\"K JGCT CPF K HQTIGV. K UGG CPF K TGOGODGT. K FQ CPF K WPFGTUVCPF.\" --EQPHWUKWU\n",
      "M:\t\"J IFBS BOE J GPSHFU. J TFF BOE J SFNFNCFS. J EP BOE J VOEFSTUBOE.\" --DPOGVTJVT\n",
      "N:\t\"I HEAR AND I FORGET. I SEE AND I REMEMBER. I DO AND I UNDERSTAND.\" --CONFUSIUS\n",
      "O:\t\"H GDZQ ZMC H ENQFDS. H RDD ZMC H QDLDLADQ. H CN ZMC H TMCDQRSZMC.\" --BNMETRHTR\n",
      "P:\t\"G FCYP YLB G DMPECR. G QCC YLB G PCKCKZCP. G BM YLB G SLBCPQRYLB.\" --AMLDSQGSQ\n",
      "Q:\t\"F EBXO XKA F CLODBQ. F PBB XKA F OBJBJYBO. F AL XKA F RKABOPQXKA.\" --ZLKCRPFRP\n",
      "R:\t\"E DAWN WJZ E BKNCAP. E OAA WJZ E NAIAIXAN. E ZK WJZ E QJZANOPWJZ.\" --YKJBQOEQO\n",
      "S:\t\"D CZVM VIY D AJMBZO. D NZZ VIY D MZHZHWZM. D YJ VIY D PIYZMNOVIY.\" --XJIAPNDPN\n",
      "T:\t\"C BYUL UHX C ZILAYN. C MYY UHX C LYGYGVYL. C XI UHX C OHXYLMNUHX.\" --WIHZOMCOM\n",
      "U:\t\"B AXTK TGW B YHKZXM. B LXX TGW B KXFXFUXK. B WH TGW B NGWXKLMTGW.\" --VHGYNLBNL\n",
      "V:\t\"A ZWSJ SFV A XGJYWL. A KWW SFV A JWEWETWJ. A VG SFV A MFVWJKLSFV.\" --UGFXMKAMK\n",
      "W:\t\"Z YVRI REU Z WFIXVK. Z JVV REU Z IVDVDSVI. Z UF REU Z LEUVIJKREU.\" --TFEWLJZLJ\n",
      "X:\t\"Y XUQH QDT Y VEHWUJ. Y IUU QDT Y HUCUCRUH. Y TE QDT Y KDTUHIJQDT.\" --SEDVKIYKI\n",
      "Y:\t\"X WTPG PCS X UDGVTI. X HTT PCS X GTBTBQTG. X SD PCS X JCSTGHIPCS.\" --RDCUJHXJH\n",
      "Z:\t\"W VSOF OBR W TCFUSH. W GSS OBR W FSASAPSF. W RC OBR W IBRSFGHOBR.\" --QCBTIGWIG\n"
     ]
    }
   ],
   "source": [
    "alphabet = 'ABCDEFGHIJKLMNOPQRSTUVWXYZ'\n",
    "for key in alphabet:\n",
    "    decrypted_ctext = rot(ctext, key, direction = -1)\n",
    "    print \"%s:\\t%s\" % (key, decrypted_ctext)"
   ]
  },
  {
   "cell_type": "markdown",
   "metadata": {},
   "source": [
    "### Caesar Cipher Solution #2: Frequency Analysis\n",
    "\n",
    "Alternatively, statistics of the text could be used to find the most likely key. Let's look at the frequency of the letters and see what happens when you encrypt / decrypt with Caesar cipher."
   ]
  },
  {
   "cell_type": "code",
   "execution_count": 5,
   "metadata": {
    "collapsed": false
   },
   "outputs": [
    {
     "data": {
      "text/plain": [
       "<matplotlib.text.Text at 0x7f3113200310>"
      ]
     },
     "execution_count": 5,
     "metadata": {},
     "output_type": "execute_result"
    },
    {
     "data": {
      "image/png": "[encoded data removed]",
      "text/plain": [
       "<matplotlib.figure.Figure at 0x7f313c6b6b90>"
      ]
     },
     "metadata": {},
     "output_type": "display_data"
    },
    {
     "data": {
      "image/png": "[encoded data removed]",
      "text/plain": [
       "<matplotlib.figure.Figure at 0x7f3113331ad0>"
      ]
     },
     "metadata": {},
     "output_type": "display_data"
    }
   ],
   "source": [
    "from __future__ import division\n",
    "from matplotlib import pyplot as plt\n",
    "import numpy as np\n",
    "%matplotlib inline\n",
    "plt.rcParams[\"figure.figsize\"] = [12,4]\n",
    "\n",
    "alphabet = \"ABCDEFGHIJKLMNOPQRSTUVWXYZ\"\n",
    "\n",
    "# determine letter frequency in plaintext, and plot\n",
    "ptext_freq = [ptext.count(c)/len(ptext) for c in alphabet]\n",
    "pfig = plt.figure()\n",
    "plt.bar(range(len(alphabet)), ptext_freq, tick_label = list(alphabet), align = 'center', color = 'b')\n",
    "plt.title('plaintext letter frequency')\n",
    "\n",
    "# determine letter frequency in ciphertext, and plot\n",
    "ctext_freq = [ctext.count(c)/len(ctext) for c in alphabet]\n",
    "cfig = plt.figure()\n",
    "plt.bar(range(len(alphabet)), ctext_freq, tick_label = list(alphabet), align = 'center', color = 'r')\n",
    "plt.title('ciphertext letter frequency')"
   ]
  },
  {
   "cell_type": "markdown",
   "metadata": {},
   "source": [
    "From these plots, it can clearly be seen that the Caesar cipher shifts the frequencies of the letters (which is what we would expect, knowing how Caesar works). Finding the right key now corresponds to finding that shift, which aligns the frequency plots as well as possible. This can be done in two ways:\n",
    "- by hand\n",
    "- automatically, using e.g. some criterion to measure how well the plots match.\n",
    "\n",
    "In the next sections, we'll look at ways to find the alignment automatically. For now, let's align and determine the key manually by aligning the frequency plots. Use the slider to align the frequency plots."
   ]
  },
  {
   "cell_type": "markdown",
   "metadata": {},
   "source": [
    "**Note: normally you would not have the frequency plot of the plaintext of course, and you would instead use the frequencies based on some sufficiently large text in the same language.**"
   ]
  },
  {
   "cell_type": "code",
   "execution_count": 6,
   "metadata": {
    "collapsed": false,
    "scrolled": true
   },
   "outputs": [
    {
     "data": {
      "image/png": "[encoded data removed]",
      "text/plain": [
       "<matplotlib.figure.Figure at 0x7f31130de350>"
      ]
     },
     "metadata": {},
     "output_type": "display_data"
    },
    {
     "name": "stdout",
     "output_type": "stream",
     "text": [
      "\"V URNE NAQ V SBETRG. V FRR NAQ V ERZRZORE. V QB NAQ V HAQREFGNAQ.\" --PBASHFVHF\n"
     ]
    }
   ],
   "source": [
    "# https://blog.dominodatalab.com/interactive-dashboards-in-jupyter/\n",
    "# http://ipywidgets.readthedocs.io/en/latest/examples/Using%20Interact.html\n",
    "from __future__ import division\n",
    "from matplotlib import pyplot as plt\n",
    "import numpy as np\n",
    "from ipywidgets import interact, interactive, fixed\n",
    "#import ipywidgets as widgets\n",
    "\n",
    "alphabet = \"ABCDEFGHIJKLMNOPQRSTUVWXYZ\"\n",
    "\n",
    "def rotate(l, n):\n",
    "    return l[n:] + l[:n]\n",
    "\n",
    "@interact(key_i = (0,25,1))\n",
    "def plot_graphs(key_i = 0):\n",
    "    # decrypt ciphertext using this key\n",
    "    key = alphabet[key_i]\n",
    "    decrypted_ctext = rot(ctext, key, direction = -1)\n",
    "    \n",
    "    # determine letter frequency in plaintext, and plot # FIXME: base on separate text\n",
    "    ptext_freq = np.array([ptext.count(c)/len(ptext) for c in alphabet])\n",
    "    pfig = plt.subplot(2,1,1)\n",
    "    plt.bar(range(len(alphabet)), ptext_freq, tick_label = list(alphabet), align = 'center', color = 'b')\n",
    "    plt.title('blue = plaintext letter frequency, green = decrypted ciphertext letter frequency')\n",
    "\n",
    "    # determine letter frequency in ciphertext, and plot\n",
    "    ctext_freq = np.array([decrypted_ctext.count(c)/len(decrypted_ctext) for c in alphabet])\n",
    "    cfig = plt.subplot(2,1,2)\n",
    "    plt.bar(range(len(alphabet)), ctext_freq, tick_label = rotate(list(alphabet), key_i), align = 'center', color = 'g')\n",
    "    plt.xlabel(\"key = %s\" % key)\n",
    "    \n",
    "    plt.show()\n",
    "    print decrypted_ctext"
   ]
  },
  {
   "cell_type": "markdown",
   "metadata": {},
   "source": [
    "<div class=\"alert-warning\">\n",
    "<h3>CHALLENGE: aligning frequency distributions to determine the Caesar key</h3>\n",
    "<br/>\n",
    "Use the slider above to align the frequency distributions and determine the right key.\n",
    "</div>"
   ]
  },
  {
   "cell_type": "markdown",
   "metadata": {},
   "source": [
    "### Caesar Cipher Solution #3: Chi-squared Statistic\n",
    "\n",
    "We just saw that finding the right key consists of aligning the letter-frequency distributions. If we can measure how well aligned the distributions are, it can be done automatically. This is where the Chi-squared Statistic comes in: it measures how different an observed distribution is from an expected distribution:\n",
    "\n",
    "$$ \n",
    "\\chi^2(O,E) = \\sum_{i=A}^Z \\frac{(O_i - E_i)^2}{E_i}\n",
    "$$\n",
    "\n",
    "where $O_i$ and $E_i$ are the observed and expected numbers of character $i$ in a text. It can also be expressed in terms of frequencies/probabilities:\n",
    "\n",
    "$$\n",
    "\\chi^2 = N \\sum_{i=A}^Z \\frac{(O_i/N - p_i)^2}{p_i}\n",
    "= N \\sum_{i=A}^Z \\frac{(f_i - p_i)^2}{p_i}\n",
    "$$\n",
    "\n",
    "where $f_i$ and $p_i$ are the observed and expected relative frequencies of the characters, and $N$ is the length of the text.\n",
    "\n",
    "For more details see:\n",
    "- http://practicalcryptography.com/cryptanalysis/text-characterisation/chi-squared-statistic/\n",
    "- https://en.wikipedia.org/wiki/Pearson%27s_chi-squared_test\n",
    "\n",
    "Now, let's use it to find the key:"
   ]
  },
  {
   "cell_type": "code",
   "execution_count": 7,
   "metadata": {
    "collapsed": true
   },
   "outputs": [],
   "source": [
    "import numpy as np\n",
    "\n",
    "# english letter frequencies, estimated from small sample text # FIXME: replace by better estimates\n",
    "g_english = [0.0736, 0.0148, 0.0445, 0.0302, 0.102, 0.0227, 0.0122, 0.0277, 0.0855, 0.000557, 0.00237, 0.0342, 0.0206, 0.0717, 0.103, 0.0246, 0.00181, 0.0735, 0.0608, 0.0889, 0.0392, 0.0153, 0.0173, 0.000557, 0.032, 0.000278]\n",
    "\n",
    "def chi_square(f, g, N):\n",
    "    chi2 = 0\n",
    "    chi2 = N * np.sum(np.array([(ff-gg)**2/gg for (ff,gg) in zip(f,g)]))\n",
    "    return chi2"
   ]
  },
  {
   "cell_type": "code",
   "execution_count": 8,
   "metadata": {
    "collapsed": false
   },
   "outputs": [
    {
     "name": "stdout",
     "output_type": "stream",
     "text": [
      "A:\t671.990916\t\"V URNE NAQ V SBETRG. V FRR NAQ V ERZRZORE. V QB NAQ V HAQREFGNAQ.\" --PBASHFVHF\n",
      "B:\t2943.592275\t\"U TQMD MZP U RADSQF. U EQQ MZP U DQYQYNQD. U PA MZP U GZPQDEFMZP.\" --OAZRGEUGE\n",
      "C:\t798.142246\t\"T SPLC LYO T QZCRPE. T DPP LYO T CPXPXMPC. T OZ LYO T FYOPCDELYO.\" --NZYQFDTFD\n",
      "D:\t1358.750922\t\"S ROKB KXN S PYBQOD. S COO KXN S BOWOWLOB. S NY KXN S EXNOBCDKXN.\" --MYXPECSEC\n",
      "E:\t1163.735004\t\"R QNJA JWM R OXAPNC. R BNN JWM R ANVNVKNA. R MX JWM R DWMNABCJWM.\" --LXWODBRDB\n",
      "F:\t2178.786534\t\"Q PMIZ IVL Q NWZOMB. Q AMM IVL Q ZMUMUJMZ. Q LW IVL Q CVLMZABIVL.\" --KWVNCAQCA\n",
      "G:\t1390.882770\t\"P OLHY HUK P MVYNLA. P ZLL HUK P YLTLTILY. P KV HUK P BUKLYZAHUK.\" --JVUMBZPBZ\n",
      "H:\t2661.988098\t\"O NKGX GTJ O LUXMKZ. O YKK GTJ O XKSKSHKX. O JU GTJ O ATJKXYZGTJ.\" --IUTLAYOAY\n",
      "I:\t3143.131572\t\"N MJFW FSI N KTWLJY. N XJJ FSI N WJRJRGJW. N IT FSI N ZSIJWXYFSI.\" --HTSKZXNZX\n",
      "J:\t386.845916\t\"M LIEV ERH M JSVKIX. M WII ERH M VIQIQFIV. M HS ERH M YRHIVWXERH.\" --GSRJYWMYW\n",
      "K:\t786.624788\t\"L KHDU DQG L IRUJHW. L VHH DQG L UHPHPEHU. L GR DQG L XQGHUVWDQG.\" --FRQIXVLXV\n",
      "L:\t609.812517\t\"K JGCT CPF K HQTIGV. K UGG CPF K TGOGODGT. K FQ CPF K WPFGTUVCPF.\" --EQPHWUKWU\n",
      "M:\t1615.214330\t\"J IFBS BOE J GPSHFU. J TFF BOE J SFNFNCFS. J EP BOE J VOEFSTUBOE.\" --DPOGVTJVT\n",
      "N:\t26.819408\t\"I HEAR AND I FORGET. I SEE AND I REMEMBER. I DO AND I UNDERSTAND.\" --CONFUSIUS\n",
      "O:\t1891.387765\t\"H GDZQ ZMC H ENQFDS. H RDD ZMC H QDLDLADQ. H CN ZMC H TMCDQRSZMC.\" --BNMETRHTR\n",
      "P:\t393.888673\t\"G FCYP YLB G DMPECR. G QCC YLB G PCKCKZCP. G BM YLB G SLBCPQRYLB.\" --AMLDSQGSQ\n",
      "Q:\t1372.403291\t\"F EBXO XKA F CLODBQ. F PBB XKA F OBJBJYBO. F AL XKA F RKABOPQXKA.\" --ZLKCRPFRP\n",
      "R:\t3601.924018\t\"E DAWN WJZ E BKNCAP. E OAA WJZ E NAIAIXAN. E ZK WJZ E QJZANOPWJZ.\" --YKJBQOEQO\n",
      "S:\t4419.479244\t\"D CZVM VIY D AJMBZO. D NZZ VIY D MZHZHWZM. D YJ VIY D PIYZMNOVIY.\" --XJIAPNDPN\n",
      "T:\t1457.857145\t\"C BYUL UHX C ZILAYN. C MYY UHX C LYGYGVYL. C XI UHX C OHXYLMNUHX.\" --WIHZOMCOM\n",
      "U:\t2384.901200\t\"B AXTK TGW B YHKZXM. B LXX TGW B KXFXFUXK. B WH TGW B NGWXKLMTGW.\" --VHGYNLBNL\n",
      "V:\t1215.392741\t\"A ZWSJ SFV A XGJYWL. A KWW SFV A JWEWETWJ. A VG SFV A MFVWJKLSFV.\" --UGFXMKAMK\n",
      "W:\t3726.089115\t\"Z YVRI REU Z WFIXVK. Z JVV REU Z IVDVDSVI. Z UF REU Z LEUVIJKREU.\" --TFEWLJZLJ\n",
      "X:\t521.313193\t\"Y XUQH QDT Y VEHWUJ. Y IUU QDT Y HUCUCRUH. Y TE QDT Y KDTUHIJQDT.\" --SEDVKIYKI\n",
      "Y:\t1895.618815\t\"X WTPG PCS X UDGVTI. X HTT PCS X GTBTBQTG. X SD PCS X JCSTGHIPCS.\" --RDCUJHXJH\n",
      "Z:\t130.677063\t\"W VSOF OBR W TCFUSH. W GSS OBR W FSASAPSF. W RC OBR W IBRSFGHOBR.\" --QCBTIGWIG\n",
      "\n",
      "the best key and plaintext:\n",
      " (26.819407968565411, 'N', '\"I HEAR AND I FORGET. I SEE AND I REMEMBER. I DO AND I UNDERSTAND.\" --CONFUSIUS')\n"
     ]
    }
   ],
   "source": [
    "alphabet = 'ABCDEFGHIJKLMNOPQRSTUVWXYZ'\n",
    "results = []\n",
    "for key in alphabet:\n",
    "    decrypted_ctext = rot(ctext, key, direction = -1)\n",
    "    f = np.array([decrypted_ctext.count(c) for c in alphabet])\n",
    "    N = np.sum(f) # note: not counting the non-alphabet characters here\n",
    "    f = f / N\n",
    "    chi2_decrypted_ctext = chi_square(f, g_english, N)\n",
    "    results.append((chi2_decrypted_ctext, key, decrypted_ctext))\n",
    "    print \"%s:\\t%f\\t%s\" % (key, chi2_decrypted_ctext, decrypted_ctext)\n",
    "print \"\\nthe best key and plaintext:\\n %s\" % repr(min(results))"
   ]
  },
  {
   "cell_type": "markdown",
   "metadata": {},
   "source": [
    "### Caesar Cipher Solution #4: Maximum likelihood\n",
    "\n",
    "**TL;DR: for a given decoding, estimate how much like English (or another language) it is. Best key is the one that gives the decoding that is most like English (or another language)...**\n",
    "\n",
    "The final way to solve is to, for each possible key, compute the likelihood that the decrypted text is plaintext in a particular language. This of course is unnecessary for something as simple as the Caesar cipher, but now think of a cipher where you would have thousands or millions of possible keys... \n",
    "\n",
    "For now, let's focus on understanding how it works. Spoiler: in a next section, this approach will be used to automatically determine the key for Kryptos and decrypted the K1 and K2 parts of it.\n",
    "\n",
    "In the following we will assume this to be English, but it could just as well be a different language with different statistics. This is something that you should decide or guess from context.\n",
    "\n",
    "#### Computing likelihood based on observed n-grams\n",
    "\n",
    "In order to measure how much like English a certain string is, we need to compare its properties with strings from the English language. The criterion that will be used here to measure this will be so-called n-gram statistics, which in short, measuring for each sequence of n symbols, what is the frequency / probability that it appears in an English text.\n",
    "\n",
    "Then, the likelihood that the observed decrypted ciphertext is an English text, is the joint probability of the observing the ngrams in English. Assuming the observations are independent and identically distributed, the joint probability of the observed ngrams in the decrypted ciphertext as follows:\n",
    "\n",
    "$$\n",
    "\\mathcal{L}(English \\mid decrypt(ctext, key)) = p(decrypt(ctext, key)) \\mid English) = \\prod_i p(ngram_i \\mid English) \n",
    "$$\n",
    "\n",
    "where $ngram_i$ is the $i^{th}$ sequence of $n$ letters in the decrypted ciphertext. For example, in case $decrypt(ctext, key) = \\texttt{ANEXAMPLETEXT}$ and using 3-grams, the observed 3-grams are\n",
    "\n",
    "$$\n",
    "\\texttt{ANE, NEX, EXA, XAM, AMP, MPL, PLE, LET, ETE, TEX, EXT},\n",
    "$$\n",
    "\n",
    "and therefore the likelihood that it is an English text can be computed as\n",
    "\n",
    "$$\n",
    "\\begin{align}\n",
    "\\mathcal{L}(English \\mid \\texttt{ANEXAMPLETEXT}) &= p(\\texttt{ANEXAMPLETEXT} \\mid English) \\\\\n",
    "&= p(\\texttt{ANE} \\mid English) \\cdot p(\\texttt{NEX} \\mid English) \\cdot \\ldots \\cdot p(\\texttt{TEX} \\mid English) \\cdot p(\\texttt{EXT} \\mid English).\n",
    "\\end{align}\n",
    "$$\n",
    "\n",
    "Since the numbers involved typically get very small, people often work with the log-probabilities instead:\n",
    "\n",
    "$$\n",
    "\\begin{align}\n",
    "\\log \\mathcal{L}(English \\mid decrypt(ctext, key)) &= \\log \\prod_i p(ngram_i \\mid English)\\\\\n",
    "&= \\sum_i \\log p(ngram_i \\mid English)\n",
    "\\end{align}\n",
    "$$\n",
    "\n",
    "This so-called log-likelihood that the decrypted ctext is English text (i.e. $\\log \\mathcal{L}(English \\mid decrypt(ctext, key))$) can now be used as a criterion to determine the best key. However, we need to estimate the probabilities of certain ngrams appearing in the English language (i.e. all $\\log p(ngram_i \\mid English)$). For this, we analyze some reference text (the longer the better)."
   ]
  },
  {
   "cell_type": "markdown",
   "metadata": {},
   "source": [
    "#### Computing n-gram statistics for a language\n",
    "\n",
    "Let's define a function that takes in a text, and returns its ngrams."
   ]
  },
  {
   "cell_type": "code",
   "execution_count": 9,
   "metadata": {
    "collapsed": true
   },
   "outputs": [],
   "source": [
    "import re\n",
    "\n",
    "def find_ngrams(text, n):\n",
    "    text = re.sub(r'[^A-Z]', r'', text.upper()) #remove everything that is not A-Z\n",
    "    return zip(*[text[i:] for i in range(n)]) #determine ngrams"
   ]
  },
  {
   "cell_type": "markdown",
   "metadata": {},
   "source": [
    "The above function takes a text and a number n and returns that text as ngrams:\n",
    "- text[i:] for i in range(3) would be\n",
    "    - $\\texttt{ANEXAMPLETEXT}$\n",
    "    - $\\texttt{NEXAMPLETEXT}$\n",
    "    - $\\texttt{EXAMPLETEXT}$\n",
    "- *[...] passes these as individual arguments into the zip() function\n",
    "- zip() zips the lists together and returns a list of tuples of the 1st entries in the lists, the 2nd entries in the list, etc until one of the lists runs out:\n",
    "    - $\\texttt{(A,N,E)}$\n",
    "    - $\\texttt{(N,E,X)}$\n",
    "    - ...\n",
    "    - $\\texttt{(E,X,T)}$\n",
    "    \n",
    "Now, using this function, we can easily create a file of ngrams and their counts in some reference text. These statistics are later used to estimate the likelihood that another string is from the same language."
   ]
  },
  {
   "cell_type": "code",
   "execution_count": 10,
   "metadata": {
    "collapsed": false
   },
   "outputs": [],
   "source": [
    "def compute_ngram_statistics(infile, outfile, n):\n",
    "    \n",
    "    # read in file, and remove newlines\n",
    "    s = ''\n",
    "    print \"reading %s...\" % infile\n",
    "    with open(infile) as f:\n",
    "         s += \" \".join(line.strip() for line in f)\n",
    "    \n",
    "    print \"finding and counting %d-grams...\" % n\n",
    "    # compute ngrams\n",
    "    qgs = find_ngrams(s, n)\n",
    "    # count them\n",
    "    d = {}\n",
    "    for qg in qgs:\n",
    "        if d.has_key(\"\".join(qg)):\n",
    "            d[\"\".join(qg)]+=1\n",
    "        else:\n",
    "            d[\"\".join(qg)]=1\n",
    "\n",
    "    # convert to sorted list and write to file\n",
    "    print \"writing results to %s...\" % outfile\n",
    "    qg_list = sorted(list(d.items()), key=lambda x: x[1], reverse=True)\n",
    "    f = open(outfile, 'w')\n",
    "    for t in qg_list:\n",
    "        f.write(\"%s %d\\n\" % t)\n",
    "        \n",
    "    print \"done!\""
   ]
  },
  {
   "cell_type": "code",
   "execution_count": 11,
   "metadata": {
    "collapsed": false
   },
   "outputs": [
    {
     "name": "stdout",
     "output_type": "stream",
     "text": [
      "reading ngrams/gutenberg_sherlock.txt...\n",
      "finding and counting 1-grams...\n",
      "writing results to ngrams/en_sherlock_1grams...\n",
      "done!\n",
      "reading ngrams/gutenberg_sherlock.txt...\n",
      "finding and counting 2-grams...\n",
      "writing results to ngrams/en_sherlock_2grams...\n",
      "done!\n",
      "reading ngrams/gutenberg_sherlock.txt...\n",
      "finding and counting 3-grams...\n",
      "writing results to ngrams/en_sherlock_3grams...\n",
      "done!\n",
      "reading ngrams/gutenberg_sherlock.txt...\n",
      "finding and counting 4-grams...\n",
      "writing results to ngrams/en_sherlock_4grams...\n",
      "done!\n"
     ]
    }
   ],
   "source": [
    "compute_ngram_statistics('ngrams/gutenberg_sherlock.txt', 'ngrams/en_sherlock_1grams', 1)\n",
    "compute_ngram_statistics('ngrams/gutenberg_sherlock.txt', 'ngrams/en_sherlock_2grams', 2)\n",
    "compute_ngram_statistics('ngrams/gutenberg_sherlock.txt', 'ngrams/en_sherlock_3grams', 3)\n",
    "compute_ngram_statistics('ngrams/gutenberg_sherlock.txt', 'ngrams/en_sherlock_4grams', 4)"
   ]
  },
  {
   "cell_type": "markdown",
   "metadata": {},
   "source": [
    "#### Cracking Caesar Cipher using Maximum Likelihood"
   ]
  },
  {
   "cell_type": "markdown",
   "metadata": {},
   "source": [
    "Finally, let's crack Caesar using this. We use function `ngram_score` (source: practicalcryptography.com) for computing the log-likelihood that a text is a particular language, given a file with ngram counts for that language."
   ]
  },
  {
   "cell_type": "code",
   "execution_count": 12,
   "metadata": {
    "collapsed": false
   },
   "outputs": [
    {
     "name": "stdout",
     "output_type": "stream",
     "text": [
      "A:\t-261.218311\t\"V URNE NAQ V SBETRG. V FRR NAQ V ERZRZORE. V QB NAQ V HAQREFGNAQ.\" --PBASHFVHF\n",
      "B:\t-275.005765\t\"U TQMD MZP U RADSQF. U EQQ MZP U DQYQYNQD. U PA MZP U GZPQDEFMZP.\" --OAZRGEUGE\n",
      "C:\t-261.293064\t\"T SPLC LYO T QZCRPE. T DPP LYO T CPXPXMPC. T OZ LYO T FYOPCDELYO.\" --NZYQFDTFD\n",
      "D:\t-260.411338\t\"S ROKB KXN S PYBQOD. S COO KXN S BOWOWLOB. S NY KXN S EXNOBCDKXN.\" --MYXPECSEC\n",
      "E:\t-263.157676\t\"R QNJA JWM R OXAPNC. R BNN JWM R ANVNVKNA. R MX JWM R DWMNABCJWM.\" --LXWODBRDB\n",
      "F:\t-276.266855\t\"Q PMIZ IVL Q NWZOMB. Q AMM IVL Q ZMUMUJMZ. Q LW IVL Q CVLMZABIVL.\" --KWVNCAQCA\n",
      "G:\t-266.939602\t\"P OLHY HUK P MVYNLA. P ZLL HUK P YLTLTILY. P KV HUK P BUKLYZAHUK.\" --JVUMBZPBZ\n",
      "H:\t-271.285500\t\"O NKGX GTJ O LUXMKZ. O YKK GTJ O XKSKSHKX. O JU GTJ O ATJKXYZGTJ.\" --IUTLAYOAY\n",
      "I:\t-271.299750\t\"N MJFW FSI N KTWLJY. N XJJ FSI N WJRJRGJW. N IT FSI N ZSIJWXYFSI.\" --HTSKZXNZX\n",
      "J:\t-257.016117\t\"M LIEV ERH M JSVKIX. M WII ERH M VIQIQFIV. M HS ERH M YRHIVWXERH.\" --GSRJYWMYW\n",
      "K:\t-267.452924\t\"L KHDU DQG L IRUJHW. L VHH DQG L UHPHPEHU. L GR DQG L XQGHUVWDQG.\" --FRQIXVLXV\n",
      "L:\t-265.559114\t\"K JGCT CPF K HQTIGV. K UGG CPF K TGOGODGT. K FQ CPF K WPFGTUVCPF.\" --EQPHWUKWU\n",
      "M:\t-259.083646\t\"J IFBS BOE J GPSHFU. J TFF BOE J SFNFNCFS. J EP BOE J VOEFSTUBOE.\" --DPOGVTJVT\n",
      "N:\t-238.235661\t\"I HEAR AND I FORGET. I SEE AND I REMEMBER. I DO AND I UNDERSTAND.\" --CONFUSIUS\n",
      "O:\t-263.915876\t\"H GDZQ ZMC H ENQFDS. H RDD ZMC H QDLDLADQ. H CN ZMC H TMCDQRSZMC.\" --BNMETRHTR\n",
      "P:\t-266.795598\t\"G FCYP YLB G DMPECR. G QCC YLB G PCKCKZCP. G BM YLB G SLBCPQRYLB.\" --AMLDSQGSQ\n",
      "Q:\t-271.291470\t\"F EBXO XKA F CLODBQ. F PBB XKA F OBJBJYBO. F AL XKA F RKABOPQXKA.\" --ZLKCRPFRP\n",
      "R:\t-272.319535\t\"E DAWN WJZ E BKNCAP. E OAA WJZ E NAIAIXAN. E ZK WJZ E QJZANOPWJZ.\" --YKJBQOEQO\n",
      "S:\t-273.790470\t\"D CZVM VIY D AJMBZO. D NZZ VIY D MZHZHWZM. D YJ VIY D PIYZMNOVIY.\" --XJIAPNDPN\n",
      "T:\t-264.146556\t\"C BYUL UHX C ZILAYN. C MYY UHX C LYGYGVYL. C XI UHX C OHXYLMNUHX.\" --WIHZOMCOM\n",
      "U:\t-270.341111\t\"B AXTK TGW B YHKZXM. B LXX TGW B KXFXFUXK. B WH TGW B NGWXKLMTGW.\" --VHGYNLBNL\n",
      "V:\t-267.596702\t\"A ZWSJ SFV A XGJYWL. A KWW SFV A JWEWETWJ. A VG SFV A MFVWJKLSFV.\" --UGFXMKAMK\n",
      "W:\t-272.823051\t\"Z YVRI REU Z WFIXVK. Z JVV REU Z IVDVDSVI. Z UF REU Z LEUVIJKREU.\" --TFEWLJZLJ\n",
      "X:\t-261.034143\t\"Y XUQH QDT Y VEHWUJ. Y IUU QDT Y HUCUCRUH. Y TE QDT Y KDTUHIJQDT.\" --SEDVKIYKI\n",
      "Y:\t-265.728144\t\"X WTPG PCS X UDGVTI. X HTT PCS X GTBTBQTG. X SD PCS X JCSTGHIPCS.\" --RDCUJHXJH\n",
      "Z:\t-251.551499\t\"W VSOF OBR W TCFUSH. W GSS OBR W FSASAPSF. W RC OBR W IBRSFGHOBR.\" --QCBTIGWIG\n",
      "\n",
      "the most likely key and plaintext:\n",
      " (-238.2356611472394, 'N', '\"I HEAR AND I FORGET. I SEE AND I REMEMBER. I DO AND I UNDERSTAND.\" --CONFUSIUS')\n"
     ]
    }
   ],
   "source": [
    "from ngram_score import ngram_score\n",
    "fitness = ngram_score('ngrams/en_sherlock_1grams') # load our ngram statistics\n",
    "\n",
    "alphabet = 'ABCDEFGHIJKLMNOPQRSTUVWXYZ'\n",
    "results = []\n",
    "for key in alphabet:\n",
    "    decrypted_ctext = rot(ctext, key, direction = -1)\n",
    "    ll_decrypted_ctext = fitness.score(decrypted_ctext)\n",
    "    results.append((ll_decrypted_ctext, key, decrypted_ctext))\n",
    "    print \"%s:\\t%f\\t%s\" % (key, ll_decrypted_ctext, decrypted_ctext)\n",
    "print \"\\nthe most likely key and plaintext:\\n %s\" % repr(max(results))"
   ]
  },
  {
   "cell_type": "markdown",
   "metadata": {},
   "source": [
    "Perhaps a bit underwhelming to use this for cracking the Caesar cipher. However, now we have a useful tool in hand that we can use for other more complicated ciphers as well, like the Vigenere cipher which we will now look at."
   ]
  },
  {
   "cell_type": "markdown",
   "metadata": {},
   "source": [
    "----\n",
    "\n",
    "## Vigenere\n",
    "\n",
    "\n",
    "Now we will move on to the Vigenere cipher, which is very similar to the Caesar cipher, except that the consecutive shifts of the plaintext characters are determined by a keyword. If the key has length $N$, then each $N^{th}$ character of the plaintext will be shifted by the same shift, determined by the corresponding character in the key. This relation of Vigenere being N interleaved Caesar ciphers is also visible from the code:"
   ]
  },
  {
   "cell_type": "code",
   "execution_count": 13,
   "metadata": {
    "collapsed": true
   },
   "outputs": [],
   "source": [
    "def vigenere(s, key, alphabet=\"ABCDEFGHIJKLMNOPQRSTUVWXYZ\", direction=1):\n",
    "    t = []\n",
    "    key_i = 0\n",
    "    for i in range(len(s)):\n",
    "        if s[i] in alphabet: # only process symbols from the specified alphabet\n",
    "            t.append(rot(s[i],key[key_i], alphabet, direction))\n",
    "            key_i = (key_i + 1) % len(key)\n",
    "        else:\n",
    "            t.append(s[i])\n",
    "    return \"\".join(t)    "
   ]
  },
  {
   "cell_type": "markdown",
   "metadata": {},
   "source": [
    "With Caesar we had:"
   ]
  },
  {
   "cell_type": "code",
   "execution_count": 14,
   "metadata": {
    "collapsed": false
   },
   "outputs": [
    {
     "data": {
      "text/plain": [
       "'\"V URNE NAQ V SBETRG. V FRR NAQ V ERZRZORE. V QB NAQ V HAQREFGNAQ.\" --PBASHFVHF'"
      ]
     },
     "execution_count": 14,
     "metadata": {},
     "output_type": "execute_result"
    }
   ],
   "source": [
    "ptext = '\"I HEAR AND I FORGET. I SEE AND I REMEMBER. I DO AND I UNDERSTAND.\" --CONFUSIUS'\n",
    "ctext = rot(ptext, 'N')\n",
    "ctext"
   ]
  },
  {
   "cell_type": "markdown",
   "metadata": {},
   "source": [
    "which can be seen as:\n",
    "\n",
    "    \"I HEAR AND I FORGET. I SEE AND I REMEMBER. I DO AND I UNDERSTAND.\" --CONFUSIUS\n",
    "     N NNNN NNN N NNNNNN  N NNN NNN N NNNNNNNN  N NN NNN N NNNNNNNNNN     NNNNNNNNN\n",
    "     ------------------------------------------------------------------------------\n",
    "    \"V URNE NAQ V SBETRG. V FRR NAQ V ERZRZORE. V QB NAQ V HAQREFGNAQ.\" --PBASHFVHF"
   ]
  },
  {
   "cell_type": "markdown",
   "metadata": {},
   "source": [
    "Whereas, for Vigenere we have:"
   ]
  },
  {
   "cell_type": "code",
   "execution_count": 15,
   "metadata": {
    "collapsed": false
   },
   "outputs": [
    {
     "data": {
      "text/plain": [
       "'\"V VROE OAR V TBFTSG. W FSR OAR V FRARAOSE. W QC NBQ W HBQSEGGOAR.\" --PCATHGVIF'"
      ]
     },
     "execution_count": 15,
     "metadata": {},
     "output_type": "execute_result"
    }
   ],
   "source": [
    "ptext = '\"I HEAR AND I FORGET. I SEE AND I REMEMBER. I DO AND I UNDERSTAND.\" --CONFUSIUS'\n",
    "ctext = vigenere(ptext, 'NO')\n",
    "ctext"
   ]
  },
  {
   "cell_type": "markdown",
   "metadata": {},
   "source": [
    "which can be seen as:\n",
    "\n",
    "    \"I HEAR AND I FORGET. I SEE AND I REMEMBER. I DO AND I UNDERSTAND.\" --CONFUSIUS\n",
    "     N ONON ONO N ONONON  O NON ONO N ONONONON  O NO NON O NONONONONO     NONONONON\n",
    "     ------------------------------------------------------------------------------\n",
    "    \"V VROE OAR V TBFTSG. W FSR OAR V FRARAOSE. W QC NBQ W HBQSEGGOAR.\" --PCATHGVIF"
   ]
  },
  {
   "cell_type": "markdown",
   "metadata": {},
   "source": [
    "### Vigenere Solution #0: Manually Cracking a Vigenere Cipher"
   ]
  },
  {
   "cell_type": "markdown",
   "metadata": {},
   "source": [
    "Since Vigenere is so similar to the Caesar cipher, we can re-use many of the same principles which we already saw for solving the Caesar cipher. However, before we can attack the Vigenere cipher in the same way as the Caesar cipher, we need to guess the length of the key. Again, for this we can use the frequency distributions, however, now we look at the frequency distribution of every $N^{th}$, since each $N^{th}$ character is shifted with the same key. In summary, we are going to **try different key lengths and see for which key length, the N different frequency distributions look most like shifted English distributions**. The technical way to measure this is through the **Index of Coincidence (IC)**, which characterizes piece of text by the likelihood of drawing a pair of identical letters at random from that text."
   ]
  },
  {
   "cell_type": "markdown",
   "metadata": {},
   "source": [
    "<div class=\"alert-warning\">\n",
    "<h3>CHALLENGE: Manually Cracking a Vigenere Cipher</h3>\n",
    "<br/>\n",
    "Before moving on to the IC, an alternative more visual approach for determining key length is used on http://www.simonsingh.net/The_Black_Chamber/vigenere_cracking_tool.html, which finds common letter combinations and how far they are apart in the text. Since these **distances between common letter combinations are likely a multiple of the key length**, investigating the common factors of these distances will give an indication of the likely key length.\n",
    "<br/><br/>\n",
    "Use the vigenere cracking tool at the above site to crack the following vigenere ciphertext: \n",
    "<pre>\n",
    "YFMRFDYCYRBEEXEBKRTTKMBRYJKEQNEHXVLXHDMRIRBEEGLNWVKXDUGRSVZIVCUNWVWVLSEAJIMXDNLRYTWRVUSGXFNXKQAYUYIFHFWENKBIQAUGYNMRWKSVCKQQHEIAIZNJHDEAYIWAVQAPMRTTKMBRYJPMIFEQHPKPLOAYQPBSWTEYJWBGRYPNWVLXRFHRUIMZLAUFFCXLDNEGHFZVHEPBSUQRJFOGMVBAHZTLXZFTRESVGCMEHEAEHZXLHDSGIZNJHDEAYGWMQFSVSKPIHZCEDGBMRZPETTMWVFHRHZXLHDUFJJIHLRFRWVVXDXPUFSMXIDOZTEMSIFHRWFEWKQAYUYIFHFUFJUIXHMCUUFQRWPECJELWRZAEJGMEWUNTPVGARDD\n",
    "</pre>\n",
    "\n",
    "Note how similar this approach is to the principles used to crack the Caesar cipher.\n",
    "</div>"
   ]
  },
  {
   "cell_type": "markdown",
   "metadata": {
    "collapsed": true
   },
   "source": [
    "### Index of Coincidence (IC)\n",
    "\n",
    "As mentioned, the technical way to measure how much a text is like a possibly shifted English letter frequency distribution, is through the Index of Coincidence (IC), which characterizes piece of text by the likelihood of drawing (without replacement) a pair of identical letters at random from that text:\n",
    "\n",
    "$$\n",
    "IC = \\sum_{i=1}^c \\big( \\frac{n_i}{N} \\times \\frac{n_i-1}{N-1} \\big)\n",
    "$$\n",
    "\n",
    "where $n_i$ is the count of the $i^{th}$ character in the alphabet, $c$ is the number of characters in the alphabet and $N$ is the length of the text. \n",
    "\n",
    "Each language has its own typical IC, and for N large enough you would get:\n",
    "\n",
    "$$\n",
    "IC = \\sum_{i=1}^c f_i^2\n",
    "$$\n",
    "\n",
    "where $f_i$ is the relative frequency of the $i^{th}$ character in the alphabet of that language. As you can see from the formula, a nice property of the IC is it is not affected by a substitution cipher. **Therefore, it can also be used to determine the language of the plaintext if you are only given the ciphertext of a substitution cipher, or whether you are even dealing with a substitution cipher.**\n",
    "\n",
    "For more details, see:\n",
    "- http://practicalcryptography.com/cryptanalysis/text-characterisation/index-coincidence/\n",
    "- https://en.wikipedia.org/wiki/Index_of_coincidence\n",
    "- http://www.cs.mtu.edu/~shene/NSF-4/Tutorial/VIG/Vig-IOC.html"
   ]
  },
  {
   "cell_type": "markdown",
   "metadata": {
    "collapsed": true
   },
   "source": [
    "### Determining Vigenere Key Length using IC\n",
    "\n",
    "The IC can be used to determine the most likely key length, using the fact that it is higher for plaintext (or plaintext under a particular substitution) than for random text. To illustrate how this can be used for determining the key length, consider this as a representation of a ciphertext encrypted with a key of length 5:\n",
    "\n",
    "    ABCDEABCDEABCDEABCDEABCDEABCDEABCDE\n",
    "    \n",
    "where A represents a ciphertext character encrypted with the first character of the key, B the second, etc.\n",
    "    \n",
    "Not knowing the key length, we could try a key length of 3 or 4 and obtain:\n",
    "\n",
    "    supposed key length=3\n",
    "    ABC\n",
    "    DEA\n",
    "    BCD\n",
    "    EAB\n",
    "    CDE\n",
    "    ABC\n",
    "    DEA\n",
    "    BCD\n",
    "    EAB\n",
    "    CDE\n",
    "    ABC\n",
    "    DE\n",
    "    \n",
    "and\n",
    "\n",
    "    supposed key length=4\n",
    "    ABCD\n",
    "    EABC\n",
    "    DEAB\n",
    "    CDEA\n",
    "    BCDE\n",
    "    ABCD\n",
    "    EABC\n",
    "    DEAB\n",
    "    CDE\n",
    "\n",
    "It can be seen that in each column the characters are encrypted using different letters of the key. Therefore the ciphertext characters in that column will be quite random and the IC will be low. However, when trying key length 5, we get\n",
    "\n",
    "    supposed key length=5\n",
    "    ABCDE\n",
    "    ABCDE\n",
    "    ABCDE\n",
    "    ABCDE\n",
    "    ABCDE\n",
    "    ABCDE\n",
    "    ABCDE\n",
    "\n",
    "Each column will now correspond to a particular substitution / Caesar cipher corresponding to that key character, and the IC will be higher. Looking at average IC of all columns, will indicate the key length.\n",
    "\n",
    "For more details, see:\n",
    "- http://practicalcryptography.com/cryptanalysis/stochastic-searching/cryptanalysis-vigenere-cipher/\n",
    "\n",
    "Now, suppose we have the following ciphertext:\n",
    "\n",
    "    VYCHVUYPESJMZCJZTXNOOEFSXMBQJTTNQAXWKBWTPDDKTUODCOPGJFNTMOPRLACBZGTWEAEEEOKWAKCXCHVOATLGFMVYZRWBNGHPQUCDRKSGXSGWZRZWMURLSTLCHLZWBAECCIMEESTLLPWVNCCMYLELPKAAPTCZKYCTZQOIKGICRMEQTSPWMGHKFTYOHRDCUBAQEQWTVRBPCFKGPWGGFEQTZFSDWDVCCLOYVPBFWGPVFPLYRTMCWVSDCCIHSBLGCLPWTVKPBNVNRLAVWVPQTOEACSYJIUVVPBXSFARC\n",
    "\n",
    "Let's try different key lengths and determine the average IC for each of them."
   ]
  },
  {
   "cell_type": "code",
   "execution_count": 16,
   "metadata": {
    "collapsed": false
   },
   "outputs": [],
   "source": [
    "from __future__ import division\n",
    "import numpy as np\n",
    "\n",
    "# computes the IC for a given string\n",
    "def IC(s, alphabet = 'ABCDEFGHIJKLMNOPQRSTUVWXYZ'):\n",
    "    s_filtered = filter(s, alphabet) # we only care about the letters in our alphabet\n",
    "    ic = 0\n",
    "    for c in alphabet:\n",
    "        c_count = s_filtered.count(c)\n",
    "        N = len(s_filtered)\n",
    "        if c_count > 1:\n",
    "            ic += (c_count * (c_count - 1)) / (N * (N - 1) / len(alphabet))\n",
    "    return ic\n",
    "\n",
    "# helper function to filter out non-alphabet characters\n",
    "def filter(s, alphabet = 'ABCDEFGHIJKLMNOPQRSTUVWXYZ'):\n",
    "    return \"\".join([c for c in s if c in alphabet])\n",
    "\n",
    "# computes the avg IC of subsequences of each n'th character\n",
    "def mean_IC(s, n, alphabet = 'ABCDEFGHIJKLMNOPQRSTUVWXYZ'):\n",
    "    s_filtered = filter(s, alphabet) # we only care about the letters in our alphabet\n",
    "    s_filtered_subseq = [s_filtered[i::n] for i in range(n)]\n",
    "    ic = []\n",
    "    for i in range(n):\n",
    "        ic.append(IC(s_filtered_subseq[i]))\n",
    "    return np.mean(ic)"
   ]
  },
  {
   "cell_type": "code",
   "execution_count": 17,
   "metadata": {
    "collapsed": true
   },
   "outputs": [],
   "source": [
    "ctext = \"VYCHVUYPESJMZCJZTXNOOEFSXMBQJTTNQAXWKBWTPDDKTUODCOPGJFNTMOPRLACBZGTWEAEEEOKWAKCXCHVOATLGFMVYZRWBNGHPQUCDRKSGXSGWZRZWMURLSTLCHLZWBAECCIMEESTLLPWVNCCMYLELPKAAPTCZKYCTZQOIKGICRMEQTSPWMGHKFTYOHRDCUBAQEQWTVRBPCFKGPWGGFEQTZFSDWDVCCLOYVPBFWGPVFPLYRTMCWVSDCCIHSBLGCLPWTVKPBNVNRLAVWVPQTOEACSYJIUVVPBXSFARC\""
   ]
  },
  {
   "cell_type": "code",
   "execution_count": 18,
   "metadata": {
    "collapsed": false
   },
   "outputs": [
    {
     "name": "stdout",
     "output_type": "stream",
     "text": [
      " 1 1.083234\n",
      " 2 1.086321\n",
      " 3 1.098669\n",
      " 4 1.049241\n",
      " 5 1.086600\n",
      " 6 1.102494\n",
      " 7 1.089516\n",
      " 8 1.068694\n",
      " 9 0.965257\n",
      "10 1.046831\n",
      "11 1.029495\n",
      "12 1.071087\n",
      "13 1.818558\n",
      "14 1.112678\n",
      "15 1.079532\n",
      "16 1.094513\n",
      "17 1.195790\n",
      "18 0.895697\n",
      "19 1.145238\n",
      "20 1.056190\n",
      "21 1.186395\n",
      "22 0.883117\n",
      "23 0.992095\n",
      "24 1.027778\n",
      "25 1.049455\n",
      "26 1.778788\n",
      "27 0.826786\n",
      "28 1.148052\n",
      "29 1.003413\n",
      "30 1.107407\n",
      "31 1.337276\n"
     ]
    },
    {
     "data": {
      "text/plain": [
       "<matplotlib.text.Text at 0x7f31127ba950>"
      ]
     },
     "execution_count": 18,
     "metadata": {},
     "output_type": "execute_result"
    },
    {
     "data": {
      "image/png": "[encoded data removed]",
      "text/plain": [
       "<matplotlib.figure.Figure at 0x7f313c6b6ad0>"
      ]
     },
     "metadata": {},
     "output_type": "display_data"
    }
   ],
   "source": [
    "from matplotlib import pyplot as plt\n",
    "mean_ic_n = []\n",
    "for n in range(1,32):\n",
    "    mean_ic = mean_IC(ctext.upper(), n)\n",
    "    mean_ic_n.append(mean_ic)\n",
    "    print \"%2d %02f\" % (n, mean_ic)\n",
    "plt.bar(range(1,len(mean_ic_n)+1), mean_ic_n, align = 'center')\n",
    "plt.xlabel(\"key length\")\n",
    "plt.ylabel(\"average IC\")"
   ]
  },
  {
   "cell_type": "markdown",
   "metadata": {},
   "source": [
    "Given the peaks at a key length of 13 and 26, it can be concluded that the key is likely 13 characters long."
   ]
  },
  {
   "cell_type": "markdown",
   "metadata": {},
   "source": [
    "\n",
    "## Vigenere Solution #1: Chi-square Criterion for Automatically Determining the Best Key"
   ]
  },
  {
   "cell_type": "markdown",
   "metadata": {},
   "source": [
    "Now we know that the key is likely 13 characters long, we can determine the most likely shifts for each of the 13 Caesar ciphers using the Chi-square criterion."
   ]
  },
  {
   "cell_type": "code",
   "execution_count": 19,
   "metadata": {
    "collapsed": false,
    "scrolled": true
   },
   "outputs": [
    {
     "name": "stdout",
     "output_type": "stream",
     "text": [
      "A:\t174.321536\tVCBTJGCYRUEVPGHQPDPDTVV\n",
      "B:\t135.161435\tUBASIFBXQTDUOFGPOCOCSUU\n",
      "C:\t174.741152\tTAZRHEAWPSCTNEFONBNBRTT\n",
      "D:\t749.974994\tSZYQGDZVORBSMDENMAMAQSS\n",
      "E:\t749.753363\tRYXPFCYUNQARLCDMLZLZPRR\n",
      "F:\t1023.499890\tQXWOEBXTMPZQKBCLKYKYOQQ\n",
      "G:\t1064.201422\tPWVNDAWSLOYPJABKJXJXNPP\n",
      "H:\t822.112075\tOVUMCZVRKNXOIZAJIWIWMOO\n",
      "I:\t294.183987\tNUTLBYUQJMWNHYZIHVHVLNN\n",
      "J:\t445.469333\tMTSKAXTPILVMGXYHGUGUKMM\n",
      "K:\t601.732984\tLSRJZWSOHKULFWXGFTFTJLL\n",
      "L:\t405.510551\tKRQIYVRNGJTKEVWFESESIKK\n",
      "M:\t1436.389441\tJQPHXUQMFISJDUVEDRDRHJJ\n",
      "N:\t122.635165\tIPOGWTPLEHRICTUDCQCQGII\n",
      "O:\t100.114310\tHONFVSOKDGQHBSTCBPBPFHH\n",
      "P:\t137.109864\tGNMEURNJCFPGARSBAOAOEGG\n",
      "Q:\t1535.160590\tFMLDTQMIBEOFZQRAZNZNDFF\n",
      "R:\t224.235327\tELKCSPLHADNEYPQZYMYMCEE\n",
      "S:\t1039.282345\tDKJBROKGZCMDXOPYXLXLBDD\n",
      "T:\t516.142405\tCJIAQNJFYBLCWNOXWKWKACC\n",
      "U:\t1101.747422\tBIHZPMIEXAKBVMNWVJVJZBB\n",
      "V:\t262.609220\tAHGYOLHDWZJAULMVUIUIYAA\n",
      "W:\t2900.479089\tZGFXNKGCVYIZTKLUTHTHXZZ\n",
      "X:\t454.418672\tYFEWMJFBUXHYSJKTSGSGWYY\n",
      "Y:\t1342.655748\tXEDVLIEATWGXRIJSRFRFVXX\n",
      "Z:\t433.868297\tWDCUKHDZSVFWQHIRQEQEUWW\n",
      "the best key and plaintext:\n",
      " (100.11430974338249, 'O', 'HONFVSOKDGQHBSTCBPBPFHH')\n",
      "\n",
      "A:\t453.233158\tYJQPFTXZKRCNTIKEWVVCVPV\n",
      "B:\t439.889463\tXIPOESWYJQBMSHJDVUUBUOU\n",
      "C:\t89.543826\tWHONDRVXIPALRGICUTTATNT\n",
      "D:\t760.551356\tVGNMCQUWHOZKQFHBTSSZSMS\n",
      "E:\t110.106465\tUFMLBPTVGNYJPEGASRRYRLR\n",
      "F:\t921.946378\tTELKAOSUFMXIODFZRQQXQKQ\n",
      "G:\t538.865699\tSDKJZNRTELWHNCEYQPPWPJP\n",
      "H:\t221.746522\tRCJIYMQSDKVGMBDXPOOVOIO\n",
      "I:\t197.791216\tQBIHXLPRCJUFLACWONNUNHN\n",
      "J:\t303.773651\tPAHGWKOQBITEKZBVNMMTMGM\n",
      "K:\t495.639937\tOZGFVJNPAHSDJYAUMLLSLFL\n",
      "L:\t994.094328\tNYFEUIMOZGRCIXZTLKKRKEK\n",
      "M:\t1448.868400\tMXEDTHLNYFQBHWYSKJJQJDJ\n",
      "N:\t431.501269\tLWDCSGKMXEPAGVXRJIIPICI\n",
      "O:\t318.824218\tKVCBRFJLWDOZFUWQIHHOHBH\n",
      "P:\t183.019654\tJUBAQEIKVCNYETVPHGGNGAG\n",
      "Q:\t820.546579\tITAZPDHJUBMXDSUOGFFMFZF\n",
      "R:\t169.594542\tHSZYOCGITALWCRTNFEELEYE\n",
      "S:\t595.657600\tGRYXNBFHSZKVBQSMEDDKDXD\n",
      "T:\t436.684515\tFQXWMAEGRYJUAPRLDCCJCWC\n",
      "U:\t866.697138\tEPWVLZDFQXITZOQKCBBIBVB\n",
      "V:\t118.950672\tDOVUKYCEPWHSYNPJBAAHAUA\n",
      "W:\t2901.245597\tCNUTJXBDOVGRXMOIAZZGZTZ\n",
      "X:\t213.717794\tBMTSIWACNUFQWLNHZYYFYSY\n",
      "Y:\t1438.809512\tALSRHVZBMTEPVKMGYXXEXRX\n",
      "Z:\t468.588210\tZKRQGUYALSDOUJLFXWWDWQW\n",
      "the best key and plaintext:\n",
      " (89.543826185504713, 'C', 'WHONDRVXIPALRGICUTTATNT')\n",
      "\n",
      "A:\t408.541711\tCZJDNWCRSLCCCCFQGCFCKQP\n",
      "B:\t304.935705\tBYICMVBQRKBBBBEPFBEBJPO\n",
      "C:\t212.584744\tAXHBLUAPQJAAAADOEADAION\n",
      "D:\t10026.034558\tZWGAKTZOPIZZZZCNDZCZHNM\n",
      "E:\t332.483790\tYVFZJSYNOHYYYYBMCYBYGML\n",
      "F:\t5013.625246\tXUEYIRXMNGXXXXALBXAXFLK\n",
      "G:\t1026.758569\tWTDXHQWLMFWWWWZKAWZWEKJ\n",
      "H:\t664.457528\tVSCWGPVKLEVVVVYJZVYVDJI\n",
      "I:\t472.704359\tURBVFOUJKDUUUUXIYUXUCIH\n",
      "J:\t215.485289\tTQAUENTIJCTTTTWHXTWTBHG\n",
      "K:\t220.624176\tSPZTDMSHIBSSSSVGWSVSAGF\n",
      "L:\t197.086591\tROYSCLRGHARRRRUFVRURZFE\n",
      "M:\t1784.333331\tQNXRBKQFGZQQQQTEUQTQYED\n",
      "N:\t289.248260\tPMWQAJPEFYPPPPSDTPSPXDC\n",
      "O:\t259.162427\tOLVPZIODEXOOOORCSOROWCB\n",
      "P:\t155.400269\tNKUOYHNCDWNNNNQBRNQNVBA\n",
      "Q:\t470.566199\tMJTNXGMBCVMMMMPAQMPMUAZ\n",
      "R:\t701.650370\tLISMWFLABULLLLOZPLOLTZY\n",
      "S:\t1402.325891\tKHRLVEKZATKKKKNYOKNKSYX\n",
      "T:\t5504.038479\tJGQKUDJYZSJJJJMXNJMJRXW\n",
      "U:\t216.868525\tIFPJTCIXYRIIIILWMILIQWV\n",
      "V:\t275.949952\tHEOISBHWXQHHHHKVLHKHPVU\n",
      "W:\t552.924694\tGDNHRAGVWPGGGGJUKGJGOUT\n",
      "X:\t374.390860\tFCMGQZFUVOFFFFITJFIFNTS\n",
      "Y:\t28.082109\tEBLFPYETUNEEEEHSIEHEMSR\n",
      "Z:\t213.776851\tDAKEOXDSTMDDDDGRHDGDLRQ\n",
      "the best key and plaintext:\n",
      " (28.08210935339384, 'Y', 'EBLFPYETUNEEEEHSIEHEMSR')\n",
      "\n",
      "A:\t195.328968\tHTTDTEHWGSICZRTWGCPIPTB\n",
      "B:\t76.854667\tGSSCSDGVFRHBYQSVFBOHOSA\n",
      "C:\t288.790065\tFRRBRCFUEQGAXPRUEANGNRZ\n",
      "D:\t1238.225649\tEQQAQBETDPFZWOQTDZMFMQY\n",
      "E:\t284.850055\tDPPZPADSCOEYVNPSCYLELPX\n",
      "F:\t561.041290\tCOOYOZCRBNDXUMORBXKDKOW\n",
      "G:\t514.677126\tBNNXNYBQAMCWTLNQAWJCJNV\n",
      "H:\t791.944733\tAMMWMXAPZLBVSKMPZVIBIMU\n",
      "I:\t757.405810\tZLLVLWZOYKAURJLOYUHAHLT\n",
      "J:\t1504.771990\tYKKUKVYNXJZTQIKNXTGZGKS\n",
      "K:\t2281.163715\tXJJTJUXMWIYSPHJMWSFYFJR\n",
      "L:\t363.298521\tWIISITWLVHXROGILVREXEIQ\n",
      "M:\t226.477437\tVHHRHSVKUGWQNFHKUQDWDHP\n",
      "N:\t436.548016\tUGGQGRUJTFVPMEGJTPCVCGO\n",
      "O:\t79.139446\tTFFPFQTISEUOLDFISOBUBFN\n",
      "P:\t30.965407\tSEEOEPSHRDTNKCEHRNATAEM\n",
      "Q:\t846.856643\tRDDNDORGQCSMJBDGQMZSZDL\n",
      "R:\t150.223946\tQCCMCNQFPBRLIACFPLYRYCK\n",
      "S:\t782.597247\tPBBLBMPEOAQKHZBEOKXQXBJ\n",
      "T:\t512.436507\tOAAKALODNZPJGYADNJWPWAI\n",
      "U:\t4096.082864\tNZZJZKNCMYOIFXZCMIVOVZH\n",
      "V:\t212.511057\tMYYIYJMBLXNHEWYBLHUNUYG\n",
      "W:\t2044.716073\tLXXHXILAKWMGDVXAKGTMTXF\n",
      "X:\t1077.120620\tKWWGWHKZJVLFCUWZJFSLSWE\n",
      "Y:\t456.647460\tJVVFVGJYIUKEBTVYIERKRVD\n",
      "Z:\t744.458223\tIUUEUFIXHTJDASUXHDQJQUC\n",
      "the best key and plaintext:\n",
      " (30.965407128631636, 'P', 'SEEOEPSHRDTNKCEHRNATAEM')\n",
      "\n",
      "A:\t825.129934\tVXTKMAVBXTMMKMYTFLLHBOX\n",
      "B:\t657.855633\tUWSJLZUAWSLLJLXSEKKGANW\n",
      "C:\t1252.566512\tTVRIKYTZVRKKIKWRDJJFZMV\n",
      "D:\t1552.278202\tSUQHJXSYUQJJHJVQCIIEYLU\n",
      "E:\t366.918089\tRTPGIWRXTPIIGIUPBHHDXKT\n",
      "F:\t223.356199\tQSOFHVQWSOHHFHTOAGGCWJS\n",
      "G:\t234.269118\tPRNEGUPVRNGGEGSNZFFBVIR\n",
      "H:\t261.016559\tOQMDFTOUQMFFDFRMYEEAUHQ\n",
      "I:\t287.968789\tNPLCESNTPLEECEQLXDDZTGP\n",
      "J:\t204.046301\tMOKBDRMSOKDDBDPKWCCYSFO\n",
      "K:\t827.942804\tLNJACQLRNJCCACOJVBBXREN\n",
      "L:\t852.423430\tKMIZBPKQMIBBZBNIUAAWQDM\n",
      "M:\t969.180131\tJLHYAOJPLHAAYAMHTZZVPCL\n",
      "N:\t3004.553105\tIKGXZNIOKGZZXZLGSYYUOBK\n",
      "O:\t1071.611202\tHJFWYMHNJFYYWYKFRXXTNAJ\n",
      "P:\t1538.916003\tGIEVXLGMIEXXVXJEQWWSMZI\n",
      "Q:\t95.413161\tFHDUWKFLHDWWUWIDPVVRLYH\n",
      "R:\t326.939605\tEGCTVJEKGCVVTVHCOUUQKXG\n",
      "S:\t370.187224\tDFBSUIDJFBUUSUGBNTTPJWF\n",
      "T:\t14.003307\tCEARTHCIEATTRTFAMSSOIVE\n",
      "U:\t1532.422321\tBDZQSGBHDZSSQSEZLRRNHUD\n",
      "V:\t151.555577\tACYPRFAGCYRRPRDYKQQMGTC\n",
      "W:\t1813.749607\tZBXOQEZFBXQQOQCXJPPLFSB\n",
      "X:\t68.287552\tYAWNPDYEAWPPNPBWIOOKERA\n",
      "Y:\t1850.970784\tXZVMOCXDZVOOMOAVHNNJDQZ\n",
      "Z:\t201.572386\tWYULNBWCYUNNLNZUGMMICPY\n",
      "the best key and plaintext:\n",
      " (14.003306651079868, 'T', 'CEARTHCIEATTRTFAMSSOIVE')\n",
      "\n",
      "A:\t28.485066\tUNNTOEONSLEYYEOVEOYSNES\n",
      "B:\t784.964487\tTMMSNDNMRKDXXDNUDNXRMDR\n",
      "C:\t374.195903\tSLLRMCMLQJCWWCMTCMWQLCQ\n",
      "D:\t431.623324\tRKKQLBLKPIBVVBLSBLVPKBP\n",
      "E:\t1575.947341\tQJJPKAKJOHAUUAKRAKUOJAO\n",
      "F:\t5183.609193\tPIIOJZJINGZTTZJQZJTNIZN\n",
      "G:\t74.357072\tOHHNIYIHMFYSSYIPYISMHYM\n",
      "H:\t2030.910377\tNGGMHXHGLEXRRXHOXHRLGXL\n",
      "I:\t514.218578\tMFFLGWGFKDWQQWGNWGQKFWK\n",
      "J:\t826.637694\tLEEKFVFEJCVPPVFMVFPJEVJ\n",
      "K:\t143.568420\tKDDJEUEDIBUOOUELUEOIDUI\n",
      "L:\t144.977727\tJCCIDTDCHATNNTDKTDNHCTH\n",
      "M:\t345.112943\tIBBHCSCBGZSMMSCJSCMGBSG\n",
      "N:\t83.921243\tHAAGBRBAFYRLLRBIRBLFARF\n",
      "O:\t3343.373568\tGZZFAQAZEXQKKQAHQAKEZQE\n",
      "P:\t3269.164314\tFYYEZPZYDWPJJPZGPZJDYPD\n",
      "Q:\t1278.208874\tEXXDYOYXCVOIIOYFOYICXOC\n",
      "R:\t1325.812760\tDWWCXNXWBUNHHNXENXHBWNB\n",
      "S:\t158.674775\tCVVBWMWVATMGGMWDMWGAVMA\n",
      "T:\t1502.021375\tBUUAVLVUZSLFFLVCLVFZULZ\n",
      "U:\t637.781036\tATTZUKUTYRKEEKUBKUEYTKY\n",
      "V:\t2845.557349\tZSSYTJTSXQJDDJTAJTDXSJX\n",
      "W:\t279.609051\tYRRXSISRWPICCISZISCWRIW\n",
      "X:\t544.407095\tXQQWRHRQVOHBBHRYHRBVQHV\n",
      "Y:\t578.026724\tWPPVQGQPUNGAAGQXGQAUPGU\n",
      "Z:\t1480.458917\tVOOUPFPOTMFZZFPWFPZTOFT\n",
      "the best key and plaintext:\n",
      " (28.485065754741353, 'A', 'UNNTOEONSLEYYEOVEOYSNES')\n",
      "\n",
      "A:\t237.053907\tYOQUPEAGGCELCQHRQYRBVAF\n",
      "B:\t1077.530177\tXNPTODZFFBDKBPGQPXQAUZE\n",
      "C:\t253.060179\tWMOSNCYEEACJAOFPOWPZTYD\n",
      "D:\t958.796718\tVLNRMBXDDZBIZNEONVOYSXC\n",
      "E:\t152.847363\tUKMQLAWCCYAHYMDNMUNXRWB\n",
      "F:\t1089.609759\tTJLPKZVBBXZGXLCMLTMWQVA\n",
      "G:\t417.184395\tSIKOJYUAAWYFWKBLKSLVPUZ\n",
      "H:\t1712.998298\tRHJNIXTZZVXEVJAKJRKUOTY\n",
      "I:\t656.908153\tQGIMHWSYYUWDUIZJIQJTNSX\n",
      "J:\t342.573311\tPFHLGVRXXTVCTHYIHPISMRW\n",
      "K:\t236.859457\tOEGKFUQWWSUBSGXHGOHRLQV\n",
      "L:\t160.178130\tNDFJETPVVRTARFWGFNGQKPU\n",
      "M:\t344.485091\tMCEIDSOUUQSZQEVFEMFPJOT\n",
      "N:\t20.159949\tLBDHCRNTTPRYPDUEDLEOINS\n",
      "O:\t262.412759\tKACGBQMSSOQXOCTDCKDNHMR\n",
      "P:\t528.349439\tJZBFAPLRRNPWNBSCBJCMGLQ\n",
      "Q:\t342.263963\tIYAEZOKQQMOVMARBAIBLFKP\n",
      "R:\t1845.200309\tHXZDYNJPPLNULZQAZHAKEJO\n",
      "S:\t878.521549\tGWYCXMIOOKMTKYPZYGZJDIN\n",
      "T:\t1031.661350\tFVXBWLHNNJLSJXOYXFYICHM\n",
      "U:\t423.183312\tEUWAVKGMMIKRIWNXWEXHBGL\n",
      "V:\t556.267011\tDTVZUJFLLHJQHVMWVDWGAFK\n",
      "W:\t335.601086\tCSUYTIEKKGIPGULVUCVFZEJ\n",
      "X:\t429.941731\tBRTXSHDJJFHOFTKUTBUEYDI\n",
      "Y:\t196.512028\tAQSWRGCIIEGNESJTSATDXCH\n",
      "Z:\t680.520635\tZPRVQFBHHDFMDRISRZSCWBG\n",
      "the best key and plaintext:\n",
      " (20.159949441418178, 'N', 'LBDHCRNTTPRYPDUEDLEOINS')\n",
      "\n",
      "A:\t17.254725\tPOAORETHWHSETTRBTVTLNCA\n",
      "B:\t767.933941\tONZNQDSGVGRDSSQASUSKMBZ\n",
      "C:\t286.844216\tNMYMPCRFUFQCRRPZRTRJLAY\n",
      "D:\t1091.678030\tMLXLOBQETEPBQQOYQSQIKZX\n",
      "E:\t277.207516\tLKWKNAPDSDOAPPNXPRPHJYW\n",
      "F:\t1077.293351\tKJVJMZOCRCNZOOMWOQOGIXV\n",
      "G:\t135.695235\tJIUILYNBQBMYNNLVNPNFHWU\n",
      "H:\t437.882563\tIHTHKXMAPALXMMKUMOMEGVT\n",
      "I:\t999.662539\tHGSGJWLZOZKWLLJTLNLDFUS\n",
      "J:\t551.437917\tGFRFIVKYNYJVKKISKMKCETR\n",
      "K:\t2360.671088\tFEQEHUJXMXIUJJHRJLJBDSQ\n",
      "L:\t76.595444\tEDPDGTIWLWHTIIGQIKIACRP\n",
      "M:\t330.252179\tDCOCFSHVKVGSHHFPHJHZBQO\n",
      "N:\t174.373830\tCBNBERGUJUFRGGEOGIGYAPN\n",
      "O:\t380.410634\tBAMADQFTITEQFFDNFHFXZOM\n",
      "P:\t645.916058\tAZLZCPESHSDPEECMEGEWYNL\n",
      "Q:\t354.744649\tZYKYBODRGRCODDBLDFDVXMK\n",
      "R:\t756.636367\tYXJXANCQFQBNCCAKCECUWLJ\n",
      "S:\t883.873970\tXWIWZMBPEPAMBBZJBDBTVKI\n",
      "T:\t263.336449\tWVHVYLAODOZLAAYIACASUJH\n",
      "U:\t4304.916511\tVUGUXKZNCNYKZZXHZBZRTIG\n",
      "V:\t463.874087\tUTFTWJYMBMXJYYWGYAYQSHF\n",
      "W:\t2119.324291\tTSESVIXLALWIXXVFXZXPRGE\n",
      "X:\t320.144818\tSRDRUHWKZKVHWWUEWYWOQFD\n",
      "Y:\t561.832829\tRQCQTGVJYJUGVVTDVXVNPEC\n",
      "Z:\t146.132659\tQPBPSFUIXITFUUSCUWUMODB\n",
      "the best key and plaintext:\n",
      " (17.254724617960768, 'A', 'POAORETHWHSETTRBTVTLNCA')\n",
      "\n",
      "A:\t1518.147850\tEEXDLOLPZLTLZSDPZPMGRSR\n",
      "B:\t401.687423\tDDWCKNKOYKSKYRCOYOLFQRQ\n",
      "C:\t2077.031150\tCCVBJMJNXJRJXQBNXNKEPQP\n",
      "D:\t155.518555\tBBUAILIMWIQIWPAMWMJDOPO\n",
      "E:\t693.278719\tAATZHKHLVHPHVOZLVLICNON\n",
      "F:\t934.698989\tZZSYGJGKUGOGUNYKUKHBMNM\n",
      "G:\t1051.620416\tYYRXFIFJTFNFTMXJTJGALML\n",
      "H:\t581.593732\tXXQWEHEISEMESLWISIFZKLK\n",
      "I:\t434.902073\tWWPVDGDHRDLDRKVHRHEYJKJ\n",
      "J:\t671.143548\tVVOUCFCGQCKCQJUGQGDXIJI\n",
      "K:\t154.431495\tUUNTBEBFPBJBPITFPFCWHIH\n",
      "L:\t29.272773\tTTMSADAEOAIAOHSEOEBVGHG\n",
      "M:\t2530.418559\tSSLRZCZDNZHZNGRDNDAUFGF\n",
      "N:\t316.074476\tRRKQYBYCMYGYMFQCMCZTEFE\n",
      "O:\t1457.060617\tQQJPXAXBLXFXLEPBLBYSDED\n",
      "P:\t442.037957\tPPIOWZWAKWEWKDOAKAXRCDC\n",
      "Q:\t2183.230785\tOOHNVYVZJVDVJCNZJZWQBCB\n",
      "R:\t123.737857\tNNGMUXUYIUCUIBMYIYVPABA\n",
      "S:\t1351.844455\tMMFLTWTXHTBTHALXHXUOZAZ\n",
      "T:\t757.573228\tLLEKSVSWGSASGZKWGWTNYZY\n",
      "U:\t894.325538\tKKDJRURVFRZRFYJVFVSMXYX\n",
      "V:\t1016.391684\tJJCIQTQUEQYQEXIUEURLWXW\n",
      "W:\t176.443622\tIIBHPSPTDPXPDWHTDTQKVWV\n",
      "X:\t118.838083\tHHAGOROSCOWOCVGSCSPJUVU\n",
      "Y:\t230.962153\tGGZFNQNRBNVNBUFRBROITUT\n",
      "Z:\t252.867796\tFFYEMPMQAMUMATEQAQNHSTS\n",
      "the best key and plaintext:\n",
      " (29.272773236728021, 'L', 'TTMSADAEOAIAOHSEOEBVGHG')\n",
      "\n",
      "A:\t315.083878\tSFWCAKGQRZLPQPCCFBCCLYC\n",
      "B:\t510.430791\tREVBZJFPQYKOPOBBEABBKXB\n",
      "C:\t586.526917\tQDUAYIEOPXJNONAADZAAJWA\n",
      "D:\t5714.545030\tPCTZXHDNOWIMNMZZCYZZIVZ\n",
      "E:\t148.273401\tOBSYWGCMNVHLMLYYBXYYHUY\n",
      "F:\t2897.281172\tNARXVFBLMUGKLKXXAWXXGTX\n",
      "G:\t1119.907662\tMZQWUEAKLTFJKJWWZVWWFSW\n",
      "H:\t582.829518\tLYPVTDZJKSEIJIVVYUVVERV\n",
      "I:\t468.206860\tKXOUSCYIJRDHIHUUXTUUDQU\n",
      "J:\t216.361762\tJWNTRBXHIQCGHGTTWSTTCPT\n",
      "K:\t81.869909\tIVMSQAWGHPBFGFSSVRSSBOS\n",
      "L:\t206.918529\tHULRPZVFGOAEFERRUQRRANR\n",
      "M:\t1507.963291\tGTKQOYUEFNZDEDQQTPQQZMQ\n",
      "N:\t221.942748\tFSJPNXTDEMYCDCPPSOPPYLP\n",
      "O:\t350.386509\tERIOMWSCDLXBCBOORNOOXKO\n",
      "P:\t226.282960\tDQHNLVRBCKWABANNQMNNWJN\n",
      "Q:\t830.156239\tCPGMKUQABJVZAZMMPLMMVIM\n",
      "R:\t766.091534\tBOFLJTPZAIUYZYLLOKLLUHL\n",
      "S:\t1201.725316\tANEKISOYZHTXYXKKNJKKTGK\n",
      "T:\t3288.619576\tZMDJHRNXYGSWXWJJMIJJSFJ\n",
      "U:\t138.175067\tYLCIGQMWXFRVWVIILHIIREI\n",
      "V:\t312.664713\tXKBHFPLVWEQUVUHHKGHHQDH\n",
      "W:\t460.459051\tWJAGEOKUVDPTUTGGJFGGPCG\n",
      "X:\t299.281083\tVIZFDNJTUCOSTSFFIEFFOBF\n",
      "Y:\t17.794107\tUHYECMISTBNRSREEHDEENAE\n",
      "Z:\t392.978830\tTGXDBLHRSAMQRQDDGCDDMZD\n",
      "the best key and plaintext:\n",
      " (17.794106752812969, 'Y', 'UHYECMISTBNRSREEHDEENAE')\n",
      "\n",
      "A:\t621.053047\tJSKOCWFUZWLKOWUFSFWLAJ\n",
      "B:\t609.861131\tIRJNBVETYVKJNVTEREVKZI\n",
      "C:\t541.123143\tHQIMAUDSXUJIMUSDQDUJYH\n",
      "D:\t281.884542\tGPHLZTCRWTIHLTRCPCTIXG\n",
      "E:\t233.029320\tFOGKYSBQVSHGKSQBOBSHWF\n",
      "F:\t440.232896\tENFJXRAPURGFJRPANARGVE\n",
      "G:\t1884.184129\tDMEIWQZOTQFEIQOZMZQFUD\n",
      "H:\t50.879775\tCLDHVPYNSPEDHPNYLYPETC\n",
      "I:\t844.874803\tBKCGUOXMRODCGOMXKXODSB\n",
      "J:\t396.621196\tAJBFTNWLQNCBFNLWJWNCRA\n",
      "K:\t817.151212\tZIAESMVKPMBAEMKVIVMBQZ\n",
      "L:\t1013.788681\tYHZDRLUJOLAZDLJUHULAPY\n",
      "M:\t1322.896820\tXGYCQKTINKZYCKITGTKZOX\n",
      "N:\t1664.584005\tWFXBPJSHMJYXBJHSFSJYNW\n",
      "O:\t364.019383\tVEWAOIRGLIXWAIGRERIXMV\n",
      "P:\t946.495562\tUDVZNHQFKHWVZHFQDQHWLU\n",
      "Q:\t187.348195\tTCUYMGPEJGVUYGEPCPGVKT\n",
      "R:\t451.877460\tSBTXLFODIFUTXFDOBOFUJS\n",
      "S:\t36.759849\tRASWKENCHETSWECNANETIR\n",
      "T:\t893.017563\tQZRVJDMBGDSRVDBMZMDSHQ\n",
      "U:\t135.669058\tPYQUICLAFCRQUCALYLCRGP\n",
      "V:\t1295.938128\tOXPTHBKZEBQPTBZKXKBQFO\n",
      "W:\t758.883192\tNWOSGAJYDAPOSAYJWJAPEN\n",
      "X:\t2957.308242\tMVNRFZIXCZONRZXIVIZODM\n",
      "Y:\t152.309657\tLUMQEYHWBYNMQYWHUHYNCL\n",
      "Z:\t1434.597986\tKTLPDXGVAXMLPXVGTGXMBK\n",
      "the best key and plaintext:\n",
      " (36.759849129505348, 'S', 'RASWKENCHETSWECNANETIR')\n",
      "\n",
      "A:\t193.927581\tMXBPBAMCWBPAIMBKDWVPVI\n",
      "B:\t769.246056\tLWAOAZLBVAOZHLAJCVUOUH\n",
      "C:\t2806.863646\tKVZNZYKAUZNYGKZIBUTNTG\n",
      "D:\t1261.430222\tJUYMYXJZTYMXFJYHATSMSF\n",
      "E:\t1487.359191\tITXLXWIYSXLWEIXGZSRLRE\n",
      "F:\t414.023126\tHSWKWVHXRWKVDHWFYRQKQD\n",
      "G:\t995.381983\tGRVJVUGWQVJUCGVEXQPJPC\n",
      "H:\t75.059236\tFQUIUTFVPUITBFUDWPOIOB\n",
      "I:\t21.718766\tEPTHTSEUOTHSAETCVONHNA\n",
      "J:\t710.078316\tDOSGSRDTNSGRZDSBUNMGMZ\n",
      "K:\t137.893481\tCNRFRQCSMRFQYCRATMLFLY\n",
      "L:\t994.383282\tBMQEQPBRLQEPXBQZSLKEKX\n",
      "M:\t470.561949\tALPDPOAQKPDOWAPYRKJDJW\n",
      "N:\t1936.516978\tZKOCONZPJOCNVZOXQJICIV\n",
      "O:\t137.243021\tYJNBNMYOINBMUYNWPIHBHU\n",
      "P:\t786.720303\tXIMAMLXNHMALTXMVOHGAGT\n",
      "Q:\t1602.720078\tWHLZLKWMGLZKSWLUNGFZFS\n",
      "R:\t670.847951\tVGKYKJVLFKYJRVKTMFEYER\n",
      "S:\t2162.223119\tUFJXJIUKEJXIQUJSLEDXDQ\n",
      "T:\t140.662158\tTEIWIHTJDIWHPTIRKDCWCP\n",
      "U:\t179.513887\tSDHVHGSICHVGOSHQJCBVBO\n",
      "V:\t83.954143\tRCGUGFRHBGUFNRGPIBAUAN\n",
      "W:\t916.634954\tQBFTFEQGAFTEMQFOHAZTZM\n",
      "X:\t686.506064\tPAESEDPFZESDLPENGZYSYL\n",
      "Y:\t592.684985\tOZDRDCOEYDRCKODMFYXRXK\n",
      "Z:\t906.406128\tNYCQCBNDXCQBJNCLEXWQWJ\n",
      "the best key and plaintext:\n",
      " (21.7187657659424, 'I', 'EPTHTSEUOTHSAETCVONHNA')\n",
      "\n",
      "A:\t854.801822\tZMWGZKVDMAWAKGAGWGSWWU\n",
      "B:\t1896.590694\tYLVFYJUCLZVZJFZFVFRVVT\n",
      "C:\t461.610523\tXKUEXITBKYUYIEYEUEQUUS\n",
      "D:\t1096.644562\tWJTDWHSAJXTXHDXDTDPTTR\n",
      "E:\t255.268959\tVISCVGRZIWSWGCWCSCOSSQ\n",
      "F:\t117.562758\tUHRBUFQYHVRVFBVBRBNRRP\n",
      "G:\t730.972262\tTGQATEPXGUQUEAUAQAMQQO\n",
      "H:\t2666.933756\tSFPZSDOWFTPTDZTZPZLPPN\n",
      "I:\t51.818136\tREOYRCNVESOSCYSYOYKOOM\n",
      "J:\t1510.166700\tQDNXQBMUDRNRBXRXNXJNNL\n",
      "K:\t336.714716\tPCMWPALTCQMQAWQWMWIMMK\n",
      "L:\t846.634247\tOBLVOZKSBPLPZVPVLVHLLJ\n",
      "M:\t577.169986\tNAKUNYJRAOKOYUOUKUGKKI\n",
      "N:\t3050.594115\tMZJTMXIQZNJNXTNTJTFJJH\n",
      "O:\t52.276471\tLYISLWHPYMIMWSMSISEIIG\n",
      "P:\t463.576439\tKXHRKVGOXLHLVRLRHRDHHF\n",
      "Q:\t991.237485\tJWGQJUFNWKGKUQKQGQCGGE\n",
      "R:\t815.359047\tIVFPITEMVJFJTPJPFPBFFD\n",
      "S:\t19.649313\tHUEOHSDLUIEISOIOEOAEEC\n",
      "T:\t246.736459\tGTDNGRCKTHDHRNHNDNZDDB\n",
      "U:\t270.537368\tFSCMFQBJSGCGQMGMCMYCCA\n",
      "V:\t351.973439\tERBLEPAIRFBFPLFLBLXBBZ\n",
      "W:\t581.745863\tDQAKDOZHQEAEOKEKAKWAAY\n",
      "X:\t5488.614051\tCPZJCNYGPDZDNJDJZJVZZX\n",
      "Y:\t141.479472\tBOYIBMXFOCYCMICIYIUYYW\n",
      "Z:\t2088.921693\tANXHALWENBXBLHBHXHTXXV\n",
      "the best key and plaintext:\n",
      " (19.649313116990811, 'S', 'HUEOHSDLUIEISOIOEOAEEC')\n",
      "\n"
     ]
    }
   ],
   "source": [
    "key_length = 13\n",
    "for i in range(key_length):\n",
    "    ctext_i = ctext[i::key_length]\n",
    "\n",
    "    alphabet = 'ABCDEFGHIJKLMNOPQRSTUVWXYZ'\n",
    "    chi2_k = []\n",
    "    for key in alphabet:\n",
    "        decrypted_ctext_i_k = rot(ctext_i, key, direction = -1)\n",
    "        f = np.array([decrypted_ctext_i_k.count(c) for c in alphabet])\n",
    "        N = np.sum(f) # note: not counting the non-alphabet characters here\n",
    "        f = f / N\n",
    "        chi2_decrypted_ctext_i_k = chi_square(f, g_english, N)\n",
    "        chi2_k.append((chi2_decrypted_ctext_i_k, key, decrypted_ctext_i_k))\n",
    "        print \"%s:\\t%f\\t%s\" % (key, chi2_decrypted_ctext_i_k, decrypted_ctext_i_k)\n",
    "    print \"the best key and plaintext:\\n %s\\n\" % repr(min(chi2_k))"
   ]
  },
  {
   "cell_type": "markdown",
   "metadata": {},
   "source": [
    "According to the Chi-square analysis the key is OCYPTANALYSIS."
   ]
  },
  {
   "cell_type": "code",
   "execution_count": 20,
   "metadata": {
    "collapsed": false
   },
   "outputs": [
    {
     "data": {
      "text/plain": [
       "'HWESCULPTUREHOHBEENBOTHAPUNOLEANDAMYSTEFNFORTHOSEWHOVDPETOCRACKTHSRYPHEREDMESSOVESCONTAINEDKXTHINTHESCULDIURESTWOTHOUGPNDALPHABETIQAETTERSINTHEHLENTYYEARSSIBREKRYPTOSWASSGECTEDTHREEOTIHEFOURSECTICCSHAVEBEENCOBUIRMEDTOHAVEPTENSOLVEDNOOBTHASYETBEENAPAETOSOLVETHEFTMAININGNINEHNSEVENCHARACHTRMESSAGE'"
      ]
     },
     "execution_count": 20,
     "metadata": {},
     "output_type": "execute_result"
    }
   ],
   "source": [
    "vigenere(ctext, 'OCYPTANALYSIS', direction = -1)"
   ]
  },
  {
   "cell_type": "markdown",
   "metadata": {},
   "source": [
    "Pretty close, but no cigar. Let's try CRYPTANALYSIS."
   ]
  },
  {
   "cell_type": "code",
   "execution_count": 21,
   "metadata": {
    "collapsed": false
   },
   "outputs": [
    {
     "data": {
      "text/plain": [
       "'THESCULPTUREHASBEENBOTHAPUZZLEANDAMYSTERYFORTHOSEWHOHOPETOCRACKTHECYPHEREDMESSAGESCONTAINEDWITHINTHESCULPTURESTWOTHOUSANDALPHABETICLETTERSINTHETWENTYYEARSSINCEKRYPTOSWASERECTEDTHREEOFTHEFOURSECTIONSHAVEBEENCONFIRMEDTOHAVEBEENSOLVEDNOONEHASYETBEENABLETOSOLVETHEREMAININGNINETYSEVENCHARACTERMESSAGE'"
      ]
     },
     "execution_count": 21,
     "metadata": {},
     "output_type": "execute_result"
    }
   ],
   "source": [
    "vigenere(ctext, 'CRYPTANALYSIS', direction = -1)"
   ]
  },
  {
   "cell_type": "markdown",
   "metadata": {},
   "source": [
    "<div class=\"alert-warning\">\n",
    "<h3>CHALLENGE: Using Chi-square criterion to decrypt Vigenere</h3>\n",
    "<br/>\n",
    "<b>Using the techniques described above, try deciphering these two messages:</b>\n",
    "\n",
    "<pre>\n",
    "TZKHT BTWJN BKGDP GVFVO HBTWA ZFFZP JVMJT VTHAV VAMFB BSBKU \n",
    "JBUKL BDOKR MWZLH RHFFH WLEGF GISTR WBDSL VOHVY UQSWN PFOXR \n",
    "WKKAN YBBXY NGHAR TJBZN BQZUE VUGUR MQOST VPBFA WWHWM OFFKU \n",
    "AMQFI AFHVR WVUFE GZHYR AMTSS OFSEZ DKTKP RDICN CQAFA OPIKG \n",
    "QMYWA AJBXB OBTWF BVFVA LZKHT REAVF BISWS VUPVN AAAXT UFTFH \n",
    "AUQKS NHSJG QMRAR FUHYE NMTSV RCSVA BWXNE QXVZY NBTWF BVFKU \n",
    "VMEKA TFFVZ JQZKA FPBVB OBTWM BTHWN VWGKU ATCCI NLOGD RTWEG \n",
    "QMIGR YEHYR BKGDP GVFVP XVFAN HFGKB KMAXI AUSIR BBFGC EZDKN \n",
    "WIXQS GTPFG QIYST RVFRA MXDGF RTGZB WIXOH BBFVN CBQEP GJBXG \n",
    "XLQUI CISIG QMRGU EUVJR LBUGN GISRE CQELH NTGFS JZSAV ROHNB \n",
    "LTGWS GPHYV BAQUT VPB\n",
    "</pre>\n",
    "<pre>\n",
    "more difficult to break (due to the text not being very typical?):\n",
    "IUOCA LGTAM DAQFN ISJTN MZGWS UZCBH GSSJT NM?LZ EYVKG LLZEE \n",
    "BJVPK EAGOW VQUXI EMVZB ZWING GTUSL IOOOC AYSTH FJGLS FDTSS \n",
    "PAEAT TFVWV VWRGS MWVVL OAOMP SFGWN MGEIL AONYV QMKDA NHDGG \n",
    "CFOWB TQCLL HIT?L JMQKH OVDFQ LKBUS AGLGM TTIWT MKGME XZGZW \n",
    "PWHPC PWOKT HFWZI ULLOD SVQGF ?ONMQ YELZI SXSUP AKLAT LOMKK \n",
    "AGFPV PAJTY FAIPL VEGSW GAXAF TZKGD WFMIO MVMKK IXQGK VLXIV \n",
    "FKGKG FDSOG TBZKE VFFVG KWVEO VGOJW ESFAI PLEIN VLGAX GRTZX \n",
    "QCJKE CPFFA OWSTJ VDGJG WS\n",
    "</pre>\n",
    "\n",
    "<b>Points to consider:</b>\n",
    "<ol>\n",
    "<li> Without solving it, do you think this is a transposition cipher of English text? (hint: investigate letter frequencies)\n",
    "<li> Without solving it, do you think this is a substitution cipher of English text? (hint: investigate the IC of the full text)\n",
    "<li> In case it is a Vigenere cipher (spoiler: it is):\n",
    "<ol>\n",
    "<li> what would be the mosdt likely key length? (hint: investigate the IC for different key lengths)\n",
    "<li> which positions would be shifted by the same key/amount?\n",
    "<li> what can you say about the plaintext language? (hint: investigate IC of subsequences)\n",
    "<li> solve the key by hand using frequency distributions of the subsequences.\n",
    "<li> solve the key automatically using the Chi-squared criterion.\n",
    "</ol>\n",
    "</ol>\n",
    "</div>"
   ]
  },
  {
   "cell_type": "markdown",
   "metadata": {},
   "source": [
    "## Vigenere Solution #2: Maximum Likelihood, Combined with a Search Procedure\n",
    "\n",
    "For solving Vigenere, we could also use Maximum Likelihood to evaluate how much like plaintext a decrypted ciphertext is. Combined with a way to search through possible keys, we can search for the best key. The advantage of using maximum likelihood is also that we can easily consider longer subsequences, rather than just look at the message as a bag of unordered letters where each letter has a frequency. By considering statistics of longer subsequences, we can better recognize when some text is written in a particular language.\n",
    "\n",
    "This approach is adapted from:\n",
    "- http://practicalcryptography.com/cryptanalysis/stochastic-searching/cryptanalysis-vigenere-cipher-part-2/\n",
    "\n",
    "Note that **this is just one possible way to search through the possible keys**. It does not use any information like IC for determining the likely key length N, or Chi-square for determining the likely values for the shifts of the N Caesar ciphers. Instead, for a range of key lengths, it exhaustively searches the possibilities for the first 3 characters of the key and keeps track of the best candidates. Then, it extends these subkeys one character at a time, while keeping track of the best candidates.\n",
    "\n",
    "An alternative way would be to determine the key length and likely key, using IC and Chi-square criteria, and then gradually improve they key using a stochastic search algorithm like simulated annealing."
   ]
  },
  {
   "cell_type": "markdown",
   "metadata": {},
   "source": [
    "During the search, we need a way to keep track of the best results so far. This can be easily achieved using the $\\texttt{nbest}$ class:"
   ]
  },
  {
   "cell_type": "code",
   "execution_count": 22,
   "metadata": {
    "collapsed": true
   },
   "outputs": [],
   "source": [
    "# keep a list of the N best things we have seen, discard anything else\n",
    "# this class can also be imported using 'import nbest' from a separate file nbest.py\n",
    "class nbest(object):\n",
    "    def __init__(self,N=1000):\n",
    "        self.store = []\n",
    "        self.N = N\n",
    "        \n",
    "    def add(self,item):\n",
    "        self.store.append(item)\n",
    "        self.store.sort(reverse=True)\n",
    "        self.store = self.store[:self.N]\n",
    "    \n",
    "    def __getitem__(self,k):\n",
    "        return self.store[k]\n",
    "\n",
    "    def __len__(self):\n",
    "        return len(self.store)"
   ]
  },
  {
   "cell_type": "code",
   "execution_count": 23,
   "metadata": {
    "collapsed": true
   },
   "outputs": [],
   "source": [
    "ctext = \"VYCHVUYPESJMZCJZTXNOOEFSXMBQJTTNQAXWKBWTPDDKTUODCOPGJFNTMOPRLACBZGTWEAEEEOKWAKCXCHVOATLGFMVYZRWBNGHPQUCDRKSGXSGWZRZWMURLSTLCHLZWBAECCIMEESTLLPWVNCCMYLELPKAAPTCZKYCTZQOIKGICRMEQTSPWMGHKFTYOHRDCUBAQEQWTVRBPCFKGPWGGFEQTZFSDWDVCCLOYVPBFWGPVFPLYRTMCWVSDCCIHSBLGCLPWTVKPBNVNRLAVWVPQTOEACSYJIUVVPBXSFARC\""
   ]
  },
  {
   "cell_type": "markdown",
   "metadata": {},
   "source": [
    "The search for the best key, as described above, is performed using the code below. Rather than solving and evaluating each shift individually, the criterion used to evaluate the quality of a keyword is the likelihood of the 4-grams in the decrypted ciphertext being English."
   ]
  },
  {
   "cell_type": "code",
   "execution_count": 24,
   "metadata": {
    "collapsed": false,
    "scrolled": false
   },
   "outputs": [
    {
     "name": "stdout",
     "output_type": "stream",
     "text": [
      "================================================================================\n",
      "-572.199596921 klen 3 :\"ZAL\", WYRIVJZPTTJBACYATMOODFFHYMQRJIUNFBXLLBLUPSEKIVOSDOEHJUOTBPPGMARCZVUWTBETFOZXAZDXRIVDBTAHFBWYOSWQOGWQQJDDGLSVYSVXZGAWBVRATTADHAAWQBERDIBFEHULAQWKOCRNYAFLELAPQTRAKNDTOROXLGXDRBFQITPLNGWLFIZOWSDRVBPREFXTKSBEDFZHPLHGUFQIAFHEWSWCRMONWPQGWVQVUQLNSTBDWKTDRDIWTBAHCAQWIWKECNKORABVLWPFUOTBCHZJXVVKQBMTFPSC\n",
      "================================================================================\n",
      "-514.775796714 klen 4 :\"LSOS\", KGOPKCKXTAVUOKVHIFZWDMRAMUNYYBFVFIJEZJIBELPSICALRWBOYNZBBWBZAIOJOOFETIQMTWWEPSOFRPHWPBXOUUHGOZIJCOTXFCOLGSEOMASEOZLEBCDTHBXKWTLEQIQKRQYMTAFTAXIDCKOUNTQTESMIEBOHZGOBOYAQZOUKGUQYIABEBOTSUBKWWZPKJJMYTYIBKZNXRNWOEESOUMCBONELLLHKRTAGKXNNLOBDUXXGGBYKLDELRKUPHJXORTBEIDWXQVHVGTMDLDBYIWQIRAKRXCHDEJJAUIDK\n",
      "================================================================================\n",
      "-816.384029622 klen 5 :\"RCOTI\", EWOONDWBLKSKLJBIRJUGXCRZPVZCQLCLCHPFINDLYBPRLDMPJGYEVMFCKAWJUYOIRPRILSNCQVCFYWJPLFHVSCJSMEEWLYOKLSOHZSOKJTQSEKPULYRFKGYDBRXJZUXIISNAOPENCEADUNICFLAYFDNJBRSJNFJRTWOARZMURYRADTWZREWOVETRXCWAOJMAGISZCCDLEPNWUOISWOPERLICXRZVFBHJUUMKCHKDINHEDBSQARYJOEQPJURFEIDPAXWOCTWWTWTZYDJTICHZRALSLQKQADTHWTGQRHJL\n",
      "================================================================================\n",
      "-1015.21898177 klen 6 :\"RLYYWY\", ENEJZWHEGUNOIRLBXZWDQGJUGBDSNVCCSCBYTQYVTFMZVWSFLDRINHWIOQTTUPEDDICLGCIGNDMYEMLMEJZQJINIJOENBTADWVJRUWLSTMWIGHIYDTILOWVNBINELNILDCIELXOGIUCANRAXWREOCNNARMECYIEBOALIBSSKTVKEVONFVUTYVVJMJVHDJTHEDQCSISFIXTFRLUMITYPVHGUVIUUFAFERENSAEEDHAIYKHRPAAIOEAXBSEEMJBQNIGNYLVXORKCXPVNJKYXTSCDGCGUHYKWZXYQZUJCAR\n",
      "================================================================================\n",
      "-1157.6396952 klen 7 :\"RLZPABO\", ENDSVTKYTTUMYOSOUINNANUTIMACSIUYQZJFZCHTOPMZUFOCOXEHUFMFVDQCLZOKOHEWDMNTFZKVMTRYNHUAJIMRFLHHOSHBMSQERFCCDTHHISFIIGAHMTDUHUWCGXILCLEBORBFPSSXUEXGNBOVNMPLOWJPQECYWHRUKQNUTVJNRLQZITAWLSQZGEYNTASDFBZCNFXEVQNYRGVGOIPVGPQSLOHEHDUOLAPJVONOLHAVEBUNSEMBIEHENCHTBQMRCKBFIWVPAZECSWAUIEEREODMLHZUITHEECISEMAR\n",
      "================================================================================\n",
      "-1256.90806285 klen 8 :\"LKPOLXEY\", KONTKXURTIUYOFFBINYADHBUMCMCYWPPFQIIZESVETOWIXKFREASYIJVBEADADYDOWEITDAGTEVIPNYZRXGAPWHIUCGKOUSDCWSBFXYFGADSMVCYOHKIBXNNHJWOWOVYQQPORLIGTIEXASSXCSNYNOANEALMEWYBZONFOTKKZWTOGPASIIAIBJDMUJJAWUZEJRLCTTSVKHMBRIGIEMRSUHMVOVDPLGRERBZKKSXHLWAHUSHAGJXOLYOFRSTTHEHIRBAIIYGRQDGZGOWXLLACIRACRIJVXXRXERIEUDNE\n",
      "================================================================================\n",
      "-1329.86689478 klen 9 :\"YOSCBXMST\", XKKFUXMXLUVUXBMNBEPAWCEVLUISVBRMTOFDMNEROGRSAWALANSURMPFUMOUZIJDLORVHOMLGASUZNQFJJHWYSOUNTXKHPVEBOORCCACUYANZEOUYUNETWDTQSOQPSBIJYDFQQTGQARKODECPOKKXOSTWMMINSFNSFEFHONLYOPEDUCPWGXDOSPIEWMWOTPKSADEMXYFDPASQNRIBEEFISYABRABVGJKJNAGTOETENRHNNKBFBTEIDQCFQQOUNTEBODEAXWXZMYBZSCHETOTHWLCOAWILIDCRNFQEDFK\n",
      "================================================================================\n",
      "-1380.61733025 klen 10 :\"RLOOIMCOLL\", ENOTNIWBTHSBLOBNRJCDXTREPAZCYICCCMPKINLIYSPWLIMPRDYVVRFHKAEGUPONRURITPNTQACKYWRMLWHASHJSUBENLDOPLSWEZJOPJYQSMHPLLDRKKGGABIXOZZXIQPNROUESCEIAUEIHFQAYNANABWSONFROTNOFREMUZVRRDYWEREELVVTWXHWAWGMRGNSECCLIEGNBUTISELPVRQIHXRHSFSHOUZMKKEKUISHJDBANAIYOOJQPRRRWENDUAXELCKWBTBTZGAJKIHHERATPLHKVAITHEQGHRMJQ\n",
      "================================================================================\n",
      "-1461.81730388 klen 11 :\"ITCJELFXRZH\", NFAYRJTSNTCEGAAVISQXPXXZVDXFEWCOJSEUBXLOSMEDLBMUYDKJSGGLTMGNAVFKAZLDCRATZRTXTCJVTDKJDCMZXTTPVGREWHAHXSTZGFVPYLYDXIVLHXAMLLSAYHOREJFVUPKVAHOOUQPNUATINGHUQDSHNKYOFBLUSIVGBCXXUVFJLZNNIVCNOURGOPUYJWDZFJOATIXEXITHIONEWAFOCOTWOKTTYAJBEQUXDEGRUKOHSMEJUMOSXFRILTSETHERWELITUTENAVYFWIIAMVWRNBSJNNCNSTHADAD\n",
      "================================================================================\n",
      "-1481.69582345 klen 12 :\"WBTCNSESBYAE\", ZXJFICUXDUJIDBQXGFJWNGFOBLIOWBPVPCXSOADRCLZSSWOZGNWEWNJBLQPNPZJZMOPEDCEAINRUNSYFBJVKESSESURGYTWXRFONDCYLQMSCBRNUMZVELWRHWSSAUTVEACEYGHTCRAPTKRWRRBJKLTATOMAWTSJXXGYBYSOEOFPAEUAYSUPSQFOISBUWGTDYYAHORYSBUTBLGERECECOEGQPDEZBJLRKBNOUZOIDJOLDERLUVSTAJDOLBEIDWASEPTLESXKLFMCLETWDVXPMXNLYPAURHWVRTAEQSINK\n",
      "================================================================================\n",
      "-982.668177856 klen 13 :\"CRYPTANALYSIS\", THESCULPTUREHASBEENBOTHAPUZZLEANDAMYSTERYFORTHOSEWHOHOPETOCRACKTHECYPHEREDMESSAGESCONTAINEDWITHINTHESCULPTURESTWOTHOUSANDALPHABETICLETTERSINTHETWENTYYEARSSINCEKRYPTOSWASERECTEDTHREEOFTHEFOURSECTIONSHAVEBEENCONFIRMEDTOHAVEBEENSOLVEDNOONEHASYETBEENABLETOSOLVETHEREMAININGNINETYSEVENCHARACTERMESSAGE\n",
      "================================================================================\n",
      "-1511.85448167 klen 14 :\"VGXNYIJILPPONA\", ASFUXMPHTDUYMCOTWKPGFWUDIYOQONWASSOOZMHFCDIEWHQVTGERURATRISENSTTOREIRAJYHBMORCRINTIOFNOTHEMQOCHNAGMJTHEVICHRIETWELCJOMIDHEWOULEQENGUTABPPEGLQJZIPUTENWPXCKFUSGERBQREKCBIPALPTEVIIDAIZGMEIGAGYJSNFNNQJKZGXJSHRQVSCWLAIRSLQXHOHPICHFRLXHSXLRAHSPQSUGOUNNHONOVHXVOTEDGOIGVBONAHUYCNNNEBEARAHMBWKMMNEMIESAWW\n",
      "================================================================================\n",
      "-1565.3751932 klen 15 :\"DARYWIOOOICRYDC\", SYLJZMKBQKHVBZHWTGPSGQREPKKSGRQNZCBOWNILNMFHRROMESHSVRFRVQMPIALDDYFIQSCNGLITATEBUTHASRUICKSYITATZSTHODEAPHSPZWYILDRUVWOJPTUELDLINSCLEFKBEBVPDBIHFALOVJBLYMESBFORIHEQXNORMKAODYWOCUMUJGQMJLKATJBLWYYNEZYXNDNBUDTIMUDGOGULLREVUMXZAIOHXTTRISHTORIWOTVEANEPOUGQUYJDCURALHWBTLEPOJXVFXTIFAQSABAGGRVERFPERMJA\n"
     ]
    }
   ],
   "source": [
    "from itertools import permutations\n",
    "from ngram_score import ngram_score\n",
    "\n",
    "import re\n",
    "import pprint as pp\n",
    "\n",
    "qgram = ngram_score('ngrams/en_sherlock_4grams') # load our 4gram statistics\n",
    "trigram = ngram_score('ngrams/en_sherlock_3grams') # load our 3gram statistics\n",
    "\n",
    "# keep track of the 100 best keys\n",
    "N=100 \n",
    "\n",
    "# test keys up to a length 15\n",
    "for KLEN in range(3,16):\n",
    "    \n",
    "    print \"=\"*80\n",
    "    rec = nbest(N)\n",
    "    \n",
    "    # exhaustively test all possible letters for first 3 entries of the key and keep track of the N best ones\n",
    "    # if KLEN=7, this will test e.g. FOOAAAA and BARAAAA \n",
    "    for i in permutations('ABCDEFGHIJKLMNOPQRSTUVWXYZ',3):\n",
    "        i = \"\".join(i)\n",
    "        key = ''.join(i) + 'A'*(KLEN-len(i))\n",
    "        decrypted_ctext = vigenere(ctext, key, direction = -1)\n",
    "        score = 0\n",
    "        for j in range(0,len(ctext),KLEN):\n",
    "            score += trigram.score(decrypted_ctext[j:j+3])\n",
    "        rec.add((score,''.join(i), decrypted_ctext))\n",
    "    next_rec = nbest(N)\n",
    "    \n",
    "    # for the remaining KLEN-3 characters of the key,\n",
    "    for i in range(0,KLEN-3):\n",
    "        # go over the N best keys found so far...\n",
    "        for k in xrange(N):\n",
    "            # ...and determine the best next character of the key, while keeping best N keys so far\n",
    "            for c in 'ABCDEFGHIJKLMNOPQRSTUVWXYZ':\n",
    "                key = rec[k][1] + c\n",
    "                fullkey = key + 'A'*(KLEN-len(key))\n",
    "                decrypted_ctext = vigenere(ctext, fullkey, direction = -1)\n",
    "                score = 0\n",
    "                for j in range(0,len(ctext),KLEN):\n",
    "                    score += qgram.score(decrypted_ctext[j:j+len(key)])\n",
    "                next_rec.add((score,key, decrypted_ctext))\n",
    "        rec = next_rec\n",
    "        next_rec = nbest(N)\n",
    "       \n",
    "    # show the results\n",
    "    bestscore = rec[0][0]\n",
    "    bestkey = rec[0][1]    \n",
    "    #decrypted_ctext = rec[0][2]\n",
    "    # always show entire decrypted ctext, even if the above analysis is done only on part of the ctext, e.g. ctext[0:100]\n",
    "    decrypted_ctext = vigenere(ctext, bestkey, direction = -1) \n",
    "    print bestscore, 'klen', KLEN, ':\"'+bestkey+'\",', decrypted_ctext\n",
    "    # uncomment the following lines to see top-10 results\n",
    "    #pp.pprint(rec.store[0:10])\n",
    "    #print '\\n'"
   ]
  },
  {
   "cell_type": "markdown",
   "metadata": {},
   "source": [
    "Here we can see that using the different criterion and search algorithm the correct key and plaintext have successfully been found."
   ]
  },
  {
   "cell_type": "markdown",
   "metadata": {},
   "source": [
    "## Vigenere Solution #3: Maximum Likelihood, Combined with Brute Force\n",
    "\n",
    "Instead of trying to determine the key character by character, we can also bruteforce it and keep track of the best key as before.\n",
    "\n",
    "The wordlist used here was downloaded from: \n",
    "https://packetstormsecurity.com/Crackers/wordlists/dictionaries/"
   ]
  },
  {
   "cell_type": "code",
   "execution_count": 25,
   "metadata": {
    "collapsed": true
   },
   "outputs": [],
   "source": [
    "ctext = \"VYCHVUYPESJMZCJZTXNOOEFSXMBQJTTNQAXWKBWTPDDKTUODCOPGJFNTMOPRLACBZGTWEAEEEOKWAKCXCHVOATLGFMVYZRWBNGHPQUCDRKSGXSGWZRZWMURLSTLCHLZWBAECCIMEESTLLPWVNCCMYLELPKAAPTCZKYCTZQOIKGICRMEQTSPWMGHKFTYOHRDCUBAQEQWTVRBPCFKGPWGGFEQTZFSDWDVCCLOYVPBFWGPVFPLYRTMCWVSDCCIHSBLGCLPWTVKPBNVNRLAVWVPQTOEACSYJIUVVPBXSFARC\""
   ]
  },
  {
   "cell_type": "code",
   "execution_count": 26,
   "metadata": {
    "collapsed": false,
    "scrolled": false
   },
   "outputs": [
    {
     "name": "stdout",
     "output_type": "stream",
     "text": [
      "          ANTICRISIS\t-1863.09,\t13,\tACROPARALYSIS,\tVWLTGUHPTUREHCHIFINXOTHAPUBOSFENZAMYSTETNMPVTDOSEWHOJDWFXOYRACKTHGRFQLENEDMESSCVLTGOJTAINEDYXAIMNPHESCULRIBSISPWOTHOUUPUEELLHABETIEALUXENSINTHEVLLOXYUEARSSIPRLLVYLTOSWASGGLDXEZTHREEOHIOFJOQRSECTIQCZIEVABEENCOPUPSQEZTOHAVEDTLOWOHVEDNOOPTOBWYATBEENADALUSSKLVETHETTTBMNENGNINEVNZFZEJCHARACVTYNISOAGE\n",
      "         BEERBACHITE\t-1863.09,\t13,\tACROPARALYSIS,\tVWLTGUHPTUREHCHIFINXOTHAPUBOSFENZAMYSTETNMPVTDOSEWHOJDWFXOYRACKTHGRFQLENEDMESSCVLTGOJTAINEDYXAIMNPHESCULRIBSISPWOTHOUUPUEELLHABETIEALUXENSINTHEVLLOXYUEARSSIPRLLVYLTOSWASGGLDXEZTHREEOHIOFJOQRSECTIQCZIEVABEENCOPUPSQEZTOHAVEDTLOWOHVEDNOOPTOBWYATBEENADALUSSKLVETHETTTBMNENGNINEVNZFZEJCHARACVTYNISOAGE\n",
      "            CAPRIOTE\t-1863.09,\t13,\tACROPARALYSIS,\tVWLTGUHPTUREHCHIFINXOTHAPUBOSFENZAMYSTETNMPVTDOSEWHOJDWFXOYRACKTHGRFQLENEDMESSCVLTGOJTAINEDYXAIMNPHESCULRIBSISPWOTHOUUPUEELLHABETIEALUXENSINTHEVLLOXYUEARSSIPRLLVYLTOSWASGGLDXEZTHREEOHIOFJOQRSECTIQCZIEVABEENCOPUPSQEZTOHAVEDTLOWOHVEDNOOPTOBWYATBEENADALUSSKLVETHETTTBMNENGNINEVNZFZEJCHARACVTYNISOAGE\n",
      "          COMMORIENT\t-1850.74,\t13,\tCHROMATOLYSIS,\tTRLTJUFBTUREHACIFLNVATHAPUZJSFHNXMMYSTERIMPYTBASEWHOHYWFAOWDACKTHEMFQOELQDMESSAQLTJOHFAINEDWSAIPNNTESCULPDBSLSNIOTHOUSKUEHLJTABETICVLUAELEINTHETGLOAYSQARSSINMLLYYJFOSWASEBLDAEXFHREEOFDOFMOODSECTIOXZIHVYNEENCONPPSTEXFOHAVEBOLOZOFHEDNOONOOBZYYFBEENABVLUVSIXVETHEROTBPNCZGNINETIZFCEHOHARACTOYNLSMMGE\n",
      "          DEGRADEDLY\t-1262.44,\t13,\tCRYPTANALYSIS,\tTHESCULPTUREHASBEENBOTHAPUZZLEANDAMYSTERYFORTHOSEWHOHOPETOCRACKTHECYPHEREDMESSAGESCONTAINEDWITHINTHESCULPTURESTWOTHOUSANDALPHABETICLETTERSINTHETWENTYYEARSSINCEKRYPTOSWASERECTEDTHREEOFTHEFOURSECTIONSHAVEBEENCONFIRMEDTOHAVEBEENSOLVEDNOONEHASYETBEENABLETOSOLVETHEREMAININGNINETYSEVENCHARACTERMESSAGE\n",
      "               ELDER\t-1262.44,\t13,\tCRYPTANALYSIS,\tTHESCULPTUREHASBEENBOTHAPUZZLEANDAMYSTERYFORTHOSEWHOHOPETOCRACKTHECYPHEREDMESSAGESCONTAINEDWITHINTHESCULPTURESTWOTHOUSANDALPHABETICLETTERSINTHETWENTYYEARSSINCEKRYPTOSWASERECTEDTHREEOFTHEFOURSECTIONSHAVEBEENCONFIRMEDTOHAVEBEENSOLVEDNOONEHASYETBEENABLETOSOLVETHEREMAININGNINETYSEVENCHARACTERMESSAGE\n",
      "            FIRELING\t-1262.44,\t13,\tCRYPTANALYSIS,\tTHESCULPTUREHASBEENBOTHAPUZZLEANDAMYSTERYFORTHOSEWHOHOPETOCRACKTHECYPHEREDMESSAGESCONTAINEDWITHINTHESCULPTURESTWOTHOUSANDALPHABETICLETTERSINTHETWENTYYEARSSINCEKRYPTOSWASERECTEDTHREEOFTHEFOURSECTIONSHAVEBEENCONFIRMEDTOHAVEBEENSOLVEDNOONEHASYETBEENABLETOSOLVETHEREMAININGNINETYSEVENCHARACTERMESSAGE\n",
      "              GROOTY\t-1262.44,\t13,\tCRYPTANALYSIS,\tTHESCULPTUREHASBEENBOTHAPUZZLEANDAMYSTERYFORTHOSEWHOHOPETOCRACKTHECYPHEREDMESSAGESCONTAINEDWITHINTHESCULPTURESTWOTHOUSANDALPHABETICLETTERSINTHETWENTYYEARSSINCEKRYPTOSWASERECTEDTHREEOFTHEFOURSECTIONSHAVEBEENCONFIRMEDTOHAVEBEENSOLVEDNOONEHASYETBEENABLETOSOLVETHEREMAININGNINETYSEVENCHARACTERMESSAGE\n",
      "           HYPOTOXIC\t-1262.44,\t13,\tCRYPTANALYSIS,\tTHESCULPTUREHASBEENBOTHAPUZZLEANDAMYSTERYFORTHOSEWHOHOPETOCRACKTHECYPHEREDMESSAGESCONTAINEDWITHINTHESCULPTURESTWOTHOUSANDALPHABETICLETTERSINTHETWENTYYEARSSINCEKRYPTOSWASERECTEDTHREEOFTHEFOURSECTIONSHAVEBEENCONFIRMEDTOHAVEBEENSOLVEDNOONEHASYETBEENABLETOSOLVETHEREMAININGNINETYSEVENCHARACTERMESSAGE\n",
      "            JONGLERY\t-1262.44,\t13,\tCRYPTANALYSIS,\tTHESCULPTUREHASBEENBOTHAPUZZLEANDAMYSTERYFORTHOSEWHOHOPETOCRACKTHECYPHEREDMESSAGESCONTAINEDWITHINTHESCULPTURESTWOTHOUSANDALPHABETICLETTERSINTHETWENTYYEARSSINCEKRYPTOSWASERECTEDTHREEOFTHEFOURSECTIONSHAVEBEENCONFIRMEDTOHAVEBEENSOLVEDNOONEHASYETBEENABLETOSOLVETHEREMAININGNINETYSEVENCHARACTERMESSAGE\n",
      "         MALAPROPISH\t-1262.44,\t13,\tCRYPTANALYSIS,\tTHESCULPTUREHASBEENBOTHAPUZZLEANDAMYSTERYFORTHOSEWHOHOPETOCRACKTHECYPHEREDMESSAGESCONTAINEDWITHINTHESCULPTURESTWOTHOUSANDALPHABETICLETTERSINTHETWENTYYEARSSINCEKRYPTOSWASERECTEDTHREEOFTHEFOURSECTIONSHAVEBEENCONFIRMEDTOHAVEBEENSOLVEDNOONEHASYETBEENABLETOSOLVETHEREMAININGNINETYSEVENCHARACTERMESSAGE\n",
      "           MULTIFOIL\t-1262.44,\t13,\tCRYPTANALYSIS,\tTHESCULPTUREHASBEENBOTHAPUZZLEANDAMYSTERYFORTHOSEWHOHOPETOCRACKTHECYPHEREDMESSAGESCONTAINEDWITHINTHESCULPTURESTWOTHOUSANDALPHABETICLETTERSINTHETWENTYYEARSSINCEKRYPTOSWASERECTEDTHREEOFTHEFOURSECTIONSHAVEBEENCONFIRMEDTOHAVEBEENSOLVEDNOONEHASYETBEENABLETOSOLVETHEREMAININGNINETYSEVENCHARACTERMESSAGE\n",
      "        OMBROPHOBOUS\t-1262.44,\t13,\tCRYPTANALYSIS,\tTHESCULPTUREHASBEENBOTHAPUZZLEANDAMYSTERYFORTHOSEWHOHOPETOCRACKTHECYPHEREDMESSAGESCONTAINEDWITHINTHESCULPTURESTWOTHOUSANDALPHABETICLETTERSINTHETWENTYYEARSSINCEKRYPTOSWASERECTEDTHREEOFTHEFOURSECTIONSHAVEBEENCONFIRMEDTOHAVEBEENSOLVEDNOONEHASYETBEENABLETOSOLVETHEREMAININGNINETYSEVENCHARACTERMESSAGE\n",
      "           PAUPERATE\t-1262.44,\t13,\tCRYPTANALYSIS,\tTHESCULPTUREHASBEENBOTHAPUZZLEANDAMYSTERYFORTHOSEWHOHOPETOCRACKTHECYPHEREDMESSAGESCONTAINEDWITHINTHESCULPTURESTWOTHOUSANDALPHABETICLETTERSINTHETWENTYYEARSSINCEKRYPTOSWASERECTEDTHREEOFTHEFOURSECTIONSHAVEBEENCONFIRMEDTOHAVEBEENSOLVEDNOONEHASYETBEENABLETOSOLVETHEREMAININGNINETYSEVENCHARACTERMESSAGE\n",
      "        POLYSYLLABIC\t-1262.44,\t13,\tCRYPTANALYSIS,\tTHESCULPTUREHASBEENBOTHAPUZZLEANDAMYSTERYFORTHOSEWHOHOPETOCRACKTHECYPHEREDMESSAGESCONTAINEDWITHINTHESCULPTURESTWOTHOUSANDALPHABETICLETTERSINTHETWENTYYEARSSINCEKRYPTOSWASERECTEDTHREEOFTHEFOURSECTIONSHAVEBEENCONFIRMEDTOHAVEBEENSOLVEDNOONEHASYETBEENABLETOSOLVETHEREMAININGNINETYSEVENCHARACTERMESSAGE\n",
      "           PYGOPAGUS\t-1262.44,\t13,\tCRYPTANALYSIS,\tTHESCULPTUREHASBEENBOTHAPUZZLEANDAMYSTERYFORTHOSEWHOHOPETOCRACKTHECYPHEREDMESSAGESCONTAINEDWITHINTHESCULPTURESTWOTHOUSANDALPHABETICLETTERSINTHETWENTYYEARSSINCEKRYPTOSWASERECTEDTHREEOFTHEFOURSECTIONSHAVEBEENCONFIRMEDTOHAVEBEENSOLVEDNOONEHASYETBEENABLETOSOLVETHEREMAININGNINETYSEVENCHARACTERMESSAGE\n",
      "           ROMERILLO\t-1262.44,\t13,\tCRYPTANALYSIS,\tTHESCULPTUREHASBEENBOTHAPUZZLEANDAMYSTERYFORTHOSEWHOHOPETOCRACKTHECYPHEREDMESSAGESCONTAINEDWITHINTHESCULPTURESTWOTHOUSANDALPHABETICLETTERSINTHETWENTYYEARSSINCEKRYPTOSWASERECTEDTHREEOFTHEFOURSECTIONSHAVEBEENCONFIRMEDTOHAVEBEENSOLVEDNOONEHASYETBEENABLETOSOLVETHEREMAININGNINETYSEVENCHARACTERMESSAGE\n",
      "          SHRIMPLIKE\t-1262.44,\t13,\tCRYPTANALYSIS,\tTHESCULPTUREHASBEENBOTHAPUZZLEANDAMYSTERYFORTHOSEWHOHOPETOCRACKTHECYPHEREDMESSAGESCONTAINEDWITHINTHESCULPTURESTWOTHOUSANDALPHABETICLETTERSINTHETWENTYYEARSSINCEKRYPTOSWASERECTEDTHREEOFTHEFOURSECTIONSHAVEBEENCONFIRMEDTOHAVEBEENSOLVEDNOONEHASYETBEENABLETOSOLVETHEREMAININGNINETYSEVENCHARACTERMESSAGE\n",
      "           STRIDENCE\t-1262.44,\t13,\tCRYPTANALYSIS,\tTHESCULPTUREHASBEENBOTHAPUZZLEANDAMYSTERYFORTHOSEWHOHOPETOCRACKTHECYPHEREDMESSAGESCONTAINEDWITHINTHESCULPTURESTWOTHOUSANDALPHABETICLETTERSINTHETWENTYYEARSSINCEKRYPTOSWASERECTEDTHREEOFTHEFOURSECTIONSHAVEBEENCONFIRMEDTOHAVEBEENSOLVEDNOONEHASYETBEENABLETOSOLVETHEREMAININGNINETYSEVENCHARACTERMESSAGE\n",
      "           TETRAPODA\t-1262.44,\t13,\tCRYPTANALYSIS,\tTHESCULPTUREHASBEENBOTHAPUZZLEANDAMYSTERYFORTHOSEWHOHOPETOCRACKTHECYPHEREDMESSAGESCONTAINEDWITHINTHESCULPTURESTWOTHOUSANDALPHABETICLETTERSINTHETWENTYYEARSSINCEKRYPTOSWASERECTEDTHREEOFTHEFOURSECTIONSHAVEBEENCONFIRMEDTOHAVEBEENSOLVEDNOONEHASYETBEENABLETOSOLVETHEREMAININGNINETYSEVENCHARACTERMESSAGE\n",
      "       UNADVENTURING\t-1262.44,\t13,\tCRYPTANALYSIS,\tTHESCULPTUREHASBEENBOTHAPUZZLEANDAMYSTERYFORTHOSEWHOHOPETOCRACKTHECYPHEREDMESSAGESCONTAINEDWITHINTHESCULPTURESTWOTHOUSANDALPHABETICLETTERSINTHETWENTYYEARSSINCEKRYPTOSWASERECTEDTHREEOFTHEFOURSECTIONSHAVEBEENCONFIRMEDTOHAVEBEENSOLVEDNOONEHASYETBEENABLETOSOLVETHEREMAININGNINETYSEVENCHARACTERMESSAGE\n",
      "        UNPRETENDING\t-1262.44,\t13,\tCRYPTANALYSIS,\tTHESCULPTUREHASBEENBOTHAPUZZLEANDAMYSTERYFORTHOSEWHOHOPETOCRACKTHECYPHEREDMESSAGESCONTAINEDWITHINTHESCULPTURESTWOTHOUSANDALPHABETICLETTERSINTHETWENTYYEARSSINCEKRYPTOSWASERECTEDTHREEOFTHEFOURSECTIONSHAVEBEENCONFIRMEDTOHAVEBEENSOLVEDNOONEHASYETBEENABLETOSOLVETHEREMAININGNINETYSEVENCHARACTERMESSAGE\n",
      "              WAXILY\t-1262.44,\t13,\tCRYPTANALYSIS,\tTHESCULPTUREHASBEENBOTHAPUZZLEANDAMYSTERYFORTHOSEWHOHOPETOCRACKTHECYPHEREDMESSAGESCONTAINEDWITHINTHESCULPTURESTWOTHOUSANDALPHABETICLETTERSINTHETWENTYYEARSSINCEKRYPTOSWASERECTEDTHREEOFTHEFOURSECTIONSHAVEBEENCONFIRMEDTOHAVEBEENSOLVEDNOONEHASYETBEENABLETOSOLVETHEREMAININGNINETYSEVENCHARACTERMESSAGE\n"
     ]
    }
   ],
   "source": [
    "from ngram_score import ngram_score\n",
    "\n",
    "import re\n",
    "import pprint as pp\n",
    "\n",
    "qgram = ngram_score('ngrams/en_sherlock_4grams') # load our 4gram statistics\n",
    "trigram = ngram_score('ngrams/en_sherlock_3grams') # load our 3gram statistics\n",
    "\n",
    "# keep track of the 100 best keys\n",
    "N=100 \n",
    "rec = nbest(N)\n",
    "\n",
    "f = open('wordlists/websters-dictionary','r')\n",
    "\n",
    "i = 1\n",
    "for key in f:    \n",
    "    key = re.sub(r'[^A-Z]','',key.upper())\n",
    "    decrypted_ctext = vigenere(ctext, key, direction = -1)\n",
    "    score = qgram.score(decrypted_ctext)\n",
    "    rec.add((score,key, decrypted_ctext))\n",
    "    i += 1\n",
    "    if i % 10000 == 0:\n",
    "        bestscore = rec[0][0]\n",
    "        bestkey = rec[0][1]\n",
    "        decrypted_ctext = vigenere(ctext, bestkey, direction = -1)\n",
    "        print \"%20s\\t%5.2f,\\t%s,\\t%s,\\t%s\" % (key, bestscore, len(bestkey), bestkey, decrypted_ctext)"
   ]
  },
  {
   "cell_type": "markdown",
   "metadata": {},
   "source": [
    "Again, the key was found successfully. Interestingly, before finding CRYPTANALYSIS, very similar words of the same length were identified as candidate keys:\n",
    "    - ACROPARALYSIS\n",
    "    - CHROMATOLYSIS\n",
    "    - CRYPTANALYSIS"
   ]
  },
  {
   "cell_type": "markdown",
   "metadata": {},
   "source": [
    "# Keyed Caesar Variants"
   ]
  },
  {
   "cell_type": "markdown",
   "metadata": {},
   "source": [
    "## Keyed Caesar Variants"
   ]
  },
  {
   "cell_type": "markdown",
   "metadata": {},
   "source": [
    "The **Caesar Cipher** is a substitution cipher, which substitutes letters by letters at the same index in a shifted version of the alphabet, i.e. in case of rot13, a Caesar cipher with key 'N'\n",
    "    \n",
    "        plain  alphabet       ABCDEFGHIJKLMNOPQRSTUVWXYZ\n",
    "        cipher alphabet       NOPQRSTUVWXYZABCDEFGHIJKLM (and other shifted versions of it, shown alphabet corresponds to key 'N')\n",
    "        \n",
    "A variant of the Caesar cipher is the **Keyed Caesar Cipher**, which uses an additional alphabet keyword to create a keyed cipher alphabet, i.e. in case the alphabet keyword is KRYPTOS:\n",
    "    \n",
    "        plain  alphabet       ABCDEFGHIJKLMNOPQRSTUVWXYZ\n",
    "        cipher alphabet       KRYPTOSABCDEFGHIJLMNQUVWXZ (and other shifted versions of it, shown alphabet corresponds to key 'A')\n",
    "                              RYPTOSABCDEFGHIJLMNQUVWXZK (and other shifted versions of it, shown alphabet corresponds to key 'B')\n",
    "\n",
    "\n",
    "Finally, we can also use a keyed alphabet for both the plain alphabet and the cipher alphabet to obtain we will call a **Caesar Cipher with a keyed alphabet** here (note the difference with Keyed Caesar):\n",
    "\n",
    "        plain  alphabet       KRYPTOSABCDEFGHIJLMNQUVWXZ\n",
    "        cipher alphabet       KRYPTOSABCDEFGHIJLMNQUVWXZ (and other shifted versions of it, shown alphabet corresponds to key 'K')\n",
    "                              RYPTOSABCDEFGHIJLMNQUVWXZK (and other shifted versions of it, shown alphabet corresponds to key 'R')\n",
    "        \n",
    "First, let's define a function for computing a keyed alphabet. It takes an alphabet and a keyword consisting of symbols from that alphabet. Then, it removes all but the first occurence of each character in the keyword (i.e. CRYPTANALYSIS becomes CRYPTANLSI), and then appends the remaining characters of the alphabet in order to obtain the keyed alphabet (i.e. CRYPTANLSIBDEFGHJKMOQUVWXZ)"
   ]
  },
  {
   "cell_type": "code",
   "execution_count": 27,
   "metadata": {
    "collapsed": true
   },
   "outputs": [],
   "source": [
    "import re\n",
    "\n",
    "def compute_keyed_alphabet(keyword, alphabet = \"ABCDEFGHIJKLMNOPQRSTUVWXYZ\"):\n",
    "    # remove double keyword letters, keeping first occurence\n",
    "    keyword_unique = \"\"\n",
    "    for c in keyword:\n",
    "        if c not in keyword_unique:\n",
    "            keyword_unique += c\n",
    "    # compute cipher alphabet\n",
    "    keyed_alphabet = keyword_unique + re.sub(\"[%s]\" % keyword, \"\", alphabet)\n",
    "    return keyed_alphabet"
   ]
  },
  {
   "cell_type": "code",
   "execution_count": 28,
   "metadata": {
    "collapsed": false
   },
   "outputs": [],
   "source": [
    "def keyed_caesar(s, key, alphabet=\"ABCDEFGHIJKLMNOPQRSTUVWXYZ\", alpha_key=\"A\", direction=1):\n",
    "    # compute cipher alphabet\n",
    "    keyed_alphabet = compute_keyed_alphabet(alpha_key, alphabet)\n",
    "    # set source and destination alphabet depending on direction\n",
    "    if direction == 1:\n",
    "        src_alphabet = alphabet\n",
    "        dst_alphabet = keyed_alphabet\n",
    "    else:\n",
    "        src_alphabet = keyed_alphabet\n",
    "        dst_alphabet = alphabet\n",
    "    # encrypt / decrypt\n",
    "    keyval = alphabet.find(key)\n",
    "    t = \"\"\n",
    "    for sc in s:\n",
    "        i = src_alphabet.find(sc)\n",
    "        t += dst_alphabet[(i + keyval * direction) % len(dst_alphabet)] if i > -1 else sc\n",
    "    return t"
   ]
  },
  {
   "cell_type": "markdown",
   "metadata": {},
   "source": [
    "## Cryptanalysis - Keyed Caesar\n",
    "\n",
    "### Effect of Keyed Caesar on Frequency Distributions"
   ]
  },
  {
   "cell_type": "code",
   "execution_count": 29,
   "metadata": {
    "collapsed": true
   },
   "outputs": [],
   "source": [
    "ptext = \"THESCULPTUREHASBEENBOTHAPUZZLEANDAMYSTERYFORTHOSEWHOHOPETOCRACKTHECYPHEREDMESSAGESCONTAINEDWITHINTHESCULPTURESTWOTHOUSANDALPHABETICLETTERSINTHETWENTYYEARSSINCEKRYPTOSWASERECTEDTHREEOFTHEFOURSECTIONSHAVEBEENCONFIRMEDTOHAVEBEENSOLVEDNOONEHASYETBEENABLETOSOLVETHEREMAININGNINETYSEVENCHARACTERMESSAGE\""
   ]
  },
  {
   "cell_type": "markdown",
   "metadata": {},
   "source": [
    "Now, like we did before with the normal Caesar cipher and look at the effect of the cipher on the frequency distribution:"
   ]
  },
  {
   "cell_type": "code",
   "execution_count": 30,
   "metadata": {
    "collapsed": false
   },
   "outputs": [
    {
     "data": {
      "image/png": "[encoded data removed]",
      "text/plain": [
       "<matplotlib.figure.Figure at 0x7f31130d3a10>"
      ]
     },
     "metadata": {},
     "output_type": "display_data"
    },
    {
     "name": "stdout",
     "output_type": "stream",
     "text": [
      "NATMYQEINQLTAKMRTTGRHNAKIQZZETKGPKFXMNTLXOHLNAHMTVAHAHITNHYLKYDNATYXIATLTPFTMMKSTMYHGNKBGTPVBNABGNATMYQEINQLTMNVHNAHQMKGPKEIAKRTNBYETNNTLMBGNATNVTGNXXTKLMMBGYTDLXINHMVKMTLTYNTPNALTTHONATOHQLMTYNBHGMAKUTRTTGYHGOBLFTPNHAKUTRTTGMHEUTPGHHGTAKMXTNRTTGKRETNHMHEUTNATLTFKBGBGSGBGTNXMTUTGYAKLKYNTLFTMMKST\n"
     ]
    }
   ],
   "source": [
    "# https://blog.dominodatalab.com/interactive-dashboards-in-jupyter/\n",
    "# http://ipywidgets.readthedocs.io/en/latest/examples/Using%20Interact.html\n",
    "from __future__ import division\n",
    "from matplotlib import pyplot as plt\n",
    "import numpy as np\n",
    "from ipywidgets import interact, interactive, fixed\n",
    "#import ipywidgets as widgets\n",
    "plt.rcParams[\"figure.figsize\"] = [12,9]\n",
    "\n",
    "alphabet = \"ABCDEFGHIJKLMNOPQRSTUVWXYZ\"\n",
    "keyed_alphabet = compute_keyed_alphabet(\"KRYPTOS\", alphabet)  # UNCOMMENT IF YOU WANT ORDER THE \n",
    "\n",
    "def rotate(l, n):\n",
    "    return l[n:] + l[:n]\n",
    "\n",
    "@interact(key_i = (0,25,1))\n",
    "def plot_graphs(key_i = 0):\n",
    "    # encrypt ptext using this key\n",
    "    key = alphabet[key_i]\n",
    "    ctext = keyed_caesar(ptext, key, alpha_key=\"KRYPTOS\", direction=1)\n",
    "    \n",
    "    # determine letter frequency in plaintext, and plot\n",
    "    ptext_freq = np.array([ptext.count(c)/len(ptext) for c in alphabet])\n",
    "    pfig = plt.subplot(3,1,1)\n",
    "    plt.bar(range(len(alphabet)), ptext_freq, tick_label = list(alphabet), align = 'center', color = 'b')\n",
    "    plt.title('blue = plaintext letter frequency, red = ciphertext letter frequency')\n",
    "  \n",
    "    # determine letter frequency in ciphertext, and plot, ordered by keyed alphabet\n",
    "    ctext_freq = np.array([ctext.count(c)/len(ctext) for c in keyed_alphabet])\n",
    "    cfig = plt.subplot(3,1,2)\n",
    "    plt.bar(range(len(keyed_alphabet)), ctext_freq, tick_label = rotate(list(keyed_alphabet), key_i), align = 'center', color = 'r')\n",
    "    plt.xlabel(\"key = %s\" % key)\n",
    "\n",
    "    # determine letter frequency in ciphertext, and plot, ordered by alphabet\n",
    "    ctext_freq = np.array([ctext.count(c)/len(ctext) for c in alphabet])\n",
    "    cfig = plt.subplot(3,1,3)\n",
    "    plt.bar(range(len(alphabet)), ctext_freq, tick_label = rotate(list(alphabet), key_i), align = 'center', color = 'r')\n",
    "    plt.xlabel(\"key = %s\" % key)\n",
    "    \n",
    "    plt.show()\n",
    "    print ctext"
   ]
  },
  {
   "cell_type": "markdown",
   "metadata": {},
   "source": [
    "We can see that due to the keyed alphabet, the effect of Keyed Caesar is not just a shift of the frequency distributions (unless we look at the frequencies in order of the keyed alphabet)."
   ]
  },
  {
   "cell_type": "markdown",
   "metadata": {},
   "source": [
    "### Determine Key by Aligning Frequency Distributions?\n",
    "\n",
    "Now, we'll start with a ciphertext resulting from Keyed Caesar encryption, and look at decrypting it by aligning frequency distributions. **Note that when just given the ciphertext, we have no idea what the key to create the keyed alphabet is.**"
   ]
  },
  {
   "cell_type": "code",
   "execution_count": 31,
   "metadata": {
    "collapsed": false
   },
   "outputs": [
    {
     "data": {
      "text/plain": [
       "'SQLOIAXYSATLQGOHLLKHRSQGYAFFXLGKJGZEOSLTEMRTSQROLCQRQRYLSRITGIWSQLIEYQLTLJZLOOGNLOIRKSGUKLJCUSQUKSQLOIAXYSATLOSCRSQRAOGKJGXYQGHLSUIXLSSLTOUKSQLSCLKSEELGTOOUKILWTEYSROCGOLTLISLJSQTLLRMSQLMRATOLISURKOQGBLHLLKIRKMUTZLJSRQGBLHLLKORXBLJKRRKLQGOELSHLLKGHXLSRORXBLSQLTLZGUKUKNKUKLSEOLBLKIQGTGISLTZLOOGNL'"
      ]
     },
     "execution_count": 31,
     "metadata": {},
     "output_type": "execute_result"
    }
   ],
   "source": [
    "ctext = keyed_caesar(ptext, \"N\", alpha_key=\"KRYPTOS\", direction=1)\n",
    "ctext"
   ]
  },
  {
   "cell_type": "code",
   "execution_count": 32,
   "metadata": {
    "collapsed": false
   },
   "outputs": [
    {
     "data": {
      "image/png": "[encoded data removed]",
      "text/plain": [
       "<matplotlib.figure.Figure at 0x7f3112f99110>"
      ]
     },
     "metadata": {},
     "output_type": "display_data"
    },
    {
     "name": "stdout",
     "output_type": "stream",
     "text": [
      "SQLOIAXYSATLQGOHLLKHRSQGYAFFXLGKJGZEOSLTEMRTSQROLCQRQRYLSRITGIWSQLIEYQLTLJZLOOGNLOIRKSGUKLJCUSQUKSQLOIAXYSATLOSCRSQRAOGKJGXYQGHLSUIXLSSLTOUKSQLSCLKSEELGTOOUKILWTEYSROCGOLTLISLJSQTLLRMSQLMRATOLISURKOQGBLHLLKIRKMUTZLJSRQGBLHLLKORXBLJKRRKLQGOELSHLLKGHXLSRORXBLSQLTLZGUKUKNKUKLSEOLBLKIQGTGISLTZLOOGNL\n"
     ]
    }
   ],
   "source": [
    "# https://blog.dominodatalab.com/interactive-dashboards-in-jupyter/\n",
    "# http://ipywidgets.readthedocs.io/en/latest/examples/Using%20Interact.html\n",
    "from __future__ import division\n",
    "from matplotlib import pyplot as plt\n",
    "import numpy as np\n",
    "from ipywidgets import interact, interactive, fixed\n",
    "#import ipywidgets as widgets\n",
    "plt.rcParams[\"figure.figsize\"] = [12,6]\n",
    "\n",
    "alphabet = \"ABCDEFGHIJKLMNOPQRSTUVWXYZ\"\n",
    "\n",
    "def rotate(l, n):\n",
    "    return l[n:] + l[:n]\n",
    "\n",
    "@interact(key_i = (0,25,1))\n",
    "def plot_graphs(key_i = 0):\n",
    "    # decrypt ciphertext using this key\n",
    "    key = alphabet[key_i]\n",
    "    # NOTE THAT WE DO NOT KNOW THE KEY TO THE ALPHABET, SO WE CANNOT USE THAT!!!\n",
    "    decrypted_ctext = keyed_caesar(ctext, key, alpha_key = \"A\", direction=-1)\n",
    "    # determine letter frequency in plaintext, and plot # FIXME: base on separate text\n",
    "    ptext_freq = np.array([ptext.count(c)/len(ptext) for c in alphabet])\n",
    "    pfig = plt.subplot(2,1,1)\n",
    "    plt.bar(range(len(alphabet)), ptext_freq, tick_label = list(alphabet), align = 'center', color = 'b')\n",
    "    plt.title('blue = plaintext letter frequency, green = decrypted ciphertext letter frequency')\n",
    "\n",
    "    # determine letter frequency in ciphertext, and plot\n",
    "    ctext_freq = np.array([decrypted_ctext.count(c)/len(decrypted_ctext) for c in alphabet])\n",
    "    cfig = plt.subplot(2,1,2)\n",
    "    plt.bar(range(len(alphabet)), ctext_freq, tick_label = rotate(list(alphabet), key_i), align = 'center', color = 'g')\n",
    "    plt.xlabel(\"key = %s\" % key)\n",
    "    \n",
    "    plt.show()\n",
    "    print decrypted_ctext"
   ]
  },
  {
   "cell_type": "markdown",
   "metadata": {},
   "source": [
    "For easy reference, this is the subtitution when keying the alphabet with 'KRYPTOS', and using key 'N':\n",
    "  \n",
    "        plain  alphabet       ABCDEFGHIJKLMNOPQRSTUVWXYZ\n",
    "        cipher alphabet       KRYPTOSABCDEFGHIJLMNQUVWXZ (and other shifted versions of it, shown alphabet corresponds to key 'A')\n",
    "                              GHIJLMNQUVWXZKRYPTOSABCDEF (and other shifted versions of it, shown alphabet corresponds to key 'N')\n",
    "                              \n",
    "From this plot, it can be seen that when we do not know what was the keyword for creating the keyed alphabet, the cipher cannot be broken by simply aligning the frequency distributions and a more general approach for breaking the substitution is needed."
   ]
  },
  {
   "cell_type": "markdown",
   "metadata": {},
   "source": [
    "### Keyed Caesar Solution #1: Maximum Likelihood, Combined with Search Procedure\n",
    "\n",
    "However, since it is a substitution cipher, we could find the substitution and entire cipher alphabet as follows:\n",
    "- guessing the individual substitutions based on frequency: assume most frequent ciphertext character is 'E' etc\n",
    "- given this cipher alphabet, gradually try to improve the substitution by swapping characters in the cipher alphabet\n",
    "- measure the likelihood of plaintext being English as before, and keep track of best keys found so far\n",
    "\n",
    "More on this approach can be found [here](http://practicalcryptography.com/cryptanalysis/stochastic-searching/cryptanalysis-simple-substitution-cipher/)."
   ]
  },
  {
   "cell_type": "code",
   "execution_count": 33,
   "metadata": {
    "collapsed": false
   },
   "outputs": [
    {
     "data": {
      "text/plain": [
       "'SQLOIAXYSATLQGOHLLKHRSQGYAFFXLGKJGZEOSLTEMRTSQROLCQRQRYLSRITGIWSQLIEYQLTLJZLOOGNLOIRKSGUKLJCUSQUKSQLOIAXYSATLOSCRSQRAOGKJGXYQGHLSUIXLSSLTOUKSQLSCLKSEELGTOOUKILWTEYSROCGOLTLISLJSQTLLRMSQLMRATOLISURKOQGBLHLLKIRKMUTZLJSRQGBLHLLKORXBLJKRRKLQGOELSHLLKGHXLSRORXBLSQLTLZGUKUKNKUKLSEOLBLKIQGTGISLTZLOOGNL'"
      ]
     },
     "execution_count": 33,
     "metadata": {},
     "output_type": "execute_result"
    }
   ],
   "source": [
    "ctext = keyed_caesar(ptext, \"N\", alpha_key=\"KRYPTOS\", direction=1)\n",
    "ctext"
   ]
  },
  {
   "cell_type": "code",
   "execution_count": 34,
   "metadata": {
    "collapsed": true
   },
   "outputs": [],
   "source": [
    "def substitution(s, key, alphabet=\"ABCDEFGHIJKLMNOPQRSTUVWXYZ\", direction=1):\n",
    "    if direction == 1:\n",
    "        src_alphabet = alphabet\n",
    "        dst_alphabet = key\n",
    "    else:\n",
    "        src_alphabet = key\n",
    "        dst_alphabet = alphabet\n",
    "    \n",
    "    t = \"\"\n",
    "    for c in s:\n",
    "        if c in src_alphabet:\n",
    "            t += dst_alphabet[src_alphabet.find(c)]\n",
    "        else:\n",
    "            t += c\n",
    "    return t"
   ]
  },
  {
   "cell_type": "code",
   "execution_count": 35,
   "metadata": {
    "collapsed": false
   },
   "outputs": [
    {
     "name": "stdout",
     "output_type": "stream",
     "text": [
      "Substitution Cipher solver, you may have to wait several iterations for the correct result. Halt execution by halting the kernel, using the stop button in the toolbar.\n",
      "\n",
      "best score so far: -1574.47410192 on iteration 1\n",
      "    best key: RBZJLWMQIVAOHTGCPKSEUNYFXD\n",
      "    plaintext: SHELIKYWSKNEHOLMEERMASHOWKXXYEORDOCTLSENTGANSHALEPHAHAWESAINOIFSHEITWHENEDCELLOVELIARSOUREDPUSHURSHELIKYWSKNELSPASHAKLORDOYWHOMESUIYESSENLURSHESPERSTTEONLLURIEFNTWSALPOLENEISEDSHNEEAGSHEGAKNLEISUARLHOBEMEERIARGUNCEDSAHOBEMEERLAYBEDRAAREHOLTESMEEROMYESALAYBESHENECOURURVRURESTLEBERIHONOISENCELLOVE\n",
      "\n",
      "best score so far: -1262.44303835 on iteration 2\n",
      "    best key: GHIJLMNQUPWXZKRYVTOSABCDEF\n",
      "    plaintext: THESCULPTUREHASBEENBOTHAPUZZLEANDAMYSTERYFORTHOSEWHOHOPETOCRACKTHECYPHEREDMESSAGESCONTAINEDWITHINTHESCULPTURESTWOTHOUSANDALPHABETICLETTERSINTHETWENTYYEARSSINCEKRYPTOSWASERECTEDTHREEOFTHEFOURSECTIONSHAVEBEENCONFIRMEDTOHAVEBEENSOLVEDNOONEHASYETBEENABLETOSOLVETHEREMAININGNINETYSEVENCHARACTERMESSAGE\n"
     ]
    }
   ],
   "source": [
    "import random\n",
    "import re\n",
    "from ngram_score import ngram_score\n",
    "fitness = ngram_score('ngrams/en_sherlock_4grams') # load our quadgram statistics\n",
    "\n",
    "alphabet = \"ABCDEFGHIJKLMNOPQRSTUVWXYZ\"\n",
    "maxkey = list(alphabet)\n",
    "maxscore = -99e9\n",
    "parentscore,parentkey = maxscore,maxkey[:]\n",
    "\n",
    "print \"Substitution Cipher solver, you may have to wait several iterations for the correct result. Halt execution by halting the kernel, using the stop button in the toolbar.\"\n",
    "# keep going until we are killed by the user\n",
    "i = 0\n",
    "rec = nbest(1000)\n",
    "\n",
    "MAX_ITER = 10\n",
    "\n",
    "while i < MAX_ITER:\n",
    "    i = i+1\n",
    "    random.shuffle(parentkey)\n",
    "    # KEYED CAESAR WITH KEY \"A\" IS JUST A SUBSTITUTION CIPHER\n",
    "    deciphered = substitution(ctext, \"\".join(parentkey), alphabet, direction=-1)\n",
    "    parentscore = fitness.score(deciphered)\n",
    "    count = 0\n",
    "    while count < 1000:\n",
    "        a = random.randint(0,len(alphabet)-1)\n",
    "        b = random.randint(0,len(alphabet)-1)\n",
    "        child = parentkey[:]\n",
    "        # swap two characters in the child\n",
    "        child[a],child[b] = child[b],child[a]\n",
    "        deciphered = substitution(ctext, \"\".join(child), alphabet, direction=-1)\n",
    "        score = fitness.score(deciphered)\n",
    "        # if the child was better, replace the parent with it\n",
    "        if score > parentscore:\n",
    "            parentscore = score\n",
    "            parentkey = child[:]\n",
    "            count = 0\n",
    "        count = count+1\n",
    "        rec.add((score, child, deciphered))\n",
    "    # keep track of best score printed so far, and print if improved\n",
    "    if parentscore > maxscore:\n",
    "        maxscore = rec[0][0]\n",
    "        maxkey = rec[0][1]\n",
    "        #deciphered = rec[0][2]\n",
    "        deciphered = substitution(ctext, \"\".join(maxkey), alphabet, direction=-1)\n",
    "        print '\\nbest score so far:',maxscore,'on iteration',i\n",
    "        print '    best key: '+ \"\".join(maxkey)\n",
    "        print '    plaintext: '+ deciphered"
   ]
  },
  {
   "cell_type": "markdown",
   "metadata": {},
   "source": [
    "## Cryptanalysis - Caesar with Keyed Alphabet"
   ]
  },
  {
   "cell_type": "markdown",
   "metadata": {},
   "source": [
    "### Effect of Caesar with Keyed Alphabet on Frequency Distributions"
   ]
  },
  {
   "cell_type": "code",
   "execution_count": 36,
   "metadata": {
    "collapsed": true
   },
   "outputs": [],
   "source": [
    "def caesar_keyed_alphabet(s, key, alphabet=\"ABCDEFGHIJKLMNOPQRSTUVWXYZ\", alpha_key=\"\", direction=1):\n",
    "    # compute keyed alphabet\n",
    "    keyed_alphabet = compute_keyed_alphabet(alpha_key, alphabet)\n",
    "    return rot(s, key, keyed_alphabet, direction)"
   ]
  },
  {
   "cell_type": "code",
   "execution_count": 37,
   "metadata": {
    "collapsed": true
   },
   "outputs": [],
   "source": [
    "ptext = \"THESCULPTUREHASBEENBOTHAPUZZLEANDAMYSTERYFORTHOSEWHOHOPETOCRACKTHECYPHEREDMESSAGESCONTAINEDWITHINTHESCULPTURESTWOTHOUSANDALPHABETICLETTERSINTHETWENTYYEARSSINCEKRYPTOSWASERECTEDTHREEOFTHEFOURSECTIONSHAVEBEENCONFIRMEDTOHAVEBEENSOLVEDNOONEHASYETBEENABLETOSOLVETHEREMAININGNINETYSEVENCHARACTERMESSAGE\"\n",
    "alpha_key_ = \"KRYPTOS\""
   ]
  },
  {
   "cell_type": "code",
   "execution_count": 38,
   "metadata": {
    "collapsed": false
   },
   "outputs": [
    {
     "data": {
      "image/png": "[encoded data removed]",
      "text/plain": [
       "<matplotlib.figure.Figure at 0x7f31127f9850>"
      ]
     },
     "metadata": {},
     "output_type": "display_data"
    },
    {
     "name": "stdout",
     "output_type": "stream",
     "text": [
      "THESCULPTUREHASBEENBOTHAPUZZLEANDAMYSTERYFORTHOSEWHOHOPETOCRACKTHECYPHEREDMESSAGESCONTAINEDWITHINTHESCULPTURESTWOTHOUSANDALPHABETICLETTERSINTHETWENTYYEARSSINCEKRYPTOSWASERECTEDTHREEOFTHEFOURSECTIONSHAVEBEENCONFIRMEDTOHAVEBEENSOLVEDNOONEHASYETBEENABLETOSOLVETHEREMAININGNINETYSEVENCHARACTERMESSAGE\n"
     ]
    }
   ],
   "source": [
    "# https://blog.dominodatalab.com/interactive-dashboards-in-jupyter/\n",
    "# http://ipywidgets.readthedocs.io/en/latest/examples/Using%20Interact.html\n",
    "from __future__ import division\n",
    "from matplotlib import pyplot as plt\n",
    "import numpy as np\n",
    "from ipywidgets import interact, interactive, fixed\n",
    "#import ipywidgets as widgets\n",
    "plt.rcParams[\"figure.figsize\"] = [12,9]\n",
    "alphabet = \"ABCDEFGHIJKLMNOPQRSTUVWXYZ\"\n",
    "keyed_alphabet = compute_keyed_alphabet(alpha_key_, alphabet)\n",
    "\n",
    "def rotate(l, n):\n",
    "    return l[n:] + l[:n]\n",
    "\n",
    "@interact(key_i = (0,25,1))\n",
    "def plot_graphs(key_i = 0):\n",
    "    # encrypt plaintext using this key\n",
    "    key = keyed_alphabet[key_i]\n",
    "    ctext = caesar_keyed_alphabet(ptext, key, alphabet=\"ABCDEFGHIJKLMNOPQRSTUVWXYZ\", alpha_key=alpha_key_, direction=1)    \n",
    "    \n",
    "    # determine letter frequency in plaintext, and plot\n",
    "    ptext_freq = np.array([ptext.count(c)/len(ptext) for c in keyed_alphabet])\n",
    "    pfig = plt.subplot(3,1,1)\n",
    "    plt.bar(range(len(keyed_alphabet)), ptext_freq, tick_label = list(keyed_alphabet), align = 'center', color = 'b')\n",
    "    plt.title('blue = plaintext letter frequency, red = ciphertext letter frequency')\n",
    "\n",
    "    # determine letter frequency in ciphertext, and plot, in order keyed alphabet\n",
    "    ctext_freq = np.array([ctext.count(c)/len(ctext) for c in keyed_alphabet])\n",
    "    cfig = plt.subplot(3,1,2)\n",
    "    plt.bar(range(len(keyed_alphabet)), ctext_freq, tick_label = rotate(list(keyed_alphabet), key_i), align = 'center', color = 'r')\n",
    "    plt.xlabel(\"key = %s\" % key)\n",
    "    \n",
    "    # determine letter frequency in ciphertext, and plot, in order of alphabet\n",
    "    ctext_freq = np.array([ctext.count(c)/len(ctext) for c in alphabet])\n",
    "    cfig = plt.subplot(3,1,3)\n",
    "    plt.bar(range(len(alphabet)), ctext_freq, tick_label = rotate(list(alphabet), key_i), align = 'center', color = 'r')\n",
    "    plt.xlabel(\"key = %s\" % key)\n",
    "    \n",
    "    plt.show()\n",
    "    print ctext"
   ]
  },
  {
   "cell_type": "markdown",
   "metadata": {},
   "source": [
    "If we look at the frequencies in order of the keyed alphabet, then again the effect of Caesar with Keyed Alphabet can be seen as shifting the frequency distributions. However, this is not the case when the looking at the frequencies in order of the alphabet."
   ]
  },
  {
   "cell_type": "markdown",
   "metadata": {},
   "source": [
    "### Determine Key by Aligning Frequency Distributions?"
   ]
  },
  {
   "cell_type": "code",
   "execution_count": 39,
   "metadata": {
    "collapsed": false
   },
   "outputs": [
    {
     "data": {
      "text/plain": [
       "'WATZYHDVWHQTAKZRTTFRXWAKVHMMDTKFPKEUZWTQUOXQWAXZTJAXAXVTWXYQKYNWATYUVATQTPETZZKSTZYXFWKBFTPJBWABFWATZYHDVWHQTZWJXWAXHZKFPKDVAKRTWBYDTWWTQZBFWATWJTFWUUTKQZZBFYTNQUVWXZJKZTQTYWTPWAQTTXOWATOXHQZTYWBXFZAKITRTTFYXFOBQETPWXAKITRTTFZXDITPFXXFTAKZUTWRTTFKRDTWXZXDITWATQTEKBFBFSFBFTWUZTITFYAKQKYWTQETZZKST'"
      ]
     },
     "execution_count": 39,
     "metadata": {},
     "output_type": "execute_result"
    }
   ],
   "source": [
    "ptext = \"THESCULPTUREHASBEENBOTHAPUZZLEANDAMYSTERYFORTHOSEWHOHOPETOCRACKTHECYPHEREDMESSAGESCONTAINEDWITHINTHESCULPTURESTWOTHOUSANDALPHABETICLETTERSINTHETWENTYYEARSSINCEKRYPTOSWASERECTEDTHREEOFTHEFOURSECTIONSHAVEBEENCONFIRMEDTOHAVEBEENSOLVEDNOONEHASYETBEENABLETOSOLVETHEREMAININGNINETYSEVENCHARACTERMESSAGE\"\n",
    "ctext = caesar_keyed_alphabet(ptext, key=\"N\", alphabet=\"ABCDEFGHIJKLMNOPQRSTUVWXYZ\", alpha_key=\"KRYPTOS\", direction=1)    \n",
    "ctext"
   ]
  },
  {
   "cell_type": "code",
   "execution_count": 40,
   "metadata": {
    "collapsed": false
   },
   "outputs": [
    {
     "data": {
      "image/png": "[encoded data removed]",
      "text/plain": [
       "<matplotlib.figure.Figure at 0x7f3112511f50>"
      ]
     },
     "metadata": {},
     "output_type": "display_data"
    },
    {
     "name": "stdout",
     "output_type": "stream",
     "text": [
      "WATZYHDVWHQTAKZRTTFRXWAKVHMMDTKFPKEUZWTQUOXQWAXZTJAXAXVTWXYQKYNWATYUVATQTPETZZKSTZYXFWKBFTPJBWABFWATZYHDVWHQTZWJXWAXHZKFPKDVAKRTWBYDTWWTQZBFWATWJTFWUUTKQZZBFYTNQUVWXZJKZTQTYWTPWAQTTXOWATOXHQZTYWBXFZAKITRTTFYXFOBQETPWXAKITRTTFZXDITPFXXFTAKZUTWRTTFKRDTWXZXDITWATQTEKBFBFSFBFTWUZTITFYAKQKYWTQETZZKST\n"
     ]
    }
   ],
   "source": [
    "# https://blog.dominodatalab.com/interactive-dashboards-in-jupyter/\n",
    "# http://ipywidgets.readthedocs.io/en/latest/examples/Using%20Interact.html\n",
    "from __future__ import division\n",
    "from matplotlib import pyplot as plt\n",
    "import numpy as np\n",
    "from ipywidgets import interact, interactive, fixed\n",
    "#import ipywidgets as widgets\n",
    "plt.rcParams[\"figure.figsize\"] = [12,6]\n",
    "\n",
    "alphabet = \"ABCDEFGHIJKLMNOPQRSTUVWXYZ\"\n",
    "\n",
    "def rotate(l, n):\n",
    "    return l[n:] + l[:n]\n",
    "\n",
    "@interact(key_i = (0,25,1))\n",
    "def plot_graphs(key_i = 0):\n",
    "    # decrypt ciphertext using this key\n",
    "    key = alphabet[key_i]\n",
    "    # NOTE THAT WE DO NOT KNOW THE KEY TO THE ALPHABET, SO WE CANNOT USE THAT!!!\n",
    "    decrypted_ctext = caesar_keyed_alphabet(ctext, key, alphabet=\"ABCDEFGHIJKLMNOPQRSTUVWXYZ\", alpha_key=\"A\", direction=-1) \n",
    "    \n",
    "    # determine letter frequency in plaintext, and plot\n",
    "    ptext_freq = np.array([ptext.count(c)/len(ptext) for c in alphabet])\n",
    "    pfig = plt.subplot(2,1,1)\n",
    "    plt.bar(range(len(alphabet)), ptext_freq, tick_label = list(alphabet), align = 'center', color = 'b')\n",
    "    plt.title('blue = plaintext letter frequency, green = decrypted ciphertext letter frequency')\n",
    "\n",
    "    # determine letter frequency in ciphertext, and plot\n",
    "    ctext_freq = np.array([decrypted_ctext.count(c)/len(decrypted_ctext) for c in alphabet])\n",
    "    cfig = plt.subplot(2,1,2)\n",
    "    plt.bar(range(len(alphabet)), ctext_freq, tick_label = rotate(list(alphabet), key_i), align = 'center', color = 'g')\n",
    "    plt.xlabel(\"key = %s\" % key)\n",
    "    \n",
    "    plt.show()\n",
    "    print decrypted_ctext"
   ]
  },
  {
   "cell_type": "markdown",
   "metadata": {},
   "source": [
    "### Caesar with Keyed Alphabet Solution #1: Maximum Likelihood, Combined with Search Procedure"
   ]
  },
  {
   "cell_type": "code",
   "execution_count": 41,
   "metadata": {
    "collapsed": false
   },
   "outputs": [
    {
     "data": {
      "text/plain": [
       "'WATZYHDVWHQTAKZRTTFRXWAKVHMMDTKFPKEUZWTQUOXQWAXZTJAXAXVTWXYQKYNWATYUVATQTPETZZKSTZYXFWKBFTPJBWABFWATZYHDVWHQTZWJXWAXHZKFPKDVAKRTWBYDTWWTQZBFWATWJTFWUUTKQZZBFYTNQUVWXZJKZTQTYWTPWAQTTXOWATOXHQZTYWBXFZAKITRTTFYXFOBQETPWXAKITRTTFZXDITPFXXFTAKZUTWRTTFKRDTWXZXDITWATQTEKBFBFSFBFTWUZTITFYAKQKYWTQETZZKST'"
      ]
     },
     "execution_count": 41,
     "metadata": {},
     "output_type": "execute_result"
    }
   ],
   "source": [
    "ptext = \"THESCULPTUREHASBEENBOTHAPUZZLEANDAMYSTERYFORTHOSEWHOHOPETOCRACKTHECYPHEREDMESSAGESCONTAINEDWITHINTHESCULPTURESTWOTHOUSANDALPHABETICLETTERSINTHETWENTYYEARSSINCEKRYPTOSWASERECTEDTHREEOFTHEFOURSECTIONSHAVEBEENCONFIRMEDTOHAVEBEENSOLVEDNOONEHASYETBEENABLETOSOLVETHEREMAININGNINETYSEVENCHARACTERMESSAGE\"\n",
    "ctext = caesar_keyed_alphabet(ptext, key=\"N\", alphabet=\"ABCDEFGHIJKLMNOPQRSTUVWXYZ\", alpha_key=\"KRYPTOS\", direction=1)    \n",
    "ctext"
   ]
  },
  {
   "cell_type": "code",
   "execution_count": 42,
   "metadata": {
    "collapsed": false
   },
   "outputs": [
    {
     "name": "stdout",
     "output_type": "stream",
     "text": [
      "Substitution Cipher solver, you may have to wait several iterations for the correct result.\n",
      "\n",
      "best score so far: -1732.88847392 on iteration 1\n",
      "    best key: QIUKZSEHWNOPYAFJMTBXRCVGDL\n",
      "    plaintext: INREMHYWIHARNDEURROUTINDWHQQYRDOLDGCEIRACKTAINTERPNTNTWRITMADMJINRMCWNRARLGREEDFREMTOIDSORLPSINSOINREMHYWIHAREIPTINTHEDOLDYWNDURISMYRIIRAESOINRIPROICCRDAEESOMRJACWITEPDERARMIRLINARRTKINRKTHAERMISTOENDBRURROMTOKSAGRLITNDBRURROETYBRLOTTORNDECRIURRODUYRITETYBRINRARGDSOSOFOSORICERBROMNDADMIRAGREEDFR\n",
      "\n",
      "best score so far: -1722.60104784 on iteration 2\n",
      "    best key: XNJBKRUEFMHDPWTILZQAYSOGVC\n",
      "    plaintext: NTORUKLYNKSOTERFOOIFANTEYKJJLOEIMEHGRNOSGWASNTAROCTATAYONAUSEUBNTOUGYTOSOMHORREVORUAINEDIOMCDNTDINTORUKLYNKSORNCANTAKREIMELYTEFONDULONNOSRDINTONCOINGGOESRRDIUOBSGYNARCEROSOUNOMNTSOOAWNTOWAKSROUNDAIRTEPOFOOIUAIWDSHOMNATEPOFOOIRALPOMIAAIOTERGONFOOIEFLONARALPONTOSOHEDIDIVIDIONGROPOIUTESEUNOSHORREVO\n",
      "\n",
      "best score so far: -1628.20389331 on iteration 4\n",
      "    best key: XEOPTRNBFMSQDYKHGZWAUIJLVC\n",
      "    plaintext: STERNPMYSPLETORFEEIFASTOYPJJMEOIDOBURSELUCALSTAREWTATAYESANLONGSTENUYTELEDBERROKERNAISOHIEDWHSTHISTERNPMYSPLERSWASTAPROIDOMYTOFESHNMESSELRHISTESWEISUUEOLRRHINEGLUYSARWORELENSEDSTLEEACSTECAPLRENSHAIRTOVEFEEINAICHLBEDSATOVEFEEIRAMVEDIAAIETORUESFEEIOFMESARAMVESTELEBOHIHIKIHIESUREVEINTOLONSELBERROKE\n",
      "\n",
      "best score so far: -1602.73906767 on iteration 6\n",
      "    best key: XMEZTJURHLNDYQKOGFWABISPVC\n",
      "    plaintext: STEDMILYSINETODHEERHASTOYIBBLEORXOCGDSENGPANSTADEFTATAYESAMNOMKSTEMGYTENEXCEDDOWEDMARSOUREXFUSTURSTEDMILYSINEDSFASTAIDORXOLYTOHESUMLESSENDURSTESFERSGGEONDDURMEKNGYSADFODENEMSEXSTNEEAPSTEPAINDEMSUARDTOVEHEERMARPUNCEXSATOVEHEERDALVEXRAARETODGESHEEROHLESADALVESTENECOURURWRURESGDEVERMTONOMSENCEDDOWE\n",
      "\n",
      "best score so far: -1262.44303835 on iteration 7\n",
      "    best key: KRYPTOSABLNDEFXVGQZWHIJCUM\n",
      "    plaintext: THESCULPTUREHASBEENBOTHAPUZZLEANDAMYSTERYFORTHOSEWHOHOPETOCRACKTHECYPHEREDMESSAGESCONTAINEDWITHINTHESCULPTURESTWOTHOUSANDALPHABETICLETTERSINTHETWENTYYEARSSINCEKRYPTOSWASERECTEDTHREEOFTHEFOURSECTIONSHAVEBEENCONFIRMEDTOHAVEBEENSOLVEDNOONEHASYETBEENABLETOSOLVETHEREMAININGNINETYSEVENCHARACTERMESSAGE\n"
     ]
    }
   ],
   "source": [
    "import random\n",
    "import re\n",
    "from ngram_score import ngram_score\n",
    "fitness = ngram_score('ngrams/en_sherlock_4grams') # load our quadgram statistics\n",
    "\n",
    "alphabet = \"ABCDEFGHIJKLMNOPQRSTUVWXYZ\"\n",
    "maxkey = list(alphabet)\n",
    "maxscore = -99e9\n",
    "parentscore,parentkey = maxscore,maxkey[:]\n",
    "\n",
    "print \"Substitution Cipher solver, you may have to wait several iterations for the correct result.\"\n",
    "# keep going until we are killed by the user\n",
    "i = 0\n",
    "rec = nbest(1000)\n",
    "\n",
    "MAX_ITER = 10 # increase if needed\n",
    "while i < MAX_ITER:\n",
    "    i = i+1\n",
    "    random.shuffle(parentkey)\n",
    "    # KEYED CAESAR WITH KEY \"A\" IS JUST A SUBSTITUTION CIPHER\n",
    "    deciphered = substitution(ctext, \"\".join(parentkey), alphabet, direction=-1)\n",
    "    parentscore = fitness.score(deciphered)\n",
    "    count = 0\n",
    "    while count < 1000:\n",
    "        a = random.randint(0,len(alphabet)-1)\n",
    "        b = random.randint(0,len(alphabet)-1)\n",
    "        child = parentkey[:]\n",
    "        # swap two characters in the child\n",
    "        child[a],child[b] = child[b],child[a]\n",
    "        deciphered = substitution(ctext, \"\".join(child), alphabet, direction=-1)\n",
    "        score = fitness.score(deciphered)\n",
    "        # if the child was better, replace the parent with it\n",
    "        if score > parentscore:\n",
    "            parentscore = score\n",
    "            parentkey = child[:]\n",
    "            count = 0\n",
    "        count = count+1\n",
    "        rec.add((score, child, deciphered))\n",
    "    # keep track of best score printed so far, and print if improved\n",
    "    if parentscore > maxscore:\n",
    "        maxscore = rec[0][0]\n",
    "        maxkey = rec[0][1]\n",
    "        #deciphered = rec[0][2]\n",
    "        deciphered = substitution(ctext, \"\".join(maxkey), alphabet, direction=-1)\n",
    "        print '\\nbest score so far:',maxscore,'on iteration',i\n",
    "        print '    best key: '+ \"\".join(maxkey)\n",
    "        print '    plaintext: '+ deciphered"
   ]
  },
  {
   "cell_type": "markdown",
   "metadata": {},
   "source": [
    "# Keyed Vigenere"
   ]
  },
  {
   "cell_type": "markdown",
   "metadata": {},
   "source": [
    "Now we will move on to the Keyed Vigenere cipher, which is very similar to the Caesar cipher with a keyed alphabet, except that the consecutive shifts of the plaintext characters are determined by a keyword. If the key has length $N$, then each $N^{th}$ character of the plaintext will be shifted by the same shift, determined by the corresponding character in the key. This relation of Vigenere being N interleaved Caesar ciphers with keyed alphabet is also visible from the code:"
   ]
  },
  {
   "cell_type": "code",
   "execution_count": 43,
   "metadata": {
    "collapsed": false
   },
   "outputs": [],
   "source": [
    "def keyed_vigenere(s, key, alphabet=\"ABCDEFGHIJKLMNOPQRSTUVWXYZ\", alpha_key=\"\", direction=1):\n",
    "    # compute keyed alphabet\n",
    "    keyed_alphabet = compute_keyed_alphabet(alpha_key, alphabet)\n",
    "    t = []\n",
    "    key_i = 0\n",
    "    for i in range(len(s)):\n",
    "        if s[i] in alphabet:\n",
    "            t_i = rot(s[i], key[key_i % len(key)],keyed_alphabet, direction)\n",
    "            t.append(t_i)\n",
    "            key_i += 1\n",
    "        else:\n",
    "            t.append(s[i])\n",
    "    return \"\".join(t)"
   ]
  },
  {
   "cell_type": "markdown",
   "metadata": {},
   "source": [
    "## Cryptanalysis - Keyed Vigenere"
   ]
  },
  {
   "cell_type": "markdown",
   "metadata": {},
   "source": [
    "First, let's load some Keyed Vigenere ciphertext, with **unknown key** and **unknown alphabet key**."
   ]
  },
  {
   "cell_type": "code",
   "execution_count": 44,
   "metadata": {
    "collapsed": true
   },
   "outputs": [],
   "source": [
    "ctext = \"BYDMXVPQAMCWFJGOTCCNXTKHOGSEIPAJTWGNBYDNBHCJWLBNCBHPNRNXNHSUOXHLTQQKYAUEMBOUUBWGNQVWUFKKBRVIITHVWNOWCSEXWOICJBPANTCNRPTNHSJVVLICIRSEIAPMQEEHIIVRETZGSEIQPLAXLXKOTWPCSOJGOSEEOKETKBDOOBHSJVPMOWHLTSHHPOVGVATKBSEVTFDVHONNQALNUKOXHPCDQKYAUZSPQPSKAGFPOQWBCWUHLPLMSAAZPBIECBXOTFMIKTITTICPOFTVHONKFIZDNCAJIVWDNXUWUHLCSEWTIHTXOECKBGUUMOHSUUCNLEQJETEOMABYDRUURUHLSWSJDAPMPPDNJIOBTCADIHYNBRQOGEFKQDAEBEHXDOFCNGXEFJVSELPZEHTSCLPPJAHEAPLEIZACVODENXXACTANMLAJITWXSORTPOWDDUEMGZITKOSHSNRONPYGCXVWNHVBUSNXDNZHKQTLWNEPKCJEUYLRXECNRATZEXBNHOCPQWUKYGNBYDTOTPUYAQALSKCNRAIRTITNBTPPLLCGTCEBTVOTWHGTXMIEHKQPNRTZKHYPFAMOPUJCDUOWCSEZCGQEMGVAJTBUHLSLITJVVLICIRSEIITSQFSNCDSSLGLRXKONNPRKAJVVAEABLGSJCJRLOWFOGQDHXTGEYTOIDLVHPITAND\""
   ]
  },
  {
   "cell_type": "markdown",
   "metadata": {},
   "source": [
    "### Determine if Plaintext"
   ]
  },
  {
   "cell_type": "code",
   "execution_count": 45,
   "metadata": {
    "collapsed": false
   },
   "outputs": [
    {
     "data": {
      "text/plain": [
       "1.0775083214455536"
      ]
     },
     "execution_count": 45,
     "metadata": {},
     "output_type": "execute_result"
    }
   ],
   "source": [
    "IC(ctext)"
   ]
  },
  {
   "cell_type": "markdown",
   "metadata": {},
   "source": [
    "The IC tells us that it is likely not a transposition of English plaintext."
   ]
  },
  {
   "cell_type": "markdown",
   "metadata": {},
   "source": [
    "### Determine Key Length"
   ]
  },
  {
   "cell_type": "code",
   "execution_count": 46,
   "metadata": {
    "collapsed": false
   },
   "outputs": [
    {
     "name": "stdout",
     "output_type": "stream",
     "text": [
      " 1 1.077508\n",
      " 2 1.080635\n",
      " 3 1.262120\n",
      " 4 1.086865\n",
      " 5 1.075394\n",
      " 6 1.296935\n",
      " 7 1.062786\n",
      " 8 1.072415\n",
      " 9 1.732564\n",
      "10 1.060137\n",
      "11 1.038554\n",
      "12 1.298596\n",
      "13 1.063592\n",
      "14 1.070083\n",
      "15 1.226713\n",
      "16 1.074336\n",
      "17 1.069878\n",
      "18 1.793372\n",
      "19 1.013136\n",
      "20 1.058571\n",
      "21 1.320028\n",
      "22 1.013282\n",
      "23 1.069910\n",
      "24 1.257485\n",
      "25 1.119788\n",
      "26 1.042735\n",
      "27 1.688889\n",
      "28 1.035714\n",
      "29 1.081189\n",
      "30 1.218928\n",
      "31 1.102494\n"
     ]
    },
    {
     "data": {
      "text/plain": [
       "<matplotlib.text.Text at 0x7f3111d22d50>"
      ]
     },
     "execution_count": 46,
     "metadata": {},
     "output_type": "execute_result"
    },
    {
     "data": {
      "image/png": "[encoded data removed]",
      "text/plain": [
       "<matplotlib.figure.Figure at 0x7f3111ca7b50>"
      ]
     },
     "metadata": {},
     "output_type": "display_data"
    }
   ],
   "source": [
    "from matplotlib import pyplot as plt\n",
    "%matplotlib inline\n",
    "\n",
    "mean_ic_n = []\n",
    "for n in range(1,32):\n",
    "    mean_ic = mean_IC(ctext.upper(), n)\n",
    "    mean_ic_n.append(mean_ic)\n",
    "    print \"%2d %02f\" % (n, mean_ic)\n",
    "plt.rcParams[\"figure.figsize\"] = [12,4]\n",
    "plt.bar(range(1,len(mean_ic_n)+1), mean_ic_n, align = 'center')\n",
    "plt.xlabel(\"key length\")\n",
    "plt.ylabel(\"average IC\")"
   ]
  },
  {
   "cell_type": "markdown",
   "metadata": {},
   "source": [
    "The average IC for different key lengths tells us that it is likely encrypted with a key of length 9. We therefore have to crack 9 Caesar ciphers with a Keyed Alphabet, each of them with their own shift as defined by the Vigenere key."
   ]
  },
  {
   "cell_type": "markdown",
   "metadata": {},
   "source": [
    "### Frequency analysis of subsequences"
   ]
  },
  {
   "cell_type": "markdown",
   "metadata": {},
   "source": [
    "Now, let's look at the frequency distributions for the 9 subsequences:"
   ]
  },
  {
   "cell_type": "code",
   "execution_count": 47,
   "metadata": {
    "collapsed": false
   },
   "outputs": [
    {
     "data": {
      "image/png": "[encoded data removed]",
      "text/plain": [
       "<matplotlib.figure.Figure at 0x7f311587d310>"
      ]
     },
     "metadata": {},
     "output_type": "display_data"
    }
   ],
   "source": [
    "# https://blog.dominodatalab.com/interactive-dashboards-in-jupyter/\n",
    "# http://ipywidgets.readthedocs.io/en/latest/examples/Using%20Interact.html\n",
    "from __future__ import division\n",
    "from matplotlib import pyplot as plt\n",
    "import numpy as np\n",
    "from ipywidgets import interact, interactive, fixed\n",
    "#import ipywidgets as widgets\n",
    "plt.rcParams[\"figure.figsize\"] = [12,16]\n",
    "\n",
    "def rotate(l, n):\n",
    "    return l[n:] + l[:n]\n",
    "\n",
    "alphabet = \"ABCDEFGHIJKLMNOPQRSTUVWXYZ\"\n",
    "\n",
    "key_length = 9\n",
    "\n",
    "g_english = [0.0736, 0.0148, 0.0445, 0.0302, 0.102, 0.0227, 0.0122, 0.0277, 0.0855, 0.000557, 0.00237, 0.0342, 0.0206, 0.0717, 0.103, 0.0246, 0.00181, 0.0735, 0.0608, 0.0889, 0.0392, 0.0153, 0.0173, 0.000557, 0.032, 0.000278]\n",
    "pfig = plt.subplot(key_length+1,1,1)\n",
    "plt.bar(range(len(alphabet)), g_english, tick_label = rotate(list(alphabet), 0), align = 'center', color = 'b')\n",
    "\n",
    "ctext_freq = []\n",
    "for i in range(key_length):\n",
    "    ctext_i = ctext[i::key_length]\n",
    "    ctext_freq.append(np.array([ctext_i.count(c)/len(ctext_i) for c in alphabet]))\n",
    "    \n",
    "    cfig = plt.subplot(key_length+1,1,i+2)\n",
    "    plt.bar(range(len(alphabet)), ctext_freq[i], tick_label = rotate(list(alphabet), 0), align = 'center', color = 'r')"
   ]
  },
  {
   "cell_type": "markdown",
   "metadata": {},
   "source": [
    "Each distribution looks quite different as a result using Caesar ciphers keyed alphabet. Each of the 9 Caesar ciphers with keyed alphabet uses the same unknown keyed alphabet, and its own shift, as defined by the 9-letter Vigenere keyword. Therefore, we need to determine both the keyed alphabet, and the Vigenere keywords."
   ]
  },
  {
   "cell_type": "markdown",
   "metadata": {},
   "source": [
    "<div class=\"alert-warning\">\n",
    "<h3>CHALLENGE: Determine Vigenere Key in Special Case of Keyed Alphabet Starting with Letter E</h3>\n",
    "<br/>\n",
    "Luck has it that the key to determine the keyed alphabet starts with the letter E. As a result, it becomes pretty easy to determine the Vigenere key. Can you guess the Vigenere key from the frequency distribution plots above?\n",
    "</div>"
   ]
  },
  {
   "cell_type": "markdown",
   "metadata": {},
   "source": [
    "### Case 1: Vigenere Key is Known, Alphabet Key Unknown\n",
    "\n",
    "When the Vigenere key is known, the alphabet key can often be determined like before through e.g. brute force:"
   ]
  },
  {
   "cell_type": "code",
   "execution_count": 48,
   "metadata": {
    "collapsed": false,
    "scrolled": true
   },
   "outputs": [
    {
     "name": "stdout",
     "output_type": "stream",
     "text": [
      "          ANTICRISIS\t-240.04,\t8,\tALANGINE,\tEHADENLOVKTOITHARNBOPOURALMIQCVTADLXEHAXORTFRASUNORLAKLFUEALAVEAEDJUEKSAKSBPNMDLXPCOPRTYIKUQWOSNDAFVTHAEGANNHSCVHATAKOEUEASCTWGTWKAKQYHKNXASJQTKIERYAKQOHAKPWETARROTHFTHAQAIAIALTSBFMSNMTNLJFVWTOARWMFUPMVLTSQAUELGGRAAXPKTXNTAVEOTAJUEKSURLDHATKLIOADROODSEALTDACKXHEQXNOIARIKQIOKAENNOALOGRAACDQRGHOKFZUDAXELDSEATHAIAQDOWAXNUMPSPKANMNLTAWINGALKAJVEHAKNLGSEAIOMTPKMDOLAXTJAIOBKAZSEOIKPAVARTNBVISXEEPACNLPPARSCQAALRASAIEWOLGVSKKMWIQRVPNABALFPVPAKADAKGZLGFQFQECFIPUSAKPRZLTAQEROFFHWHLNWCOXSNSSMLFAXCRYOOADUAXTTFATHTKEKTAKZERAEMODFBLDRNTHLXEHAOWALSTZNSWATTAKZQFOKAOIOOLTWPHEEAEEMFLGWLOWZWASTNMXQERCSELCVKACPTOUSFVTHACOPOAKPMVTASSEAITZLSCTWGTWKAKQNORNLMHOUQMAPTKETAAXOGIVTNCYAZSTYASTFKAAOIWHNBEWEVABAANGACNHKAKAG\n",
      "         BEERBACHITE\t-240.04,\t8,\tALANGINE,\tEHADENLOVKTOITHARNBOPOURALMIQCVTADLXEHAXORTFRASUNORLAKLFUEALAVEAEDJUEKSAKSBPNMDLXPCOPRTYIKUQWOSNDAFVTHAEGANNHSCVHATAKOEUEASCTWGTWKAKQYHKNXASJQTKIERYAKQOHAKPWETARROTHFTHAQAIAIALTSBFMSNMTNLJFVWTOARWMFUPMVLTSQAUELGGRAAXPKTXNTAVEOTAJUEKSURLDHATKLIOADROODSEALTDACKXHEQXNOIARIKQIOKAENNOALOGRAACDQRGHOKFZUDAXELDSEATHAIAQDOWAXNUMPSPKANMNLTAWINGALKAJVEHAKNLGSEAIOMTPKMDOLAXTJAIOBKAZSEOIKPAVARTNBVISXEEPACNLPPARSCQAALRASAIEWOLGVSKKMWIQRVPNABALFPVPAKADAKGZLGFQFQECFIPUSAKPRZLTAQEROFFHWHLNWCOXSNSSMLFAXCRYOOADUAXTTFATHTKEKTAKZERAEMODFBLDRNTHLXEHAOWALSTZNSWATTAKZQFOKAOIOOLTWPHEEAEEMFLGWLOWZWASTNMXQERCSELCVKACPTOUSFVTHACOPOAKPMVTASSEAITZLSCTWGTWKAKQNORNLMHOUQMAPTKETAAXOGIVTNCYAZSTYASTFKAAOIWHNBEWEVABAANGACNHKAKAG\n",
      "            CAPRIOTE\t-240.04,\t8,\tALANGINE,\tEHADENLOVKTOITHARNBOPOURALMIQCVTADLXEHAXORTFRASUNORLAKLFUEALAVEAEDJUEKSAKSBPNMDLXPCOPRTYIKUQWOSNDAFVTHAEGANNHSCVHATAKOEUEASCTWGTWKAKQYHKNXASJQTKIERYAKQOHAKPWETARROTHFTHAQAIAIALTSBFMSNMTNLJFVWTOARWMFUPMVLTSQAUELGGRAAXPKTXNTAVEOTAJUEKSURLDHATKLIOADROODSEALTDACKXHEQXNOIARIKQIOKAENNOALOGRAACDQRGHOKFZUDAXELDSEATHAIAQDOWAXNUMPSPKANMNLTAWINGALKAJVEHAKNLGSEAIOMTPKMDOLAXTJAIOBKAZSEOIKPAVARTNBVISXEEPACNLPPARSCQAALRASAIEWOLGVSKKMWIQRVPNABALFPVPAKADAKGZLGFQFQECFIPUSAKPRZLTAQEROFFHWHLNWCOXSNSSMLFAXCRYOOADUAXTTFATHTKEKTAKZERAEMODFBLDRNTHLXEHAOWALSTZNSWATTAKZQFOKAOIOOLTWPHEEAEEMFLGWLOWZWASTNMXQERCSELCVKACPTOUSFVTHACOPOAKPMVTASSEAITZLSCTWGTWKAKQNORNLMHOUQMAPTKETAAXOGIVTNCYAZSTYASTFKAAOIWHNBEWEVABAANGACNHKAKAG\n",
      "          COMMORIENT\t-240.04,\t8,\tALANGINE,\tEHADENLOVKTOITHARNBOPOURALMIQCVTADLXEHAXORTFRASUNORLAKLFUEALAVEAEDJUEKSAKSBPNMDLXPCOPRTYIKUQWOSNDAFVTHAEGANNHSCVHATAKOEUEASCTWGTWKAKQYHKNXASJQTKIERYAKQOHAKPWETARROTHFTHAQAIAIALTSBFMSNMTNLJFVWTOARWMFUPMVLTSQAUELGGRAAXPKTXNTAVEOTAJUEKSURLDHATKLIOADROODSEALTDACKXHEQXNOIARIKQIOKAENNOALOGRAACDQRGHOKFZUDAXELDSEATHAIAQDOWAXNUMPSPKANMNLTAWINGALKAJVEHAKNLGSEAIOMTPKMDOLAXTJAIOBKAZSEOIKPAVARTNBVISXEEPACNLPPARSCQAALRASAIEWOLGVSKKMWIQRVPNABALFPVPAKADAKGZLGFQFQECFIPUSAKPRZLTAQEROFFHWHLNWCOXSNSSMLFAXCRYOOADUAXTTFATHTKEKTAKZERAEMODFBLDRNTHLXEHAOWALSTZNSWATTAKZQFOKAOIOOLTWPHEEAEEMFLGWLOWZWASTNMXQERCSELCVKACPTOUSFVTHACOPOAKPMVTASSEAITZLSCTWGTWKAKQNORNLMHOUQMAPTKETAAXOGIVTNCYAZSTYASTFKAAOIWHNBEWEVABAANGACNHKAKAG\n",
      "          DEGRADEDLY\t-240.04,\t8,\tALANGINE,\tEHADENLOVKTOITHARNBOPOURALMIQCVTADLXEHAXORTFRASUNORLAKLFUEALAVEAEDJUEKSAKSBPNMDLXPCOPRTYIKUQWOSNDAFVTHAEGANNHSCVHATAKOEUEASCTWGTWKAKQYHKNXASJQTKIERYAKQOHAKPWETARROTHFTHAQAIAIALTSBFMSNMTNLJFVWTOARWMFUPMVLTSQAUELGGRAAXPKTXNTAVEOTAJUEKSURLDHATKLIOADROODSEALTDACKXHEQXNOIARIKQIOKAENNOALOGRAACDQRGHOKFZUDAXELDSEATHAIAQDOWAXNUMPSPKANMNLTAWINGALKAJVEHAKNLGSEAIOMTPKMDOLAXTJAIOBKAZSEOIKPAVARTNBVISXEEPACNLPPARSCQAALRASAIEWOLGVSKKMWIQRVPNABALFPVPAKADAKGZLGFQFQECFIPUSAKPRZLTAQEROFFHWHLNWCOXSNSSMLFAXCRYOOADUAXTTFATHTKEKTAKZERAEMODFBLDRNTHLXEHAOWALSTZNSWATTAKZQFOKAOIOOLTWPHEEAEEMFLGWLOWZWASTNMXQERCSELCVKACPTOUSFVTHACOPOAKPMVTASSEAITZLSCTWGTWKAKQNORNLMHOUQMAPTKETAAXOGIVTNCYAZSTYASTFKAAOIWHNBEWEVABAANGACNHKAKAG\n",
      "               ELDER\t-240.04,\t8,\tALANGINE,\tEHADENLOVKTOITHARNBOPOURALMIQCVTADLXEHAXORTFRASUNORLAKLFUEALAVEAEDJUEKSAKSBPNMDLXPCOPRTYIKUQWOSNDAFVTHAEGANNHSCVHATAKOEUEASCTWGTWKAKQYHKNXASJQTKIERYAKQOHAKPWETARROTHFTHAQAIAIALTSBFMSNMTNLJFVWTOARWMFUPMVLTSQAUELGGRAAXPKTXNTAVEOTAJUEKSURLDHATKLIOADROODSEALTDACKXHEQXNOIARIKQIOKAENNOALOGRAACDQRGHOKFZUDAXELDSEATHAIAQDOWAXNUMPSPKANMNLTAWINGALKAJVEHAKNLGSEAIOMTPKMDOLAXTJAIOBKAZSEOIKPAVARTNBVISXEEPACNLPPARSCQAALRASAIEWOLGVSKKMWIQRVPNABALFPVPAKADAKGZLGFQFQECFIPUSAKPRZLTAQEROFFHWHLNWCOXSNSSMLFAXCRYOOADUAXTTFATHTKEKTAKZERAEMODFBLDRNTHLXEHAOWALSTZNSWATTAKZQFOKAOIOOLTWPHEEAEEMFLGWLOWZWASTNMXQERCSELCVKACPTOUSFVTHACOPOAKPMVTASSEAITZLSCTWGTWKAKQNORNLMHOUQMAPTKETAAXOGIVTNCYAZSTYASTFKAAOIWHNBEWEVABAANGACNHKAKAG\n",
      "            FIRELING\t-160.88,\t6,\tENIGMA,\tTHEMAINPARTOFTHESCULPTUREISLOCATEDINTHENORTHWESTCORNEROFTHENEWHEADQUARTERSBUILDINGCOURTYARDOUTSIDEOFTHEAGENCYSCAFETERIATHESCULPTURECOMPRISESFOURLARGECOPPERPLATESWITHOTHERELEMENTSCONSISTINGOFWATERWOODPLANTSREDANDGREENGRANITEWHITEQUARTZANDPETRIFIEDWOODTHENAMEKRYPTOSCOMESFROMTHEANCIENTGREEKWORDFORHIDDENANDTHETHEMEOFTHESCULPTUREISINTELLIGENCEGATHERINGTHEMOSTPROMINENTFEATUREISALARGEVERTICALSSHAPEDCOPPERSCREENRESEMBLINGASCROLLORAPIECEOFPAPEREMERGINGFROMACOMPUTERPRINTERHALFOFWHICHCONSISTSOFENCRYPTEDTEXTTHECHARACTERSAREALLFOUNDWITHINTHETWENTYSIXLETTERSOFTHELATINALPHABETALONGWITHQUESTIONMARKSANDARECUTOUTOFTHECOPPERPLATESTHEMAINSCULPTURECONTAINSFOURSEPARATEENIGMATICMESSAGESTHREEOFWHICHHAVEBEENDECIPHERED\n",
      "              GROOTY\t-160.88,\t6,\tENIGMA,\tTHEMAINPARTOFTHESCULPTUREISLOCATEDINTHENORTHWESTCORNEROFTHENEWHEADQUARTERSBUILDINGCOURTYARDOUTSIDEOFTHEAGENCYSCAFETERIATHESCULPTURECOMPRISESFOURLARGECOPPERPLATESWITHOTHERELEMENTSCONSISTINGOFWATERWOODPLANTSREDANDGREENGRANITEWHITEQUARTZANDPETRIFIEDWOODTHENAMEKRYPTOSCOMESFROMTHEANCIENTGREEKWORDFORHIDDENANDTHETHEMEOFTHESCULPTUREISINTELLIGENCEGATHERINGTHEMOSTPROMINENTFEATUREISALARGEVERTICALSSHAPEDCOPPERSCREENRESEMBLINGASCROLLORAPIECEOFPAPEREMERGINGFROMACOMPUTERPRINTERHALFOFWHICHCONSISTSOFENCRYPTEDTEXTTHECHARACTERSAREALLFOUNDWITHINTHETWENTYSIXLETTERSOFTHELATINALPHABETALONGWITHQUESTIONMARKSANDARECUTOUTOFTHECOPPERPLATESTHEMAINSCULPTURECONTAINSFOURSEPARATEENIGMATICMESSAGESTHREEOFWHICHHAVEBEENDECIPHERED\n",
      "           HYPOTOXIC\t-160.88,\t6,\tENIGMA,\tTHEMAINPARTOFTHESCULPTUREISLOCATEDINTHENORTHWESTCORNEROFTHENEWHEADQUARTERSBUILDINGCOURTYARDOUTSIDEOFTHEAGENCYSCAFETERIATHESCULPTURECOMPRISESFOURLARGECOPPERPLATESWITHOTHERELEMENTSCONSISTINGOFWATERWOODPLANTSREDANDGREENGRANITEWHITEQUARTZANDPETRIFIEDWOODTHENAMEKRYPTOSCOMESFROMTHEANCIENTGREEKWORDFORHIDDENANDTHETHEMEOFTHESCULPTUREISINTELLIGENCEGATHERINGTHEMOSTPROMINENTFEATUREISALARGEVERTICALSSHAPEDCOPPERSCREENRESEMBLINGASCROLLORAPIECEOFPAPEREMERGINGFROMACOMPUTERPRINTERHALFOFWHICHCONSISTSOFENCRYPTEDTEXTTHECHARACTERSAREALLFOUNDWITHINTHETWENTYSIXLETTERSOFTHELATINALPHABETALONGWITHQUESTIONMARKSANDARECUTOUTOFTHECOPPERPLATESTHEMAINSCULPTURECONTAINSFOURSEPARATEENIGMATICMESSAGESTHREEOFWHICHHAVEBEENDECIPHERED\n",
      "            JONGLERY\t-160.88,\t6,\tENIGMA,\tTHEMAINPARTOFTHESCULPTUREISLOCATEDINTHENORTHWESTCORNEROFTHENEWHEADQUARTERSBUILDINGCOURTYARDOUTSIDEOFTHEAGENCYSCAFETERIATHESCULPTURECOMPRISESFOURLARGECOPPERPLATESWITHOTHERELEMENTSCONSISTINGOFWATERWOODPLANTSREDANDGREENGRANITEWHITEQUARTZANDPETRIFIEDWOODTHENAMEKRYPTOSCOMESFROMTHEANCIENTGREEKWORDFORHIDDENANDTHETHEMEOFTHESCULPTUREISINTELLIGENCEGATHERINGTHEMOSTPROMINENTFEATUREISALARGEVERTICALSSHAPEDCOPPERSCREENRESEMBLINGASCROLLORAPIECEOFPAPEREMERGINGFROMACOMPUTERPRINTERHALFOFWHICHCONSISTSOFENCRYPTEDTEXTTHECHARACTERSAREALLFOUNDWITHINTHETWENTYSIXLETTERSOFTHELATINALPHABETALONGWITHQUESTIONMARKSANDARECUTOUTOFTHECOPPERPLATESTHEMAINSCULPTURECONTAINSFOURSEPARATEENIGMATICMESSAGESTHREEOFWHICHHAVEBEENDECIPHERED\n",
      "         MALAPROPISH\t-160.88,\t6,\tENIGMA,\tTHEMAINPARTOFTHESCULPTUREISLOCATEDINTHENORTHWESTCORNEROFTHENEWHEADQUARTERSBUILDINGCOURTYARDOUTSIDEOFTHEAGENCYSCAFETERIATHESCULPTURECOMPRISESFOURLARGECOPPERPLATESWITHOTHERELEMENTSCONSISTINGOFWATERWOODPLANTSREDANDGREENGRANITEWHITEQUARTZANDPETRIFIEDWOODTHENAMEKRYPTOSCOMESFROMTHEANCIENTGREEKWORDFORHIDDENANDTHETHEMEOFTHESCULPTUREISINTELLIGENCEGATHERINGTHEMOSTPROMINENTFEATUREISALARGEVERTICALSSHAPEDCOPPERSCREENRESEMBLINGASCROLLORAPIECEOFPAPEREMERGINGFROMACOMPUTERPRINTERHALFOFWHICHCONSISTSOFENCRYPTEDTEXTTHECHARACTERSAREALLFOUNDWITHINTHETWENTYSIXLETTERSOFTHELATINALPHABETALONGWITHQUESTIONMARKSANDARECUTOUTOFTHECOPPERPLATESTHEMAINSCULPTURECONTAINSFOURSEPARATEENIGMATICMESSAGESTHREEOFWHICHHAVEBEENDECIPHERED\n",
      "           MULTIFOIL\t-160.88,\t6,\tENIGMA,\tTHEMAINPARTOFTHESCULPTUREISLOCATEDINTHENORTHWESTCORNEROFTHENEWHEADQUARTERSBUILDINGCOURTYARDOUTSIDEOFTHEAGENCYSCAFETERIATHESCULPTURECOMPRISESFOURLARGECOPPERPLATESWITHOTHERELEMENTSCONSISTINGOFWATERWOODPLANTSREDANDGREENGRANITEWHITEQUARTZANDPETRIFIEDWOODTHENAMEKRYPTOSCOMESFROMTHEANCIENTGREEKWORDFORHIDDENANDTHETHEMEOFTHESCULPTUREISINTELLIGENCEGATHERINGTHEMOSTPROMINENTFEATUREISALARGEVERTICALSSHAPEDCOPPERSCREENRESEMBLINGASCROLLORAPIECEOFPAPEREMERGINGFROMACOMPUTERPRINTERHALFOFWHICHCONSISTSOFENCRYPTEDTEXTTHECHARACTERSAREALLFOUNDWITHINTHETWENTYSIXLETTERSOFTHELATINALPHABETALONGWITHQUESTIONMARKSANDARECUTOUTOFTHECOPPERPLATESTHEMAINSCULPTURECONTAINSFOURSEPARATEENIGMATICMESSAGESTHREEOFWHICHHAVEBEENDECIPHERED\n",
      "        OMBROPHOBOUS\t-160.88,\t6,\tENIGMA,\tTHEMAINPARTOFTHESCULPTUREISLOCATEDINTHENORTHWESTCORNEROFTHENEWHEADQUARTERSBUILDINGCOURTYARDOUTSIDEOFTHEAGENCYSCAFETERIATHESCULPTURECOMPRISESFOURLARGECOPPERPLATESWITHOTHERELEMENTSCONSISTINGOFWATERWOODPLANTSREDANDGREENGRANITEWHITEQUARTZANDPETRIFIEDWOODTHENAMEKRYPTOSCOMESFROMTHEANCIENTGREEKWORDFORHIDDENANDTHETHEMEOFTHESCULPTUREISINTELLIGENCEGATHERINGTHEMOSTPROMINENTFEATUREISALARGEVERTICALSSHAPEDCOPPERSCREENRESEMBLINGASCROLLORAPIECEOFPAPEREMERGINGFROMACOMPUTERPRINTERHALFOFWHICHCONSISTSOFENCRYPTEDTEXTTHECHARACTERSAREALLFOUNDWITHINTHETWENTYSIXLETTERSOFTHELATINALPHABETALONGWITHQUESTIONMARKSANDARECUTOUTOFTHECOPPERPLATESTHEMAINSCULPTURECONTAINSFOURSEPARATEENIGMATICMESSAGESTHREEOFWHICHHAVEBEENDECIPHERED\n",
      "           PAUPERATE\t-160.88,\t6,\tENIGMA,\tTHEMAINPARTOFTHESCULPTUREISLOCATEDINTHENORTHWESTCORNEROFTHENEWHEADQUARTERSBUILDINGCOURTYARDOUTSIDEOFTHEAGENCYSCAFETERIATHESCULPTURECOMPRISESFOURLARGECOPPERPLATESWITHOTHERELEMENTSCONSISTINGOFWATERWOODPLANTSREDANDGREENGRANITEWHITEQUARTZANDPETRIFIEDWOODTHENAMEKRYPTOSCOMESFROMTHEANCIENTGREEKWORDFORHIDDENANDTHETHEMEOFTHESCULPTUREISINTELLIGENCEGATHERINGTHEMOSTPROMINENTFEATUREISALARGEVERTICALSSHAPEDCOPPERSCREENRESEMBLINGASCROLLORAPIECEOFPAPEREMERGINGFROMACOMPUTERPRINTERHALFOFWHICHCONSISTSOFENCRYPTEDTEXTTHECHARACTERSAREALLFOUNDWITHINTHETWENTYSIXLETTERSOFTHELATINALPHABETALONGWITHQUESTIONMARKSANDARECUTOUTOFTHECOPPERPLATESTHEMAINSCULPTURECONTAINSFOURSEPARATEENIGMATICMESSAGESTHREEOFWHICHHAVEBEENDECIPHERED\n",
      "        POLYSYLLABIC\t-160.88,\t6,\tENIGMA,\tTHEMAINPARTOFTHESCULPTUREISLOCATEDINTHENORTHWESTCORNEROFTHENEWHEADQUARTERSBUILDINGCOURTYARDOUTSIDEOFTHEAGENCYSCAFETERIATHESCULPTURECOMPRISESFOURLARGECOPPERPLATESWITHOTHERELEMENTSCONSISTINGOFWATERWOODPLANTSREDANDGREENGRANITEWHITEQUARTZANDPETRIFIEDWOODTHENAMEKRYPTOSCOMESFROMTHEANCIENTGREEKWORDFORHIDDENANDTHETHEMEOFTHESCULPTUREISINTELLIGENCEGATHERINGTHEMOSTPROMINENTFEATUREISALARGEVERTICALSSHAPEDCOPPERSCREENRESEMBLINGASCROLLORAPIECEOFPAPEREMERGINGFROMACOMPUTERPRINTERHALFOFWHICHCONSISTSOFENCRYPTEDTEXTTHECHARACTERSAREALLFOUNDWITHINTHETWENTYSIXLETTERSOFTHELATINALPHABETALONGWITHQUESTIONMARKSANDARECUTOUTOFTHECOPPERPLATESTHEMAINSCULPTURECONTAINSFOURSEPARATEENIGMATICMESSAGESTHREEOFWHICHHAVEBEENDECIPHERED\n",
      "           PYGOPAGUS\t-160.88,\t6,\tENIGMA,\tTHEMAINPARTOFTHESCULPTUREISLOCATEDINTHENORTHWESTCORNEROFTHENEWHEADQUARTERSBUILDINGCOURTYARDOUTSIDEOFTHEAGENCYSCAFETERIATHESCULPTURECOMPRISESFOURLARGECOPPERPLATESWITHOTHERELEMENTSCONSISTINGOFWATERWOODPLANTSREDANDGREENGRANITEWHITEQUARTZANDPETRIFIEDWOODTHENAMEKRYPTOSCOMESFROMTHEANCIENTGREEKWORDFORHIDDENANDTHETHEMEOFTHESCULPTUREISINTELLIGENCEGATHERINGTHEMOSTPROMINENTFEATUREISALARGEVERTICALSSHAPEDCOPPERSCREENRESEMBLINGASCROLLORAPIECEOFPAPEREMERGINGFROMACOMPUTERPRINTERHALFOFWHICHCONSISTSOFENCRYPTEDTEXTTHECHARACTERSAREALLFOUNDWITHINTHETWENTYSIXLETTERSOFTHELATINALPHABETALONGWITHQUESTIONMARKSANDARECUTOUTOFTHECOPPERPLATESTHEMAINSCULPTURECONTAINSFOURSEPARATEENIGMATICMESSAGESTHREEOFWHICHHAVEBEENDECIPHERED\n",
      "           ROMERILLO\t-160.88,\t6,\tENIGMA,\tTHEMAINPARTOFTHESCULPTUREISLOCATEDINTHENORTHWESTCORNEROFTHENEWHEADQUARTERSBUILDINGCOURTYARDOUTSIDEOFTHEAGENCYSCAFETERIATHESCULPTURECOMPRISESFOURLARGECOPPERPLATESWITHOTHERELEMENTSCONSISTINGOFWATERWOODPLANTSREDANDGREENGRANITEWHITEQUARTZANDPETRIFIEDWOODTHENAMEKRYPTOSCOMESFROMTHEANCIENTGREEKWORDFORHIDDENANDTHETHEMEOFTHESCULPTUREISINTELLIGENCEGATHERINGTHEMOSTPROMINENTFEATUREISALARGEVERTICALSSHAPEDCOPPERSCREENRESEMBLINGASCROLLORAPIECEOFPAPEREMERGINGFROMACOMPUTERPRINTERHALFOFWHICHCONSISTSOFENCRYPTEDTEXTTHECHARACTERSAREALLFOUNDWITHINTHETWENTYSIXLETTERSOFTHELATINALPHABETALONGWITHQUESTIONMARKSANDARECUTOUTOFTHECOPPERPLATESTHEMAINSCULPTURECONTAINSFOURSEPARATEENIGMATICMESSAGESTHREEOFWHICHHAVEBEENDECIPHERED\n",
      "          SHRIMPLIKE\t-160.88,\t6,\tENIGMA,\tTHEMAINPARTOFTHESCULPTUREISLOCATEDINTHENORTHWESTCORNEROFTHENEWHEADQUARTERSBUILDINGCOURTYARDOUTSIDEOFTHEAGENCYSCAFETERIATHESCULPTURECOMPRISESFOURLARGECOPPERPLATESWITHOTHERELEMENTSCONSISTINGOFWATERWOODPLANTSREDANDGREENGRANITEWHITEQUARTZANDPETRIFIEDWOODTHENAMEKRYPTOSCOMESFROMTHEANCIENTGREEKWORDFORHIDDENANDTHETHEMEOFTHESCULPTUREISINTELLIGENCEGATHERINGTHEMOSTPROMINENTFEATUREISALARGEVERTICALSSHAPEDCOPPERSCREENRESEMBLINGASCROLLORAPIECEOFPAPEREMERGINGFROMACOMPUTERPRINTERHALFOFWHICHCONSISTSOFENCRYPTEDTEXTTHECHARACTERSAREALLFOUNDWITHINTHETWENTYSIXLETTERSOFTHELATINALPHABETALONGWITHQUESTIONMARKSANDARECUTOUTOFTHECOPPERPLATESTHEMAINSCULPTURECONTAINSFOURSEPARATEENIGMATICMESSAGESTHREEOFWHICHHAVEBEENDECIPHERED\n",
      "           STRIDENCE\t-160.88,\t6,\tENIGMA,\tTHEMAINPARTOFTHESCULPTUREISLOCATEDINTHENORTHWESTCORNEROFTHENEWHEADQUARTERSBUILDINGCOURTYARDOUTSIDEOFTHEAGENCYSCAFETERIATHESCULPTURECOMPRISESFOURLARGECOPPERPLATESWITHOTHERELEMENTSCONSISTINGOFWATERWOODPLANTSREDANDGREENGRANITEWHITEQUARTZANDPETRIFIEDWOODTHENAMEKRYPTOSCOMESFROMTHEANCIENTGREEKWORDFORHIDDENANDTHETHEMEOFTHESCULPTUREISINTELLIGENCEGATHERINGTHEMOSTPROMINENTFEATUREISALARGEVERTICALSSHAPEDCOPPERSCREENRESEMBLINGASCROLLORAPIECEOFPAPEREMERGINGFROMACOMPUTERPRINTERHALFOFWHICHCONSISTSOFENCRYPTEDTEXTTHECHARACTERSAREALLFOUNDWITHINTHETWENTYSIXLETTERSOFTHELATINALPHABETALONGWITHQUESTIONMARKSANDARECUTOUTOFTHECOPPERPLATESTHEMAINSCULPTURECONTAINSFOURSEPARATEENIGMATICMESSAGESTHREEOFWHICHHAVEBEENDECIPHERED\n",
      "           TETRAPODA\t-160.88,\t6,\tENIGMA,\tTHEMAINPARTOFTHESCULPTUREISLOCATEDINTHENORTHWESTCORNEROFTHENEWHEADQUARTERSBUILDINGCOURTYARDOUTSIDEOFTHEAGENCYSCAFETERIATHESCULPTURECOMPRISESFOURLARGECOPPERPLATESWITHOTHERELEMENTSCONSISTINGOFWATERWOODPLANTSREDANDGREENGRANITEWHITEQUARTZANDPETRIFIEDWOODTHENAMEKRYPTOSCOMESFROMTHEANCIENTGREEKWORDFORHIDDENANDTHETHEMEOFTHESCULPTUREISINTELLIGENCEGATHERINGTHEMOSTPROMINENTFEATUREISALARGEVERTICALSSHAPEDCOPPERSCREENRESEMBLINGASCROLLORAPIECEOFPAPEREMERGINGFROMACOMPUTERPRINTERHALFOFWHICHCONSISTSOFENCRYPTEDTEXTTHECHARACTERSAREALLFOUNDWITHINTHETWENTYSIXLETTERSOFTHELATINALPHABETALONGWITHQUESTIONMARKSANDARECUTOUTOFTHECOPPERPLATESTHEMAINSCULPTURECONTAINSFOURSEPARATEENIGMATICMESSAGESTHREEOFWHICHHAVEBEENDECIPHERED\n",
      "       UNADVENTURING\t-160.88,\t6,\tENIGMA,\tTHEMAINPARTOFTHESCULPTUREISLOCATEDINTHENORTHWESTCORNEROFTHENEWHEADQUARTERSBUILDINGCOURTYARDOUTSIDEOFTHEAGENCYSCAFETERIATHESCULPTURECOMPRISESFOURLARGECOPPERPLATESWITHOTHERELEMENTSCONSISTINGOFWATERWOODPLANTSREDANDGREENGRANITEWHITEQUARTZANDPETRIFIEDWOODTHENAMEKRYPTOSCOMESFROMTHEANCIENTGREEKWORDFORHIDDENANDTHETHEMEOFTHESCULPTUREISINTELLIGENCEGATHERINGTHEMOSTPROMINENTFEATUREISALARGEVERTICALSSHAPEDCOPPERSCREENRESEMBLINGASCROLLORAPIECEOFPAPEREMERGINGFROMACOMPUTERPRINTERHALFOFWHICHCONSISTSOFENCRYPTEDTEXTTHECHARACTERSAREALLFOUNDWITHINTHETWENTYSIXLETTERSOFTHELATINALPHABETALONGWITHQUESTIONMARKSANDARECUTOUTOFTHECOPPERPLATESTHEMAINSCULPTURECONTAINSFOURSEPARATEENIGMATICMESSAGESTHREEOFWHICHHAVEBEENDECIPHERED\n",
      "        UNPRETENDING\t-160.88,\t6,\tENIGMA,\tTHEMAINPARTOFTHESCULPTUREISLOCATEDINTHENORTHWESTCORNEROFTHENEWHEADQUARTERSBUILDINGCOURTYARDOUTSIDEOFTHEAGENCYSCAFETERIATHESCULPTURECOMPRISESFOURLARGECOPPERPLATESWITHOTHERELEMENTSCONSISTINGOFWATERWOODPLANTSREDANDGREENGRANITEWHITEQUARTZANDPETRIFIEDWOODTHENAMEKRYPTOSCOMESFROMTHEANCIENTGREEKWORDFORHIDDENANDTHETHEMEOFTHESCULPTUREISINTELLIGENCEGATHERINGTHEMOSTPROMINENTFEATUREISALARGEVERTICALSSHAPEDCOPPERSCREENRESEMBLINGASCROLLORAPIECEOFPAPEREMERGINGFROMACOMPUTERPRINTERHALFOFWHICHCONSISTSOFENCRYPTEDTEXTTHECHARACTERSAREALLFOUNDWITHINTHETWENTYSIXLETTERSOFTHELATINALPHABETALONGWITHQUESTIONMARKSANDARECUTOUTOFTHECOPPERPLATESTHEMAINSCULPTURECONTAINSFOURSEPARATEENIGMATICMESSAGESTHREEOFWHICHHAVEBEENDECIPHERED\n",
      "              WAXILY\t-160.88,\t6,\tENIGMA,\tTHEMAINPARTOFTHESCULPTUREISLOCATEDINTHENORTHWESTCORNEROFTHENEWHEADQUARTERSBUILDINGCOURTYARDOUTSIDEOFTHEAGENCYSCAFETERIATHESCULPTURECOMPRISESFOURLARGECOPPERPLATESWITHOTHERELEMENTSCONSISTINGOFWATERWOODPLANTSREDANDGREENGRANITEWHITEQUARTZANDPETRIFIEDWOODTHENAMEKRYPTOSCOMESFROMTHEANCIENTGREEKWORDFORHIDDENANDTHETHEMEOFTHESCULPTUREISINTELLIGENCEGATHERINGTHEMOSTPROMINENTFEATUREISALARGEVERTICALSSHAPEDCOPPERSCREENRESEMBLINGASCROLLORAPIECEOFPAPEREMERGINGFROMACOMPUTERPRINTERHALFOFWHICHCONSISTSOFENCRYPTEDTEXTTHECHARACTERSAREALLFOUNDWITHINTHETWENTYSIXLETTERSOFTHELATINALPHABETALONGWITHQUESTIONMARKSANDARECUTOUTOFTHECOPPERPLATESTHEMAINSCULPTURECONTAINSFOURSEPARATEENIGMATICMESSAGESTHREEOFWHICHHAVEBEENDECIPHERED\n"
     ]
    }
   ],
   "source": [
    "from ngram_score import ngram_score\n",
    "\n",
    "import re\n",
    "import pprint as pp\n",
    "\n",
    "qgram = ngram_score('ngrams/en_sherlock_4grams') # load our 4gram statistics\n",
    "trigram = ngram_score('ngrams/en_sherlock_3grams') # load our 3gram statistics\n",
    "\n",
    "# keep track of the 100 best keys\n",
    "N=100 \n",
    "rec = nbest(N)\n",
    "f = open('wordlists/websters-dictionary','r')\n",
    "L = 42 # for speed, only consider first L characters in evaluation\n",
    "\n",
    "i = 1\n",
    "for alphakey_ in f:    \n",
    "    alphakey_ = re.sub(r'[^A-Z]','',alphakey_.upper())\n",
    "    decrypted_ctext = keyed_vigenere(ctext[:L], key = \"LODESTONE\", alpha_key = alphakey_, direction = -1)\n",
    "    score = qgram.score(decrypted_ctext)\n",
    "    rec.add((score,alphakey_, decrypted_ctext))\n",
    "    i += 1\n",
    "    if i % 10000 == 0:\n",
    "        bestscore = rec[0][0]\n",
    "        bestalphakey_ = rec[0][1]\n",
    "        decrypted_ctext = keyed_vigenere(ctext, key = \"LODESTONE\", alpha_key = bestalphakey_, direction = -1)\n",
    "        print \"%20s\\t%5.2f,\\t%s,\\t%s,\\t%s\" % (alphakey_, bestscore, len(bestalphakey_), bestalphakey_, decrypted_ctext)"
   ]
  },
  {
   "cell_type": "markdown",
   "metadata": {},
   "source": [
    "<div class=\"alert-warning\">\n",
    "<h3>CHALLENGE: A Special Case</h3>\n",
    "<br/>\n",
    "Break the following keyed vigenere ciphertext:\n",
    "<pre>\n",
    "KWRGHGPEOKDBXGAWVMJDFVCVDHJZAMQGRNFHKWRLAVKWKWVFSCHLIVGRZCIHDUAWHPUFOKDNTLLEFCWHVBKBJOZRHVWCYVVGWAWADSDKNWGMBLUUPNKAHOHFZAJICCLGYKIMGZFKFODLIYCVHKHBIMGEFWEZHKZWVLMGAYDSDORZIYDJZMKBPLEMDGPSWAOJKAHPABWEXUGFIORNHHWSHWIHYOOLFFDUAODNUFOKDIQJTHIFTHIOIPNCWNDSDJOGIXTIFVAOSCDWVQTCDVRNQJUOIHKSHWIXNCHNPBTWENMNPKVNDSDGAWXNGRZCIOSFXHDDTAEMFHKAXZFRDJUWQJKWRKFHYGAWXBIGFKAYMJRLDQDKZEENMLOZHVYASWEFMPOZVOZKFWMMGEFWEOSORWGVDLRGJCMJNUVMTCXZAVQEEWKNGRFUYNTADWERMJNAEBOKUYXZJGRKYVMJZWESQDIYPLZHUCKBPLEMDOGRRLKVBEZWMFDTZVRNSWOKHMKAHMHVDKXZPBJJTPFFZHVVRNKURLDTIHMZIFKAHMAQKWRZHFMJOZYSQMRVHCGJNPFFZVYWVFMCVGHVVLOLMJTAUEDBJGWADSDPWHYNTEXUDNIGAWXJMJJICCLGYKIMGJZUFHIRWEEODEOKHFDAVOQYQGEIXNILOBIOKWHWIBXUAOKSZKSWJNDJTWKGLWRKIP\n",
    "</pre>\n",
    "<br/>\n",
    "</div>"
   ]
  },
  {
   "cell_type": "markdown",
   "metadata": {},
   "source": [
    "### Case 2: Vigenere Key is Unknown, Alphabet Key is Known"
   ]
  },
  {
   "cell_type": "markdown",
   "metadata": {},
   "source": [
    "Now, let's take the same ciphertext and suppose we only know the alphabet key.\n"
   ]
  },
  {
   "cell_type": "code",
   "execution_count": 49,
   "metadata": {
    "collapsed": true
   },
   "outputs": [],
   "source": [
    "ctext = \"BYDMXVPQAMCWFJGOTCCNXTKHOGSEIPAJTWGNBYDNBHCJWLBNCBHPNRNXNHSUOXHLTQQKYAUEMBOUUBWGNQVWUFKKBRVIITHVWNOWCSEXWOICJBPANTCNRPTNHSJVVLICIRSEIAPMQEEHIIVRETZGSEIQPLAXLXKOTWPCSOJGOSEEOKETKBDOOBHSJVPMOWHLTSHHPOVGVATKBSEVTFDVHONNQALNUKOXHPCDQKYAUZSPQPSKAGFPOQWBCWUHLPLMSAAZPBIECBXOTFMIKTITTICPOFTVHONKFIZDNCAJIVWDNXUWUHLCSEWTIHTXOECKBGUUMOHSUUCNLEQJETEOMABYDRUURUHLSWSJDAPMPPDNJIOBTCADIHYNBRQOGEFKQDAEBEHXDOFCNGXEFJVSELPZEHTSCLPPJAHEAPLEIZACVODENXXACTANMLAJITWXSORTPOWDDUEMGZITKOSHSNRONPYGCXVWNHVBUSNXDNZHKQTLWNEPKCJEUYLRXECNRATZEXBNHOCPQWUKYGNBYDTOTPUYAQALSKCNRAIRTITNBTPPLLCGTCEBTVOTWHGTXMIEHKQPNRTZKHYPFAMOPUJCDUOWCSEZCGQEMGVAJTBUHLSLITJVVLICIRSEIITSQFSNCDSSLGLRXKONNPRKAJVVAEABLGSJCJRLOWFOGQDHXTGEYTOIDLVHPITAND\""
   ]
  },
  {
   "cell_type": "code",
   "execution_count": 50,
   "metadata": {
    "collapsed": false
   },
   "outputs": [
    {
     "name": "stdout",
     "output_type": "stream",
     "text": [
      "================================================================================\n",
      "-110.240294115 klen 9 :\"LODESTONE\", THEMAINPARTOFTHESCULPTUREISLOCATEDINTHENORTHWESTCORNEROFTHENEWHEADQUARTERSBUILDINGCOURTYARDOUTSIDEOFTHEAGENCYSCAFETERIATHESCULPTURECOMPRISESFOURLARGECOPPERPLATESWITHOTHERELEMENTSCONSISTINGOFWATERWOODPLANTSREDANDGREENGRANITEWHITEQUARTZANDPETRIFIEDWOODTHENAMEKRYPTOSCOMESFROMTHEANCIENTGREEKWORDFORHIDDENANDTHETHEMEOFTHESCULPTUREISINTELLIGENCEGATHERINGTHEMOSTPROMINENTFEATUREISALARGEVERTICALSSHAPEDCOPPERSCREENRESEMBLINGASCROLLORAPIECEOFPAPEREMERGINGFROMACOMPUTERPRINTERHALFOFWHICHCONSISTSOFENCRYPTEDTEXTTHECHARACTERSAREALLFOUNDWITHINTHETWENTYSIXLETTERSOFTHELATINALPHABETALONGWITHQUESTIONMARKSANDARECUTOUTOFTHECOPPERPLATESTHEMAINSCULPTURECONTAINSFOURSEPARATEENIGMATICMESSAGESTHREEOFWHICHHAVEBEENDECIPHERED\n"
     ]
    }
   ],
   "source": [
    "from itertools import permutations\n",
    "from ngram_score import ngram_score\n",
    "\n",
    "import re\n",
    "import pprint as pp\n",
    "\n",
    "qgram = ngram_score('ngrams/en_sherlock_4grams') # load our 4gram statistics\n",
    "trigram = ngram_score('ngrams/en_sherlock_3grams') # load our 3gram statistics\n",
    "\n",
    "# keep track of the 100 best keys\n",
    "N=100 \n",
    "L=42 # only process L characters for speed\n",
    "alphakey = \"ENIGMA\"\n",
    "\n",
    "for KLEN in [9]:  #range(3,10):    \n",
    "    print \"=\"*80\n",
    "    rec = nbest(N)\n",
    "    \n",
    "    # exhaustively test all possible letters for first 3 entries of the key and keep track of the N best ones\n",
    "    # if KLEN=7, this will test e.g. FOOAAAA and BARAAAA \n",
    "    for i in permutations('ABCDEFGHIJKLMNOPQRSTUVWXYZ',3):\n",
    "        i = \"\".join(i)\n",
    "        key = ''.join(i) + 'A'*(KLEN-len(i))\n",
    "        decrypted_ctext = keyed_vigenere(ctext[:L], key, alpha_key = alphakey, direction = -1)\n",
    "        score = 0\n",
    "        for j in range(0,len(ctext),KLEN):\n",
    "            score += trigram.score(decrypted_ctext[j:j+3])\n",
    "        rec.add((score,''.join(i), decrypted_ctext))\n",
    "    next_rec = nbest(N)\n",
    "    \n",
    "    # for the remaining KLEN-3 characters of the key,\n",
    "    for i in range(0,KLEN-3):\n",
    "        # go over the N best keys found so far...\n",
    "        for k in xrange(N):\n",
    "            # ...and determine the best next character of the key, while keeping best N keys so far\n",
    "            for c in 'ABCDEFGHIJKLMNOPQRSTUVWXYZ':\n",
    "                key = rec[k][1] + c\n",
    "                fullkey = key + 'A'*(KLEN-len(key))\n",
    "                decrypted_ctext = keyed_vigenere(ctext[:L], fullkey, alpha_key = alphakey, direction = -1)\n",
    "                score = 0\n",
    "                for j in range(0,len(ctext),KLEN):\n",
    "                    score += qgram.score(decrypted_ctext[j:j+len(key)])\n",
    "                next_rec.add((score, key, decrypted_ctext))\n",
    "        rec = next_rec\n",
    "        next_rec = nbest(N)\n",
    "       \n",
    "    # show the results\n",
    "    bestscore = rec[0][0]\n",
    "    bestkey = rec[0][1]    \n",
    "    #decrypted_ctext = rec[0][2]\n",
    "    # always show entire decrypted ctext, even if the above analysis is done only on part of the ctext, e.g. ctext[0:100]\n",
    "    decrypted_ctext = keyed_vigenere(ctext, bestkey, alpha_key = alphakey, direction = -1) \n",
    "    print bestscore, 'klen', KLEN, ':\"'+bestkey+'\",', decrypted_ctext\n",
    "    # uncomment the following lines to see top-10 results\n",
    "    #pp.pprint(rec.store[0:10])\n",
    "    #print '\\n'"
   ]
  },
  {
   "cell_type": "markdown",
   "metadata": {},
   "source": [
    "# Kryptos"
   ]
  },
  {
   "cell_type": "code",
   "execution_count": 51,
   "metadata": {
    "collapsed": true
   },
   "outputs": [],
   "source": [
    "kryptos_L1 = \"\"\"\n",
    "EMUFPHZLRFAXYUSDJKZLDKRNSHGNFIVJ\n",
    "YQTQUXQBQVYUVLLTREVJYQTMKYRDMFD\n",
    "VFPJUDEEHZWETZYVGWHKKQETGFQJNCE\n",
    "GGWHKK?DQMCPFQZDQMMIAGPFXHQRLG\n",
    "TIMVMZJANQLVKQEDAGDVFRPJUNGEUNA\n",
    "QZGZLECGYUXUEENJTBJLBQCRTBJDFHRR\n",
    "YIZETKZEMVDUFKSJHKFWHKUWQLSZFTI\n",
    "HHDDDUVH?DWKBFUFPWNTDFIYCUQZERE\n",
    "EVLDKFEZMOQQJLTTUGSYQPFEUNLAVIDX\n",
    "FLGGTEZ?FKZBSFDQVGOGIPUFXHHDRKF\n",
    "FHQNTGPUAECNUVPDJMQCLQUMUNEDFQ\n",
    "ELZZVRRGKFFVOEEXBDMVPNFQXEZLGRE\n",
    "DNQFMPNZGLFLPMRJQYALMGNUVPDXVKP\n",
    "DQUMEBEDMHDAFMJGZNUPLGEWJLLAETG\"\"\"\n",
    "\n",
    "kryptos_L2 = \"\"\"\n",
    "ENDYAHROHNLSRHEOCPTEOIBIDYSHNAIA\n",
    "CHTNREYULDSLLSLLNOHSNOSMRWXMNE\n",
    "TPRNGATIHNRARPESLNNELEBLPIIACAE\n",
    "WMTWNDITEENRAHCTENEUDRETNHAEOE\n",
    "TFOLSEDTIWENHAEIOYTEYQHEENCTAYCR\n",
    "EIFTBRSPAMHHEWENATAMATEGYEERLB\n",
    "TEEFOASFIOTUETUAEOTOARMAEERTNRTI\n",
    "BSEDDNIAAHTTMSTEWPIEROAGRIEWFEB\n",
    "AECTDDHILCEIHSITEGOEAOSDDRYDLORIT\n",
    "RKLMLEHAGTDHARDPNEOHMGFMFEUHE\n",
    "ECDMRIPFEIMEHNLSSTTRTVDOHW?OBKR\n",
    "UOXOGHULBSOLIFBBWFLRVQQPRNGKSSO\n",
    "TWTQSJQSSEKZZWATJKLUDIAWINFBNYP\n",
    "VTTMZFPKWGDKZXTJCDIGKUHUAUEKCAR\"\"\""
   ]
  },
  {
   "cell_type": "code",
   "execution_count": 52,
   "metadata": {
    "collapsed": false
   },
   "outputs": [],
   "source": [
    "ctext_kryptos = (kryptos_L1+kryptos_L2).replace(\" \", \"\").strip().split(\"\\n\")"
   ]
  },
  {
   "cell_type": "markdown",
   "metadata": {},
   "source": [
    "## Prerequisites\n",
    "\n",
    "These are the functions used for deciphering Kryptos K1 and K2 (copied from above for easy initialization of the notebook). "
   ]
  },
  {
   "cell_type": "code",
   "execution_count": 53,
   "metadata": {
    "collapsed": true
   },
   "outputs": [],
   "source": [
    "def rot(s, key, alphabet=\"ABCDEFGHIJKLMNOPQRSTUVWXYZ\", direction=1):\n",
    "    keyval = alphabet.find(key)\n",
    "    t = \"\"\n",
    "    for sc in s:\n",
    "        i = alphabet.find(sc)\n",
    "        t += alphabet[(i + keyval * direction) % len(alphabet)] if i > -1 else sc\n",
    "    return t"
   ]
  },
  {
   "cell_type": "code",
   "execution_count": 54,
   "metadata": {
    "collapsed": true
   },
   "outputs": [],
   "source": [
    "import re\n",
    "\n",
    "def compute_keyed_alphabet(keyword, alphabet = \"ABCDEFGHIJKLMNOPQRSTUVWXYZ\"):\n",
    "    # remove double keyword letters, keeping first occurence\n",
    "    keyword_unique = \"\"\n",
    "    for c in keyword:\n",
    "        if c not in keyword_unique:\n",
    "            keyword_unique += c\n",
    "    # compute cipher alphabet\n",
    "    keyed_alphabet = keyword_unique + re.sub(\"[%s]\" % keyword, \"\", alphabet)\n",
    "    return keyed_alphabet"
   ]
  },
  {
   "cell_type": "code",
   "execution_count": 55,
   "metadata": {
    "collapsed": true
   },
   "outputs": [],
   "source": [
    "def keyed_vigenere(s, key, alphabet=\"ABCDEFGHIJKLMNOPQRSTUVWXYZ\", alpha_key=\"\", direction=1):\n",
    "    # compute keyed alphabet\n",
    "    keyed_alphabet = compute_keyed_alphabet(alpha_key, alphabet)\n",
    "    t = []\n",
    "    key_i = 0\n",
    "    for i in range(len(s)):\n",
    "        if s[i] in alphabet:\n",
    "            t_i = rot(s[i], key[key_i % len(key)],keyed_alphabet, direction)\n",
    "            t.append(t_i)\n",
    "            key_i += 1\n",
    "        else:\n",
    "            t.append(s[i])\n",
    "    return \"\".join(t)"
   ]
  },
  {
   "cell_type": "code",
   "execution_count": 56,
   "metadata": {
    "collapsed": true
   },
   "outputs": [],
   "source": [
    "from __future__ import division\n",
    "import numpy as np\n",
    "\n",
    "# computes the IC for a given string\n",
    "def IC(s, alphabet = 'ABCDEFGHIJKLMNOPQRSTUVWXYZ'):\n",
    "    s_filtered = filter(s, alphabet) # we only care about the letters in our alphabet\n",
    "    ic = 0\n",
    "    for c in alphabet:\n",
    "        c_count = s_filtered.count(c)\n",
    "        N = len(s_filtered)\n",
    "        if c_count > 1:\n",
    "            ic += (c_count * (c_count - 1)) / (N * (N - 1) / len(alphabet))\n",
    "    return ic\n",
    "\n",
    "# helper function to filter out non-alphabet characters\n",
    "def filter(s, alphabet = 'ABCDEFGHIJKLMNOPQRSTUVWXYZ'):\n",
    "    return \"\".join([c for c in s if c in alphabet])\n",
    "\n",
    "# computes the avg IC of subsequences of each n'th character\n",
    "def mean_IC(s, n, alphabet = 'ABCDEFGHIJKLMNOPQRSTUVWXYZ'):\n",
    "    s_filtered = filter(s, alphabet) # we only care about the letters in our alphabet\n",
    "    s_filtered_subseq = [s_filtered[i::n] for i in range(n)]\n",
    "    ic = []\n",
    "    for i in range(n):\n",
    "        ic.append(IC(s_filtered_subseq[i]))\n",
    "    return np.mean(ic)"
   ]
  },
  {
   "cell_type": "code",
   "execution_count": 57,
   "metadata": {
    "collapsed": true
   },
   "outputs": [],
   "source": [
    "# keep a list of the N best things we have seen, discard anything else\n",
    "# this class can also be imported using 'import nbest' from a separate file nbest.py\n",
    "class nbest(object):\n",
    "    def __init__(self,N=1000):\n",
    "        self.store = []\n",
    "        self.N = N\n",
    "        \n",
    "    def add(self,item):\n",
    "        self.store.append(item)\n",
    "        self.store.sort(reverse=True)\n",
    "        self.store = self.store[:self.N]\n",
    "    \n",
    "    def __getitem__(self,k):\n",
    "        return self.store[k]\n",
    "\n",
    "    def __len__(self):\n",
    "        return len(self.store)"
   ]
  },
  {
   "cell_type": "markdown",
   "metadata": {},
   "source": [
    "## Kryptos - K1"
   ]
  },
  {
   "cell_type": "code",
   "execution_count": 58,
   "metadata": {
    "collapsed": false
   },
   "outputs": [
    {
     "data": {
      "text/plain": [
       "'EMUFPHZLRFAXYUSDJKZLDKRNSHGNFIVJYQTQUXQBQVYUVLLTREVJYQTMKYRDMFD'"
      ]
     },
     "execution_count": 58,
     "metadata": {},
     "output_type": "execute_result"
    }
   ],
   "source": [
    "ctext = \"\".join(ctext_kryptos[:2])\n",
    "ctext"
   ]
  },
  {
   "cell_type": "markdown",
   "metadata": {},
   "source": [
    "### K1 - Determine if plaintext"
   ]
  },
  {
   "cell_type": "code",
   "execution_count": 59,
   "metadata": {
    "collapsed": false
   },
   "outputs": [
    {
     "data": {
      "text/plain": [
       "0.9851510496671787"
      ]
     },
     "execution_count": 59,
     "metadata": {},
     "output_type": "execute_result"
    }
   ],
   "source": [
    "IC(ctext)"
   ]
  },
  {
   "cell_type": "markdown",
   "metadata": {},
   "source": [
    "Based on the IC, it looks like this is not plaintext, or a transposition of plaintext."
   ]
  },
  {
   "cell_type": "markdown",
   "metadata": {},
   "source": [
    "### K1 - Determine Key Length"
   ]
  },
  {
   "cell_type": "code",
   "execution_count": 60,
   "metadata": {
    "collapsed": false
   },
   "outputs": [
    {
     "name": "stdout",
     "output_type": "stream",
     "text": [
      " 1 0.985151\n",
      " 2 1.025672\n",
      " 3 0.949206\n",
      " 4 0.897619\n",
      " 5 2.054545\n",
      " 6 0.840404\n",
      " 7 0.928571\n",
      " 8 0.232143\n",
      " 9 0.825397\n",
      "10 2.377143\n",
      "11 0.709091\n",
      "12 0.650000\n",
      "13 1.933333\n",
      "14 0.680952\n",
      "15 1.617778\n",
      "16 0.000000\n",
      "17 0.254902\n",
      "18 0.962963\n",
      "19 0.912281\n",
      "20 3.900000\n",
      "21 0.412698\n",
      "22 0.393939\n",
      "23 0.376812\n",
      "24 0.000000\n",
      "25 1.040000\n",
      "26 3.333333\n",
      "27 1.283951\n",
      "28 0.000000\n",
      "29 0.298851\n",
      "30 1.733333\n",
      "31 0.000000\n"
     ]
    },
    {
     "data": {
      "text/plain": [
       "<matplotlib.text.Text at 0x7f3112011150>"
      ]
     },
     "execution_count": 60,
     "metadata": {},
     "output_type": "execute_result"
    },
    {
     "data": {
      "image/png": "[encoded data removed]",
      "text/plain": [
       "<matplotlib.figure.Figure at 0x7f3111e23750>"
      ]
     },
     "metadata": {},
     "output_type": "display_data"
    }
   ],
   "source": [
    "from matplotlib import pyplot as plt\n",
    "%matplotlib inline\n",
    "\n",
    "mean_ic_n = []\n",
    "for n in range(1,32):\n",
    "    mean_ic = mean_IC(ctext.upper(), n)\n",
    "    mean_ic_n.append(mean_ic)\n",
    "    print \"%2d %02f\" % (n, mean_ic)\n",
    "plt.rcParams[\"figure.figsize\"] = [12,4]\n",
    "plt.bar(range(1,len(mean_ic_n)+1), mean_ic_n, align = 'center')\n",
    "plt.xlabel(\"key length\")\n",
    "plt.ylabel(\"average IC\")"
   ]
  },
  {
   "cell_type": "markdown",
   "metadata": {},
   "source": [
    "From the mean IC and peaks at key length 10 and 20, it looks like the key length might be 10."
   ]
  },
  {
   "cell_type": "markdown",
   "metadata": {},
   "source": [
    "### K1 - Frequency Analysis of Subsequences #1"
   ]
  },
  {
   "cell_type": "code",
   "execution_count": 61,
   "metadata": {
    "collapsed": false
   },
   "outputs": [
    {
     "data": {
      "image/png": "[encoded data removed]",
      "text/plain": [
       "<matplotlib.figure.Figure at 0x7f31126c8b50>"
      ]
     },
     "metadata": {},
     "output_type": "display_data"
    }
   ],
   "source": [
    "# https://blog.dominodatalab.com/interactive-dashboards-in-jupyter/\n",
    "# http://ipywidgets.readthedocs.io/en/latest/examples/Using%20Interact.html\n",
    "from __future__ import division\n",
    "from matplotlib import pyplot as plt\n",
    "import numpy as np\n",
    "from ipywidgets import interact, interactive, fixed\n",
    "#import ipywidgets as widgets\n",
    "plt.rcParams[\"figure.figsize\"] = [12,16]\n",
    "\n",
    "def rotate(l, n):\n",
    "    return l[n:] + l[:n]\n",
    "\n",
    "alphabet = \"ABCDEFGHIJKLMNOPQRSTUVWXYZ\"\n",
    "\n",
    "key_length = 10\n",
    "\n",
    "g_english = [0.0736, 0.0148, 0.0445, 0.0302, 0.102, 0.0227, 0.0122, 0.0277, 0.0855, 0.000557, 0.00237, 0.0342, 0.0206, 0.0717, 0.103, 0.0246, 0.00181, 0.0735, 0.0608, 0.0889, 0.0392, 0.0153, 0.0173, 0.000557, 0.032, 0.000278]\n",
    "pfig = plt.subplot(key_length+1,1,1)\n",
    "plt.bar(range(len(alphabet)), g_english, tick_label = rotate(list(alphabet), 0), align = 'center', color = 'b')\n",
    "\n",
    "ctext_freq = []\n",
    "for i in range(key_length):\n",
    "    ctext_i = ctext[i::key_length]\n",
    "    ctext_freq.append(np.array([ctext_i.count(c)/len(ctext_i) for c in alphabet]))\n",
    "    \n",
    "    cfig = plt.subplot(key_length+1,1,i+2)\n",
    "    plt.bar(range(len(alphabet)), ctext_freq[i], tick_label = rotate(list(alphabet), 0), align = 'center', color = 'r')"
   ]
  },
  {
   "cell_type": "markdown",
   "metadata": {},
   "source": [
    "### K1 - Frequency Analysis of Subsequences #2"
   ]
  },
  {
   "cell_type": "markdown",
   "metadata": {},
   "source": [
    "Now, let's try that again, but use the cipher alphabet order."
   ]
  },
  {
   "cell_type": "code",
   "execution_count": 62,
   "metadata": {
    "collapsed": false
   },
   "outputs": [
    {
     "data": {
      "image/png": "[encoded data removed]",
      "text/plain": [
       "<matplotlib.figure.Figure at 0x7f3113231650>"
      ]
     },
     "metadata": {},
     "output_type": "display_data"
    }
   ],
   "source": [
    "# https://blog.dominodatalab.com/interactive-dashboards-in-jupyter/\n",
    "# http://ipywidgets.readthedocs.io/en/latest/examples/Using%20Interact.html\n",
    "from __future__ import division\n",
    "from matplotlib import pyplot as plt\n",
    "import numpy as np\n",
    "from ipywidgets import interact, interactive, fixed\n",
    "#import ipywidgets as widgets\n",
    "plt.rcParams[\"figure.figsize\"] = [12,16]\n",
    "\n",
    "def rotate(l, n):\n",
    "    return l[n:] + l[:n]\n",
    "\n",
    "alphabet = \"ABCDEFGHIJKLMNOPQRSTUVWXYZ\"\n",
    "keyed_alphabet = compute_keyed_alphabet(\"KRYPTOS\")\n",
    "\n",
    "key_length = 10\n",
    "\n",
    "g_english = [0.0736, 0.0148, 0.0445, 0.0302, 0.102, 0.0227, 0.0122, 0.0277, 0.0855, 0.000557, 0.00237, 0.0342, 0.0206, 0.0717, 0.103, 0.0246, 0.00181, 0.0735, 0.0608, 0.0889, 0.0392, 0.0153, 0.0173, 0.000557, 0.032, 0.000278]\n",
    "g_english_keyed = [g_english[alphabet.find(c)] for c in keyed_alphabet]\n",
    "pfig = plt.subplot(key_length+1,1,1)\n",
    "plt.bar(range(len(alphabet)), g_english_keyed, tick_label = rotate(list(keyed_alphabet), 0), align = 'center', color = 'b')\n",
    "\n",
    "ctext_freq = []\n",
    "for i in range(key_length):\n",
    "    ctext_i = ctext[i::key_length]\n",
    "    ctext_freq.append(np.array([ctext_i.count(c)/len(ctext_i) for c in keyed_alphabet]))\n",
    "    \n",
    "    cfig = plt.subplot(key_length+1,1,i+2)\n",
    "    plt.bar(range(len(keyed_alphabet)), ctext_freq[i], tick_label = rotate(list(keyed_alphabet), 0), align = 'center', color = 'r')"
   ]
  },
  {
   "cell_type": "markdown",
   "metadata": {},
   "source": [
    "### K1 - Vigenere Key is Unknown, Alphabet Key is Known"
   ]
  },
  {
   "cell_type": "code",
   "execution_count": 63,
   "metadata": {
    "collapsed": false
   },
   "outputs": [
    {
     "name": "stdout",
     "output_type": "stream",
     "text": [
      "================================================================================\n",
      "-61.660059643 klen 3 :\"IDC\", VBFWNODAMWWIGEWUSLDARELDLTTTYSASNOQESHENDGGEGYAUFRGRMEIBLGLRPYR\n",
      "================================================================================\n",
      "-59.2154010926 klen 4 :\"YCJO\", CCOAROCFZPLNKFJOHLCFBLEHTOWHDSSEKEHINITPMGFJQBRZZYSEKEHGXNEOJPQ\n",
      "================================================================================\n",
      "-89.9701573757 klen 5 :\"PALHX\", BETXOEMKGHTLEABACCENANDOBESYXLNCESSLHASDLIEAXHDGGGNCESSINEGFION\n",
      "================================================================================\n",
      "-117.050498758 klen 6 :\"MAUREC\", NEKEMOADSEVIDHECOLADIZJDHAMMRSTCANNEPLZACGDHRJSUCTRILEFEORJRKOI\n",
      "================================================================================\n",
      "-127.525938083 klen 7 :\"SDORNCG\", OBJEDOFELASONBKKEZSBWQLHOUTSSOLICELHENNIECVELJXUHOFERRUOQMVCZPW\n",
      "================================================================================\n",
      "-138.792596964 klen 8 :\"KPYOLCZR\", EINAFOKJRCONEFACJWWFNLYMSEEHUSWIYLYITIUAQNKJOBMPRBQEEEOLKZZORPE\n",
      "================================================================================\n",
      "-141.899963908 klen 9 :\"DEGIDGRCC\", RABWNRXBMYVEGENCALISWELSOOTCRYASINUEEGANDCRFGASLFRCINEQAGGLWLPR\n",
      "================================================================================\n",
      "-108.919407769 klen 10 :\"PALIMPSEST\", BETWEENSUBTLESHADINGANDTHEABSENCEOFLIGHTLIESTHENUANCEOFIQLUSION\n",
      "================================================================================\n",
      "-149.613822927 klen 11 :\"QGYZYCQGJUJ\", LONGROOTELLTINABASFRIDASTIEDMYSUFKLMVVEHASAOYTIOZYYPFZHXGKYBCMW\n",
      "================================================================================\n",
      "-134.252813442 klen 12 :\"AGYRRVMXLIMI\", TONEYMANDWICUBTCITANNECTZREMENTMEOFOHEMANKDWOYZIQXQIRXFQCGCUEZB\n",
      "================================================================================\n",
      "-132.622931496 klen 13 :\"KHAOZDXSNWHMZ\", ETHATTREBINSPUMPERINTATOHIGOODWSTHEWASUBSIWVFNEETWTLYSWGRMPTZIV\n",
      "================================================================================\n",
      "-147.441605578 klen 14 :\"WPIIVFNEJWRNAB\", HISWAYSSEISOUGCAREPOLIEVOUSEIFARSBECORNIGHOMAYUMBKSNRRWDPZFUVKL\n",
      "================================================================================\n",
      "-145.859484498 klen 15 :\"BRNSFCJFCRNCIAY\", PLYSLOCOMEHIGHTYIANORDIDOUTTOGHICHMEOFEARGGHQCJEUZGKJEPZLGQBDEL\n"
     ]
    }
   ],
   "source": [
    "from itertools import permutations\n",
    "from ngram_score import ngram_score\n",
    "\n",
    "import re\n",
    "import pprint as pp\n",
    "\n",
    "qgram = ngram_score('ngrams/en_sherlock_4grams') # load our 4gram statistics\n",
    "trigram = ngram_score('ngrams/en_sherlock_3grams') # load our 3gram statistics\n",
    "\n",
    "# keep track of the 100 best keys\n",
    "N=100 \n",
    "L=42 # only process L characters for speed\n",
    "alphakey = \"KRYPTOS\"\n",
    "\n",
    "for KLEN in range(3,16):    \n",
    "    print \"=\"*80\n",
    "    rec = nbest(N)\n",
    "    \n",
    "    # exhaustively test all possible letters for first 3 entries of the key and keep track of the N best ones\n",
    "    # if KLEN=7, this will test e.g. FOOAAAA and BARAAAA \n",
    "    for i in permutations('ABCDEFGHIJKLMNOPQRSTUVWXYZ',3):\n",
    "        i = \"\".join(i)\n",
    "        key = ''.join(i) + 'A'*(KLEN-len(i))\n",
    "        decrypted_ctext = keyed_vigenere(ctext[:L], key, alpha_key = alphakey, direction = -1)\n",
    "        score = 0\n",
    "        for j in range(0,len(ctext),KLEN):\n",
    "            score += trigram.score(decrypted_ctext[j:j+3])\n",
    "        rec.add((score,''.join(i), decrypted_ctext))\n",
    "    next_rec = nbest(N)\n",
    "    \n",
    "    # for the remaining KLEN-3 characters of the key,\n",
    "    for i in range(0,KLEN-3):\n",
    "        # go over the N best keys found so far...\n",
    "        for k in xrange(N):\n",
    "            # ...and determine the best next character of the key, while keeping best N keys so far\n",
    "            for c in 'ABCDEFGHIJKLMNOPQRSTUVWXYZ':\n",
    "                key = rec[k][1] + c\n",
    "                fullkey = key + 'A'*(KLEN-len(key))\n",
    "                decrypted_ctext = keyed_vigenere(ctext[:L], fullkey, alpha_key = alphakey, direction = -1)\n",
    "                score = 0\n",
    "                for j in range(0,len(ctext),KLEN):\n",
    "                    score += qgram.score(decrypted_ctext[j:j+len(key)])\n",
    "                next_rec.add((score, key, decrypted_ctext))\n",
    "        rec = next_rec\n",
    "        next_rec = nbest(N)\n",
    "       \n",
    "    # show the results\n",
    "    bestscore = rec[0][0]\n",
    "    bestkey = rec[0][1]    \n",
    "    #decrypted_ctext = rec[0][2]\n",
    "    # always show entire decrypted ctext, even if the above analysis is done only on part of the ctext, e.g. ctext[0:100]\n",
    "    decrypted_ctext = keyed_vigenere(ctext, bestkey, alpha_key = alphakey, direction = -1) \n",
    "    print bestscore, 'klen', KLEN, ':\"'+bestkey+'\",', decrypted_ctext\n",
    "    # uncomment the following lines to see top-10 results\n",
    "    #pp.pprint(rec.store[0:10])\n",
    "    #print '\\n'"
   ]
  },
  {
   "cell_type": "markdown",
   "metadata": {},
   "source": [
    "### K1 - Determining Message Boundaries"
   ]
  },
  {
   "cell_type": "code",
   "execution_count": 64,
   "metadata": {
    "collapsed": false
   },
   "outputs": [
    {
     "name": "stdout",
     "output_type": "stream",
     "text": [
      "EMUFPHZLRFAXYUSDJKZLDKRNSHGNFIVJYQTQUXQBQVYUVLLTREVJYQTMKYRDMFDVFPJUDEEHZWETZYVGWHKKQETGFQJNCE\n",
      "BETWEENSUBTLESHADINGANDTHEABSENCEOFLIGHTLIESTHENUANCEOFIQLUSIONAQKDDTABABBNRNLJCQACEYBXYSJGFMV\n"
     ]
    }
   ],
   "source": [
    "ctext = \"\".join(ctext_kryptos[:3])\n",
    "key = \"PALIMPSEST\"\n",
    "alphakey = \"KRYPTOS\"\n",
    "print ctext\n",
    "print keyed_vigenere(ctext, key, alpha_key = alphakey, direction = -1)"
   ]
  },
  {
   "cell_type": "markdown",
   "metadata": {},
   "source": [
    "From this, it can be seen that only the first 2 lines make up K1."
   ]
  },
  {
   "cell_type": "code",
   "execution_count": 65,
   "metadata": {
    "collapsed": false
   },
   "outputs": [
    {
     "name": "stdout",
     "output_type": "stream",
     "text": [
      "EMUFPHZLRFAXYUSDJKZLDKRNSHGNFIVJYQTQUXQBQVYUVLLTREVJYQTMKYRDMFD\n",
      "BETWEENSUBTLESHADINGANDTHEABSENCEOFLIGHTLIESTHENUANCEOFIQLUSION\n"
     ]
    }
   ],
   "source": [
    "ctext_k1 = \"\".join(ctext_kryptos[:2])\n",
    "\n",
    "key = \"PALIMPSEST\"\n",
    "alphakey = \"KRYPTOS\"\n",
    "ptext_k1 = keyed_vigenere(ctext_k1, key, alpha_key = alphakey, direction = -1)\n",
    "\n",
    "print ctext_k1\n",
    "print ptext_k1"
   ]
  },
  {
   "cell_type": "markdown",
   "metadata": {},
   "source": [
    "### K1 - Determining Word Boundaries\n",
    "\n",
    "- http://practicalcryptography.com/cryptanalysis/text-characterisation/word-statistics-fitness-measure/"
   ]
  },
  {
   "cell_type": "code",
   "execution_count": 66,
   "metadata": {
    "collapsed": false
   },
   "outputs": [
    {
     "name": "stdout",
     "output_type": "stream",
     "text": [
      "(-55.91447679719653, ['BETWEEN', 'SUBTLE', 'SHADING', 'AND', 'THE', 'ABSENCE', 'OF', 'LIGHT', 'LIES', 'THE', 'NUANCE', 'OF', 'IQ', 'LU', 'SION'])\n"
     ]
    }
   ],
   "source": [
    "from word_score import word_score\n",
    "fitness = word_score()\n",
    "print fitness.score(ptext_k1)"
   ]
  },
  {
   "cell_type": "markdown",
   "metadata": {},
   "source": [
    "    BETWEEN SUBTLE SHADING AND THE ABSENCE OF LIGHT LIES THE NUANCE OF IQLUSION"
   ]
  },
  {
   "cell_type": "markdown",
   "metadata": {},
   "source": [
    "## Kryptos - K2"
   ]
  },
  {
   "cell_type": "markdown",
   "metadata": {},
   "source": [
    "Let's start with the rest of the lines of the first panel for K2:"
   ]
  },
  {
   "cell_type": "code",
   "execution_count": 67,
   "metadata": {
    "collapsed": false
   },
   "outputs": [
    {
     "data": {
      "text/plain": [
       "'VFPJUDEEHZWETZYVGWHKKQETGFQJNCEGGWHKK?DQMCPFQZDQMMIAGPFXHQRLGTIMVMZJANQLVKQEDAGDVFRPJUNGEUNAQZGZLECGYUXUEENJTBJLBQCRTBJDFHRRYIZETKZEMVDUFKSJHKFWHKUWQLSZFTIHHDDDUVH?DWKBFUFPWNTDFIYCUQZEREEVLDKFEZMOQQJLTTUGSYQPFEUNLAVIDXFLGGTEZ?FKZBSFDQVGOGIPUFXHHDRKFFHQNTGPUAECNUVPDJMQCLQUMUNEDFQELZZVRRGKFFVOEEXBDMVPNFQXEZLGREDNQFMPNZGLFLPMRJQYALMGNUVPDXVKPDQUMEBEDMHDAFMJGZNUPLGEWJLLAETG'"
      ]
     },
     "execution_count": 67,
     "metadata": {},
     "output_type": "execute_result"
    }
   ],
   "source": [
    "ctext = \"\".join(ctext_kryptos[2:14])\n",
    "ctext"
   ]
  },
  {
   "cell_type": "markdown",
   "metadata": {},
   "source": [
    "### K2 - Determine if Plaintext"
   ]
  },
  {
   "cell_type": "code",
   "execution_count": 68,
   "metadata": {
    "collapsed": false
   },
   "outputs": [
    {
     "data": {
      "text/plain": [
       "1.182131495227996"
      ]
     },
     "execution_count": 68,
     "metadata": {},
     "output_type": "execute_result"
    }
   ],
   "source": [
    "IC(ctext)"
   ]
  },
  {
   "cell_type": "markdown",
   "metadata": {},
   "source": [
    "Based on the IC value, it looks like we are not dealing with plaintext, or a transposition of plaintext."
   ]
  },
  {
   "cell_type": "markdown",
   "metadata": {},
   "source": [
    "### K2 - Determine Key Length"
   ]
  },
  {
   "cell_type": "code",
   "execution_count": 69,
   "metadata": {
    "collapsed": false
   },
   "outputs": [
    {
     "name": "stdout",
     "output_type": "stream",
     "text": [
      " 1 1.182131\n",
      " 2 1.222922\n",
      " 3 1.174730\n",
      " 4 1.447021\n",
      " 5 1.287058\n",
      " 6 1.212844\n",
      " 7 1.160615\n",
      " 8 1.788987\n",
      " 9 1.127371\n",
      "10 1.305800\n",
      "11 1.175498\n",
      "12 1.422593\n",
      "13 1.257617\n",
      "14 1.182434\n",
      "15 1.276889\n",
      "16 1.704216\n",
      "17 1.268551\n",
      "18 1.129128\n",
      "19 0.988304\n",
      "20 1.577709\n",
      "21 1.112667\n",
      "22 1.097237\n",
      "23 1.118244\n",
      "24 1.768155\n",
      "25 1.180190\n",
      "26 1.379487\n",
      "27 1.259259\n",
      "28 1.284014\n",
      "29 1.149425\n",
      "30 1.415152\n",
      "31 1.174194\n"
     ]
    },
    {
     "data": {
      "text/plain": [
       "<matplotlib.text.Text at 0x7f311223fed0>"
      ]
     },
     "execution_count": 69,
     "metadata": {},
     "output_type": "execute_result"
    },
    {
     "data": {
      "image/png": "[encoded data removed]",
      "text/plain": [
       "<matplotlib.figure.Figure at 0x7f3111e23dd0>"
      ]
     },
     "metadata": {},
     "output_type": "display_data"
    }
   ],
   "source": [
    "from matplotlib import pyplot as plt\n",
    "%matplotlib inline\n",
    "\n",
    "mean_ic_n = []\n",
    "for n in range(1,32):\n",
    "    mean_ic = mean_IC(ctext.upper(), n)\n",
    "    mean_ic_n.append(mean_ic)\n",
    "    print \"%2d %02f\" % (n, mean_ic)\n",
    "plt.rcParams[\"figure.figsize\"] = [12,4]\n",
    "plt.bar(range(1,len(mean_ic_n)+1), mean_ic_n, align = 'center')\n",
    "plt.xlabel(\"key length\")\n",
    "plt.ylabel(\"average IC\")"
   ]
  },
  {
   "cell_type": "markdown",
   "metadata": {},
   "source": [
    "This suggests a key length of 8."
   ]
  },
  {
   "cell_type": "markdown",
   "metadata": {},
   "source": [
    " ### K2 - Frequency Analysis of Subsequences #1"
   ]
  },
  {
   "cell_type": "code",
   "execution_count": 70,
   "metadata": {
    "collapsed": false,
    "scrolled": false
   },
   "outputs": [
    {
     "data": {
      "image/png": "[encoded data removed]",
      "text/plain": [
       "<matplotlib.figure.Figure at 0x7f3112168d90>"
      ]
     },
     "metadata": {},
     "output_type": "display_data"
    }
   ],
   "source": [
    "# https://blog.dominodatalab.com/interactive-dashboards-in-jupyter/\n",
    "# http://ipywidgets.readthedocs.io/en/latest/examples/Using%20Interact.html\n",
    "from __future__ import division\n",
    "from matplotlib import pyplot as plt\n",
    "import numpy as np\n",
    "from ipywidgets import interact, interactive, fixed\n",
    "#import ipywidgets as widgets\n",
    "plt.rcParams[\"figure.figsize\"] = [12,16]\n",
    "\n",
    "def rotate(l, n):\n",
    "    return l[n:] + l[:n]\n",
    "\n",
    "alphabet = \"ABCDEFGHIJKLMNOPQRSTUVWXYZ\"\n",
    "\n",
    "key_length = 8\n",
    "\n",
    "g_english = [0.0736, 0.0148, 0.0445, 0.0302, 0.102, 0.0227, 0.0122, 0.0277, 0.0855, 0.000557, 0.00237, 0.0342, 0.0206, 0.0717, 0.103, 0.0246, 0.00181, 0.0735, 0.0608, 0.0889, 0.0392, 0.0153, 0.0173, 0.000557, 0.032, 0.000278]\n",
    "pfig = plt.subplot(key_length+1,1,1)\n",
    "plt.bar(range(len(alphabet)), g_english, tick_label = rotate(list(alphabet), 0), align = 'center', color = 'b')\n",
    "\n",
    "ctext_freq = []\n",
    "for i in range(key_length):\n",
    "    ctext_i = ctext[i::key_length]\n",
    "    ctext_freq.append(np.array([ctext_i.count(c)/len(ctext_i) for c in alphabet]))\n",
    "    \n",
    "    cfig = plt.subplot(key_length+1,1,i+2)\n",
    "    plt.bar(range(len(alphabet)), ctext_freq[i], tick_label = rotate(list(alphabet), 0), align = 'center', color = 'r')"
   ]
  },
  {
   "cell_type": "markdown",
   "metadata": {},
   "source": [
    "### K2 - Frequency Analysis of Subsequences #2"
   ]
  },
  {
   "cell_type": "markdown",
   "metadata": {},
   "source": [
    "Now, let's try that again, but use the cipher alphabet order instead."
   ]
  },
  {
   "cell_type": "code",
   "execution_count": 71,
   "metadata": {
    "collapsed": false,
    "scrolled": false
   },
   "outputs": [
    {
     "data": {
      "image/png": "[encoded data removed]",
      "text/plain": [
       "<matplotlib.figure.Figure at 0x7f3107a24890>"
      ]
     },
     "metadata": {},
     "output_type": "display_data"
    }
   ],
   "source": [
    "# https://blog.dominodatalab.com/interactive-dashboards-in-jupyter/\n",
    "# http://ipywidgets.readthedocs.io/en/latest/examples/Using%20Interact.html\n",
    "from __future__ import division\n",
    "from matplotlib import pyplot as plt\n",
    "import numpy as np\n",
    "from ipywidgets import interact, interactive, fixed\n",
    "#import ipywidgets as widgets\n",
    "plt.rcParams[\"figure.figsize\"] = [12,16]\n",
    "\n",
    "def rotate(l, n):\n",
    "    return l[n:] + l[:n]\n",
    "\n",
    "alphabet = \"ABCDEFGHIJKLMNOPQRSTUVWXYZ\"\n",
    "keyed_alphabet = compute_keyed_alphabet(\"KRYPTOS\")\n",
    "\n",
    "key_length = 8\n",
    "\n",
    "g_english = [0.0736, 0.0148, 0.0445, 0.0302, 0.102, 0.0227, 0.0122, 0.0277, 0.0855, 0.000557, 0.00237, 0.0342, 0.0206, 0.0717, 0.103, 0.0246, 0.00181, 0.0735, 0.0608, 0.0889, 0.0392, 0.0153, 0.0173, 0.000557, 0.032, 0.000278]\n",
    "g_english_keyed = [g_english[alphabet.find(c)] for c in keyed_alphabet]\n",
    "pfig = plt.subplot(key_length+1,1,1)\n",
    "plt.bar(range(len(alphabet)), g_english_keyed, tick_label = rotate(list(keyed_alphabet), 0), align = 'center', color = 'b')\n",
    "\n",
    "ctext_freq = []\n",
    "for i in range(key_length):\n",
    "    ctext_i = ctext[i::key_length]\n",
    "    ctext_freq.append(np.array([ctext_i.count(c)/len(ctext_i) for c in keyed_alphabet]))\n",
    "    \n",
    "    cfig = plt.subplot(key_length+1,1,i+2)\n",
    "    plt.bar(range(len(keyed_alphabet)), ctext_freq[i], tick_label = rotate(list(keyed_alphabet), 0), align = 'center', color = 'r')"
   ]
  },
  {
   "cell_type": "markdown",
   "metadata": {},
   "source": [
    "### K2 - Frequency Analysis of Subsequences #3"
   ]
  },
  {
   "cell_type": "markdown",
   "metadata": {},
   "source": [
    "For K2, it looks like it might be possible to align the frequency plots by hand to break the key. To make this easier, let's create plots with two concatenated alphabets. That way, we can print them and align them (or do this by yourself on graph paper of course)."
   ]
  },
  {
   "cell_type": "code",
   "execution_count": 73,
   "metadata": {
    "collapsed": false
   },
   "outputs": [
    {
     "data": {
      "image/png": "[encoded data removed]",
      "text/plain": [
       "<matplotlib.figure.Figure at 0x7f310c2eea10>"
      ]
     },
     "metadata": {},
     "output_type": "display_data"
    }
   ],
   "source": [
    "# https://blog.dominodatalab.com/interactive-dashboards-in-jupyter/\n",
    "# http://ipywidgets.readthedocs.io/en/latest/examples/Using%20Interact.html\n",
    "from __future__ import division\n",
    "from matplotlib import pyplot as plt\n",
    "import numpy as np\n",
    "from ipywidgets import interact, interactive, fixed\n",
    "#import ipywidgets as widgets\n",
    "plt.rcParams[\"figure.figsize\"] = [18,16]\n",
    "\n",
    "def rotate(l, n):\n",
    "    return l[n:] + l[:n]\n",
    "\n",
    "alphabet = \"ABCDEFGHIJKLMNOPQRSTUVWXYZ\"\n",
    "keyed_alphabet = compute_keyed_alphabet(\"KRYPTOS\")\n",
    "ncopies = 2\n",
    "\n",
    "key_length = 8\n",
    "\n",
    "g_english = [0.0736, 0.0148, 0.0445, 0.0302, 0.102, 0.0227, 0.0122, 0.0277, 0.0855, 0.000557, 0.00237, 0.0342, 0.0206, 0.0717, 0.103, 0.0246, 0.00181, 0.0735, 0.0608, 0.0889, 0.0392, 0.0153, 0.0173, 0.000557, 0.032, 0.000278]\n",
    "g_english_keyed = [g_english[alphabet.find(c)] for c in keyed_alphabet]\n",
    "pfig = plt.subplot(key_length+1,1,1)\n",
    "plt.bar(range(len(alphabet)*ncopies), g_english_keyed + [0]*26, tick_label = rotate(list(keyed_alphabet)*ncopies, 0), align = 'center', color = 'b')\n",
    "\n",
    "ctext_freq = []\n",
    "for i in range(key_length):\n",
    "    ctext_i = ctext[i::key_length]\n",
    "    ctext_freq.append(np.array([ctext_i.count(c)/len(ctext_i) for c in keyed_alphabet]))\n",
    "    \n",
    "    cfig = plt.subplot(key_length+1,1,i+2)\n",
    "    plt.bar(range(len(keyed_alphabet)*ncopies), list(ctext_freq[i])*ncopies, tick_label = rotate(list(keyed_alphabet)*ncopies, 0), align = 'center', color = 'r')"
   ]
  },
  {
   "cell_type": "markdown",
   "metadata": {},
   "source": [
    "Some of these could be guessed based on the alignment: at least the A and the first S seem reasonable to guess, giving A????S?? for the key, after which the possible candidate keys can be guessed or looked up, e.g. on [onelook.com](http://onelook.com/?w=a????s??&scwo=1&dm=cn).\n",
    "\n",
    "![abcissa.png](abscissa.png)"
   ]
  },
  {
   "cell_type": "markdown",
   "metadata": {},
   "source": [
    "### K2 - Vigenere Key is Unknown, Alphabet Key is Known"
   ]
  },
  {
   "cell_type": "code",
   "execution_count": 74,
   "metadata": {
    "collapsed": false
   },
   "outputs": [
    {
     "name": "stdout",
     "output_type": "stream",
     "text": [
      "================================================================================\n",
      "-107.207729249 klen 8 :\"ABSCISSA\", ITWASTOTALLYINVISIBLEHOWSTHATPOSSIBLE?THEYUSEDTHEEARTHSMAGNETICFIELDXTHEINFORMATIONWASGATHEREDANDTRANSMITTEDUNDERGRUUNDTOANUNKNOWNLOCATIONXDOESLANGLEYKNOWABOUTTHIS?THEYSHOULDITSBURIEDOUTTHERESOMEWHEREXWHOKNOWSTHEEXACTLOCATION?ONLYWWTHISWASHISLASTMESSAGEXTHIRTYEIGHTDEGREESFIFTYSEVENMINUTESSIXPOINTFIVESECONDSNORTHSEVENTYSEVENDEGREESEIGHTMINUTESFORTYFOURSECONDSWESTIDBYROWS\n"
     ]
    }
   ],
   "source": [
    "from itertools import permutations\n",
    "from ngram_score import ngram_score\n",
    "\n",
    "import re\n",
    "import pprint as pp\n",
    "\n",
    "qgram = ngram_score('ngrams/en_sherlock_4grams') # load our 4gram statistics\n",
    "trigram = ngram_score('ngrams/en_sherlock_3grams') # load our 3gram statistics\n",
    "\n",
    "# keep track of the 100 best keys\n",
    "N=100 \n",
    "L=42 # only process first L characters for speed, increase if needed for accuracy\n",
    "alphakey = \"KRYPTOS\"\n",
    "\n",
    "for KLEN in [8]: #range(3,16):    \n",
    "    print \"=\"*80\n",
    "    rec = nbest(N)\n",
    "    \n",
    "    # exhaustively test all possible letters for first 3 entries of the key and keep track of the N best ones\n",
    "    # if KLEN=7, this will test e.g. FOOAAAA and BARAAAA \n",
    "    for i in permutations('ABCDEFGHIJKLMNOPQRSTUVWXYZ',3):\n",
    "        i = \"\".join(i)\n",
    "        key = ''.join(i) + 'A'*(KLEN-len(i))\n",
    "        decrypted_ctext = keyed_vigenere(ctext[:L], key, alpha_key = alphakey, direction = -1)\n",
    "        score = 0\n",
    "        for j in range(0,len(ctext),KLEN):\n",
    "            score += trigram.score(decrypted_ctext[j:j+3])\n",
    "        rec.add((score,''.join(i), decrypted_ctext))\n",
    "    next_rec = nbest(N)\n",
    "    \n",
    "    # for the remaining KLEN-3 characters of the key,\n",
    "    for i in range(0,KLEN-3):\n",
    "        # go over the N best keys found so far...\n",
    "        for k in xrange(N):\n",
    "            # ...and determine the best next character of the key, while keeping best N keys so far\n",
    "            for c in 'ABCDEFGHIJKLMNOPQRSTUVWXYZ':\n",
    "                key = rec[k][1] + c\n",
    "                fullkey = key + 'A'*(KLEN-len(key))\n",
    "                decrypted_ctext = keyed_vigenere(ctext[:L], fullkey, alpha_key = alphakey, direction = -1)\n",
    "                score = 0\n",
    "                for j in range(0,len(ctext),KLEN):\n",
    "                    score += qgram.score(decrypted_ctext[j:j+len(key)])\n",
    "                next_rec.add((score, key, decrypted_ctext))\n",
    "        rec = next_rec\n",
    "        next_rec = nbest(N)\n",
    "       \n",
    "    # show the results\n",
    "    bestscore = rec[0][0]\n",
    "    bestkey = rec[0][1]    \n",
    "    #decrypted_ctext = rec[0][2]\n",
    "    # always show entire decrypted ctext, even if the above analysis is done only on part of the ctext, e.g. ctext[0:100]\n",
    "    decrypted_ctext = keyed_vigenere(ctext, bestkey, alpha_key = alphakey, direction = -1) \n",
    "    print bestscore, 'klen', KLEN, ':\"'+bestkey+'\",', decrypted_ctext\n",
    "    # uncomment the following lines to see top-10 results\n",
    "    #pp.pprint(rec.store[0:10])\n",
    "    #print '\\n'"
   ]
  },
  {
   "cell_type": "markdown",
   "metadata": {},
   "source": [
    "### K2 - Determining Message Boundaries"
   ]
  },
  {
   "cell_type": "code",
   "execution_count": 75,
   "metadata": {
    "collapsed": false
   },
   "outputs": [
    {
     "name": "stdout",
     "output_type": "stream",
     "text": [
      "VFPJUDEEHZWETZYVGWHKKQETGFQJNCEGGWHKK?DQMCPFQZDQMMIAGPFXHQRLGTIMVMZJANQLVKQEDAGDVFRPJUNGEUNAQZGZLECGYUXUEENJTBJLBQCRTBJDFHRRYIZETKZEMVDUFKSJHKFWHKUWQLSZFTIHHDDDUVH?DWKBFUFPWNTDFIYCUQZEREEVLDKFEZMOQQJLTTUGSYQPFEUNLAVIDXFLGGTEZ?FKZBSFDQVGOGIPUFXHHDRKFFHQNTGPUAECNUVPDJMQCLQUMUNEDFQELZZVRRGKFFVOEEXBDMVPNFQXEZLGREDNQFMPNZGLFLPMRJQYALMGNUVPDXVKPDQUMEBEDMHDAFMJGZNUPLGEWJLLAETGENDYAHROHNLSRHEOCPTEOIBIDYSHNAIACHTNREYULDSLLSLLNOHSNOSMRWXMNETPRNGATIHNRARPESLNNELEBLPIIACAEWMTWNDITEENRAHCTENEUDRETNHAEOETFOLSEDTIWENHAEIOYTEYQHEENCTAYCREIFTBRSPAMHHEWENATAMATEGYEERLBTEEFOASFIOTUETUAEOTOARMAEERTNRTIBSEDDNIAAHTTMSTEWPIEROAGRIEWFEBAECTDDHILCEIHSITEGOEAOSDDRYDLORITRKLMLEHAGTDHARDPNEOHMGFMFEUHEECDMRIPFEIMEHNLSSTTRTVDOHW?OBKRUOXOGHULBSOLIFBBWFLRVQQPRNGKSSOTWTQSJQSSEKZZWATJKLUDIAWINFBNYPVTTMZFPKWGDKZXTJCDIGKUHUAUEKCAR\n",
      "ITWASTOTALLYINVISIBLEHOWSTHATPOSSIBLE?THEYUSEDTHEEARTHSMAGNETICFIELDXTHEINFORMATIONWASGATHEREDANDTRANSMITTEDUNDERGRUUNDTOANUNKNOWNLOCATIONXDOESLANGLEYKNOWABOUTTHIS?THEYSHOULDITSBURIEDOUTTHERESOMEWHEREXWHOKNOWSTHEEXACTLOCATION?ONLYWWTHISWASHISLASTMESSAGEXTHIRTYEIGHTDEGREESFIFTYSEVENMINUTESSIXPOINTFIVESECONDSNORTHSEVENTYSEVENDEGREESEIGHTMINUTESFORTYFOURSECONDSWESTIDBYROWSPGRGRBQXSGBLUBTXRWUVZCRBYVWZGRBKRBUTUOUHCTWYEKDDEZOLGZZENLIPGOWVNGTMXCAFNRMHOKDFEOBVYEVBARKMOLEWIGRKXOTFNROQXOFTGTMVXGAKPZYISZDZPTUKLOFAZOSJVXTUFBYVGPWKQPMVCSWRNKQMFBATIODMXREKVOTGOOQDKXYVSZKZTCVIIOWHZOVIZRQEZOYFXGQWAYWVTTFBZROIXFZWPLQKOUXKOUSVLSTRZOKITTABCPYKBKBWPAVVRZZPYUNUEZQBVULYFETAZAUUBRQPUGYJBFSODSYSBOTYYFMKWSTBDOOTEKZWVUUATZAJ?WYLFIZLXOBFYYKXDASZNLSDQHHEHUGSNXKVILXGZBHWLOQMMIRURQEHPARHKGSRFQWGIXFMOUQHXTQMLVDKUCANHSIXSOQYKN\n"
     ]
    }
   ],
   "source": [
    "ctext = \"\".join(ctext_kryptos[2:])\n",
    "key = \"ABSCISSA\"\n",
    "alphakey = \"KRYPTOS\"\n",
    "print ctext\n",
    "print keyed_vigenere(ctext, key, alpha_key = alphakey, direction = -1)"
   ]
  },
  {
   "cell_type": "markdown",
   "metadata": {},
   "source": [
    "So K2 indeed seems to be just the remainder of the first panel."
   ]
  },
  {
   "cell_type": "code",
   "execution_count": 76,
   "metadata": {
    "collapsed": false
   },
   "outputs": [
    {
     "name": "stdout",
     "output_type": "stream",
     "text": [
      "VFPJUDEEHZWETZYVGWHKKQETGFQJNCEGGWHKK?DQMCPFQZDQMMIAGPFXHQRLGTIMVMZJANQLVKQEDAGDVFRPJUNGEUNAQZGZLECGYUXUEENJTBJLBQCRTBJDFHRRYIZETKZEMVDUFKSJHKFWHKUWQLSZFTIHHDDDUVH?DWKBFUFPWNTDFIYCUQZEREEVLDKFEZMOQQJLTTUGSYQPFEUNLAVIDXFLGGTEZ?FKZBSFDQVGOGIPUFXHHDRKFFHQNTGPUAECNUVPDJMQCLQUMUNEDFQELZZVRRGKFFVOEEXBDMVPNFQXEZLGREDNQFMPNZGLFLPMRJQYALMGNUVPDXVKPDQUMEBEDMHDAFMJGZNUPLGEWJLLAETG\n",
      "ITWASTOTALLYINVISIBLEHOWSTHATPOSSIBLE?THEYUSEDTHEEARTHSMAGNETICFIELDXTHEINFORMATIONWASGATHEREDANDTRANSMITTEDUNDERGRUUNDTOANUNKNOWNLOCATIONXDOESLANGLEYKNOWABOUTTHIS?THEYSHOULDITSBURIEDOUTTHERESOMEWHEREXWHOKNOWSTHEEXACTLOCATION?ONLYWWTHISWASHISLASTMESSAGEXTHIRTYEIGHTDEGREESFIFTYSEVENMINUTESSIXPOINTFIVESECONDSNORTHSEVENTYSEVENDEGREESEIGHTMINUTESFORTYFOURSECONDSWESTIDBYROWS\n"
     ]
    }
   ],
   "source": [
    "ctext_k2 = \"\".join(ctext_kryptos[2:14])\n",
    "\n",
    "key = \"ABSCISSA\"\n",
    "alphakey = \"KRYPTOS\"\n",
    "ptext_k2 = keyed_vigenere(ctext_k2, key, alpha_key = alphakey, direction = -1)\n",
    "\n",
    "print ctext_k2\n",
    "print ptext_k2"
   ]
  },
  {
   "cell_type": "markdown",
   "metadata": {},
   "source": [
    "### K2 - Determining Word Boundaries"
   ]
  },
  {
   "cell_type": "code",
   "execution_count": 77,
   "metadata": {
    "collapsed": false
   },
   "outputs": [
    {
     "name": "stdout",
     "output_type": "stream",
     "text": [
      "(-319.3567312524284, ['IT', 'WAS', 'TOTALLY', 'INVISIBLE', 'HOWS', 'THAT', 'POSSIBLE', '?', 'THEY', 'USED', 'THE', 'EARTHS', 'MAGNETIC', 'FIELD', 'XTHE', 'INFORMATION', 'WAS', 'GATHERED', 'AND', 'TRANSMITTED', 'UNDER', 'GRU', 'UND', 'TO', 'AN', 'UNKNOWN', 'LOCATION', 'XD', 'OES', 'LANGLEY', 'KNOW', 'ABOUT', 'THIS', '?', 'THEY', 'SHOULD', 'ITS', 'BURIED', 'OUT', 'THERE', 'SOMEWHERE', 'XW', 'HO', 'KNOWS', 'THE', 'EXACT', 'LOCATION', '?ONLYWW', 'THIS', 'WAS', 'HIS', 'LAST', 'MESSAG', 'EX', 'THIRTY', 'EIGHT', 'DEGREES', 'FIFTY', 'SEVEN', 'MINUTES', 'SIX', 'POINT', 'FIVE', 'SECONDS', 'NORTH', 'SEVENTY', 'SEVEN', 'DEGREES', 'EIGHT', 'MINUTES', 'FORTY', 'FOUR', 'SECONDS', 'WEST', 'ID', 'BY', 'ROWS'])\n"
     ]
    }
   ],
   "source": [
    "from word_score import word_score\n",
    "fitness = word_score()\n",
    "print fitness.score(ptext_k2)"
   ]
  },
  {
   "cell_type": "markdown",
   "metadata": {},
   "source": [
    "### K2 - Correction to Ciphertext"
   ]
  },
  {
   "cell_type": "markdown",
   "metadata": {},
   "source": [
    "- http://www.elonka.com/kryptos/CorrectedK2Announcement.html"
   ]
  },
  {
   "cell_type": "code",
   "execution_count": 78,
   "metadata": {
    "collapsed": false
   },
   "outputs": [
    {
     "name": "stdout",
     "output_type": "stream",
     "text": [
      "VFPJUDEEHZWETZYVGWHKKQETGFQJNCEGGWHKK?DQMCPFQZDQMMIAGPFXHQRLGTIMVMZJANQLVKQEDAGDVFRPJUNGEUNAQZGZLECGYUXUEENJTBJLBQCRTBJDFHRRYIZETKZEMVDUFKSJHKFWHKUWQLSZFTIHHDDDUVH?DWKBFUFPWNTDFIYCUQZEREEVLDKFEZMOQQJLTTUGSYQPFEUNLAVIDXFLGGTEZ?FKZBSFDQVGOGIPUFXHHDRKFFHQNTGPUAECNUVPDJMQCLQUMUNEDFQELZZVRRGKFFVOEEXBDMVPNFQXEZLGREDNQFMPNZGLFLPMRJQYALMGNUVPDXVKPDQUMEBEDMHDAFMJGZNUPLGESWJLLAETG\n",
      "ITWASTOTALLYINVISIBLEHOWSTHATPOSSIBLE?THEYUSEDTHEEARTHSMAGNETICFIELDXTHEINFORMATIONWASGATHEREDANDTRANSMITTEDUNDERGRUUNDTOANUNKNOWNLOCATIONXDOESLANGLEYKNOWABOUTTHIS?THEYSHOULDITSBURIEDOUTTHERESOMEWHEREXWHOKNOWSTHEEXACTLOCATION?ONLYWWTHISWASHISLASTMESSAGEXTHIRTYEIGHTDEGREESFIFTYSEVENMINUTESSIXPOINTFIVESECONDSNORTHSEVENTYSEVENDEGREESEIGHTMINUTESFORTYFOURSECONDSWESTXLAYERTWO\n"
     ]
    }
   ],
   "source": [
    "ctext_k2_corrected = ctext_k2.replace(\"WJLLAETG\", \"SWJLLAETG\") # insert missing character near the end\n",
    "\n",
    "key = \"ABSCISSA\"\n",
    "alphakey = \"KRYPTOS\"\n",
    "ptext_k2_corrected = keyed_vigenere(ctext_k2_corrected, key, alpha_key = alphakey, direction = -1)\n",
    "\n",
    "print ctext_k2_corrected\n",
    "print ptext_k2_corrected"
   ]
  },
  {
   "cell_type": "code",
   "execution_count": 79,
   "metadata": {
    "collapsed": false
   },
   "outputs": [
    {
     "name": "stdout",
     "output_type": "stream",
     "text": [
      "(-321.0621473857477, ['IT', 'WAS', 'TOTALLY', 'INVISIBLE', 'HOWS', 'THAT', 'POSSIBLE', '?', 'THEY', 'USED', 'THE', 'EARTHS', 'MAGNETIC', 'FIELD', 'XTHE', 'INFORMATION', 'WAS', 'GATHERED', 'AND', 'TRANSMITTED', 'UNDER', 'GRU', 'UND', 'TO', 'AN', 'UNKNOWN', 'LOCATION', 'XD', 'OES', 'LANGLEY', 'KNOW', 'ABOUT', 'THIS', '?', 'THEY', 'SHOULD', 'ITS', 'BURIED', 'OUT', 'THERE', 'SOMEWHERE', 'XW', 'HO', 'KNOWS', 'THE', 'EXACT', 'LOCATION', '?ONLYWW', 'THIS', 'WAS', 'HIS', 'LAST', 'MESSAG', 'EX', 'THIRTY', 'EIGHT', 'DEGREES', 'FIFTY', 'SEVEN', 'MINUTES', 'SIX', 'POINT', 'FIVE', 'SECONDS', 'NORTH', 'SEVENTY', 'SEVEN', 'DEGREES', 'EIGHT', 'MINUTES', 'FORTY', 'FOUR', 'SECONDS', 'WE', 'STX', 'LAYER', 'TWO'])\n"
     ]
    }
   ],
   "source": [
    "from word_score import word_score\n",
    "fitness = word_score()\n",
    "print fitness.score(ptext_k2_corrected)"
   ]
  },
  {
   "cell_type": "markdown",
   "metadata": {},
   "source": [
    "    IT WAS TOTALLY INVISIBLE HOWS THAT POSSIBLE? THEY USED THE EARTHS MAGNETIC FIELD X\n",
    "    THE INFORMATION WAS GATHERED AND TRANSMITTED UNDERGRUUND TO AN UNKNOWN LOCATION X\n",
    "    DOES LANGLEY KNOW ABOUT THIS? THEY SHOULD ITS BURIED OUT THERE SOMEWHERE X\n",
    "    WHO KNOWS THE EXACT LOCATION? ONLY WW THIS WAS HIS LAST MESSAGE X \n",
    "    THIRTY EIGHT DEGREES FIFTY SEVEN MINUTES SIX POINT FIVE SECONDS NORTH SEVENTY SEVEN DEGREES EIGHT MINUTES FORTY FOUR SECONDS WEST X \n",
    "    LAYER TWO"
   ]
  }
 ],
 "metadata": {
  "kernelspec": {
   "display_name": "Python [Root]",
   "language": "python",
   "name": "Python [Root]"
  },
  "language_info": {
   "codemirror_mode": {
    "name": "ipython",
    "version": 2
   },
   "file_extension": ".py",
   "mimetype": "text/x-python",
   "name": "python",
   "nbconvert_exporter": "python",
   "pygments_lexer": "ipython2",
   "version": "2.7.12"
  },
  "toc": {
   "colors": {
    "hover_highlight": "#DAA520",
    "running_highlight": "#FF0000",
    "selected_highlight": "#FFD700"
   },
   "moveMenuLeft": true,
   "nav_menu": {
    "height": "389px",
    "width": "252px"
   },
   "navigate_menu": true,
   "number_sections": true,
   "sideBar": true,
   "threshold": 4,
   "toc_cell": true,
   "toc_position": {
    "height": "860px",
    "left": "0px",
    "right": "1284.19px",
    "top": "106px",
    "width": "385px"
   },
   "toc_section_display": "block",
   "toc_window_display": true
  }
 },
 "nbformat": 4,
 "nbformat_minor": 0
}
